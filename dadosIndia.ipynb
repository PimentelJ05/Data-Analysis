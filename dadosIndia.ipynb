{
 "cells": [
  {
   "cell_type": "markdown",
   "metadata": {},
   "source": [
    "O objetivo desta análise é identificar os fatores que levam ao divórcio, utilizando uma base de dados do Kaggle com informações sobre casamentos e divórcios na Índia.\n",
    "\n",
    "Bibliotecas usadas: Pandas e Plotly"
   ]
  },
  {
   "cell_type": "code",
   "execution_count": 2,
   "metadata": {},
   "outputs": [],
   "source": [
    "# Primeiro passo: Importar a base de dados\n",
    "\n",
    "import pandas as pd\n",
    "\n",
    "tabela = pd.read_csv(\"marriage_divorce_india_with_id.csv\")"
   ]
  },
  {
   "cell_type": "code",
   "execution_count": 3,
   "metadata": {},
   "outputs": [
    {
     "data": {
      "text/html": [
       "<div>\n",
       "<style scoped>\n",
       "    .dataframe tbody tr th:only-of-type {\n",
       "        vertical-align: middle;\n",
       "    }\n",
       "\n",
       "    .dataframe tbody tr th {\n",
       "        vertical-align: top;\n",
       "    }\n",
       "\n",
       "    .dataframe thead th {\n",
       "        text-align: right;\n",
       "    }\n",
       "</style>\n",
       "<table border=\"1\" class=\"dataframe\">\n",
       "  <thead>\n",
       "    <tr style=\"text-align: right;\">\n",
       "      <th></th>\n",
       "      <th>Marriage Duration (Years)</th>\n",
       "      <th>Age at Marriage</th>\n",
       "      <th>Marriage Type</th>\n",
       "      <th>Education Level</th>\n",
       "      <th>Income Level (INR per month)</th>\n",
       "      <th>Caste/Religion</th>\n",
       "      <th>Urban/Rural</th>\n",
       "      <th>Family Involvement</th>\n",
       "      <th>Children</th>\n",
       "      <th>Divorce Status</th>\n",
       "    </tr>\n",
       "  </thead>\n",
       "  <tbody>\n",
       "    <tr>\n",
       "      <th>0</th>\n",
       "      <td>39</td>\n",
       "      <td>29</td>\n",
       "      <td>Love</td>\n",
       "      <td>Secondary</td>\n",
       "      <td>113464</td>\n",
       "      <td>Hindu</td>\n",
       "      <td>Rural</td>\n",
       "      <td>Moderate</td>\n",
       "      <td>2</td>\n",
       "      <td>No</td>\n",
       "    </tr>\n",
       "    <tr>\n",
       "      <th>1</th>\n",
       "      <td>29</td>\n",
       "      <td>34</td>\n",
       "      <td>Arranged</td>\n",
       "      <td>No Education</td>\n",
       "      <td>18682</td>\n",
       "      <td>Jain</td>\n",
       "      <td>Rural</td>\n",
       "      <td>Moderate</td>\n",
       "      <td>0</td>\n",
       "      <td>Yes</td>\n",
       "    </tr>\n",
       "    <tr>\n",
       "      <th>2</th>\n",
       "      <td>15</td>\n",
       "      <td>34</td>\n",
       "      <td>Love</td>\n",
       "      <td>No Education</td>\n",
       "      <td>159455</td>\n",
       "      <td>Muslim</td>\n",
       "      <td>Urban</td>\n",
       "      <td>Moderate</td>\n",
       "      <td>4</td>\n",
       "      <td>Yes</td>\n",
       "    </tr>\n",
       "    <tr>\n",
       "      <th>3</th>\n",
       "      <td>8</td>\n",
       "      <td>27</td>\n",
       "      <td>Arranged</td>\n",
       "      <td>Postgraduate</td>\n",
       "      <td>63160</td>\n",
       "      <td>Jain</td>\n",
       "      <td>Urban</td>\n",
       "      <td>High</td>\n",
       "      <td>1</td>\n",
       "      <td>Yes</td>\n",
       "    </tr>\n",
       "    <tr>\n",
       "      <th>4</th>\n",
       "      <td>21</td>\n",
       "      <td>34</td>\n",
       "      <td>Love</td>\n",
       "      <td>Secondary</td>\n",
       "      <td>28666</td>\n",
       "      <td>Jain</td>\n",
       "      <td>Urban</td>\n",
       "      <td>High</td>\n",
       "      <td>1</td>\n",
       "      <td>Yes</td>\n",
       "    </tr>\n",
       "    <tr>\n",
       "      <th>...</th>\n",
       "      <td>...</td>\n",
       "      <td>...</td>\n",
       "      <td>...</td>\n",
       "      <td>...</td>\n",
       "      <td>...</td>\n",
       "      <td>...</td>\n",
       "      <td>...</td>\n",
       "      <td>...</td>\n",
       "      <td>...</td>\n",
       "      <td>...</td>\n",
       "    </tr>\n",
       "    <tr>\n",
       "      <th>1195</th>\n",
       "      <td>38</td>\n",
       "      <td>22</td>\n",
       "      <td>Love</td>\n",
       "      <td>Primary</td>\n",
       "      <td>26638</td>\n",
       "      <td>Muslim</td>\n",
       "      <td>Urban</td>\n",
       "      <td>High</td>\n",
       "      <td>4</td>\n",
       "      <td>No</td>\n",
       "    </tr>\n",
       "    <tr>\n",
       "      <th>1196</th>\n",
       "      <td>34</td>\n",
       "      <td>21</td>\n",
       "      <td>Arranged</td>\n",
       "      <td>Postgraduate</td>\n",
       "      <td>6073</td>\n",
       "      <td>Hindu</td>\n",
       "      <td>Rural</td>\n",
       "      <td>Moderate</td>\n",
       "      <td>2</td>\n",
       "      <td>No</td>\n",
       "    </tr>\n",
       "    <tr>\n",
       "      <th>1197</th>\n",
       "      <td>12</td>\n",
       "      <td>23</td>\n",
       "      <td>Arranged</td>\n",
       "      <td>Postgraduate</td>\n",
       "      <td>182583</td>\n",
       "      <td>Other</td>\n",
       "      <td>Rural</td>\n",
       "      <td>Moderate</td>\n",
       "      <td>3</td>\n",
       "      <td>Yes</td>\n",
       "    </tr>\n",
       "    <tr>\n",
       "      <th>1198</th>\n",
       "      <td>19</td>\n",
       "      <td>31</td>\n",
       "      <td>Arranged</td>\n",
       "      <td>Secondary</td>\n",
       "      <td>34320</td>\n",
       "      <td>Christian</td>\n",
       "      <td>Rural</td>\n",
       "      <td>Moderate</td>\n",
       "      <td>4</td>\n",
       "      <td>No</td>\n",
       "    </tr>\n",
       "    <tr>\n",
       "      <th>1199</th>\n",
       "      <td>37</td>\n",
       "      <td>26</td>\n",
       "      <td>Love</td>\n",
       "      <td>No Education</td>\n",
       "      <td>39924</td>\n",
       "      <td>Jain</td>\n",
       "      <td>Rural</td>\n",
       "      <td>Moderate</td>\n",
       "      <td>0</td>\n",
       "      <td>No</td>\n",
       "    </tr>\n",
       "  </tbody>\n",
       "</table>\n",
       "<p>1200 rows × 10 columns</p>\n",
       "</div>"
      ],
      "text/plain": [
       "      Marriage Duration (Years)  Age at Marriage Marriage Type  \\\n",
       "0                            39               29          Love   \n",
       "1                            29               34      Arranged   \n",
       "2                            15               34          Love   \n",
       "3                             8               27      Arranged   \n",
       "4                            21               34          Love   \n",
       "...                         ...              ...           ...   \n",
       "1195                         38               22          Love   \n",
       "1196                         34               21      Arranged   \n",
       "1197                         12               23      Arranged   \n",
       "1198                         19               31      Arranged   \n",
       "1199                         37               26          Love   \n",
       "\n",
       "     Education Level  Income Level (INR per month) Caste/Religion Urban/Rural  \\\n",
       "0          Secondary                        113464          Hindu       Rural   \n",
       "1       No Education                         18682           Jain       Rural   \n",
       "2       No Education                        159455         Muslim       Urban   \n",
       "3       Postgraduate                         63160           Jain       Urban   \n",
       "4          Secondary                         28666           Jain       Urban   \n",
       "...              ...                           ...            ...         ...   \n",
       "1195         Primary                         26638         Muslim       Urban   \n",
       "1196    Postgraduate                          6073          Hindu       Rural   \n",
       "1197    Postgraduate                        182583          Other       Rural   \n",
       "1198       Secondary                         34320      Christian       Rural   \n",
       "1199    No Education                         39924           Jain       Rural   \n",
       "\n",
       "     Family Involvement  Children Divorce Status  \n",
       "0              Moderate         2             No  \n",
       "1              Moderate         0            Yes  \n",
       "2              Moderate         4            Yes  \n",
       "3                  High         1            Yes  \n",
       "4                  High         1            Yes  \n",
       "...                 ...       ...            ...  \n",
       "1195               High         4             No  \n",
       "1196           Moderate         2             No  \n",
       "1197           Moderate         3            Yes  \n",
       "1198           Moderate         4             No  \n",
       "1199           Moderate         0             No  \n",
       "\n",
       "[1200 rows x 10 columns]"
      ]
     },
     "metadata": {},
     "output_type": "display_data"
    }
   ],
   "source": [
    "# Segundo passo: Visualizar a base de dados\n",
    "\n",
    "# Mas antes vamos eliminar as colunas que não são necessárias para a análise\n",
    "tabela = tabela.drop(columns = \"Unique ID\")\n",
    "\n",
    "display(tabela)"
   ]
  },
  {
   "cell_type": "code",
   "execution_count": 4,
   "metadata": {},
   "outputs": [
    {
     "name": "stdout",
     "output_type": "stream",
     "text": [
      "<class 'pandas.core.frame.DataFrame'>\n",
      "RangeIndex: 1200 entries, 0 to 1199\n",
      "Data columns (total 10 columns):\n",
      " #   Column                        Non-Null Count  Dtype \n",
      "---  ------                        --------------  ----- \n",
      " 0   Marriage Duration (Years)     1200 non-null   int64 \n",
      " 1   Age at Marriage               1200 non-null   int64 \n",
      " 2   Marriage Type                 1200 non-null   object\n",
      " 3   Education Level               1200 non-null   object\n",
      " 4   Income Level (INR per month)  1200 non-null   int64 \n",
      " 5   Caste/Religion                1200 non-null   object\n",
      " 6   Urban/Rural                   1200 non-null   object\n",
      " 7   Family Involvement            1200 non-null   object\n",
      " 8   Children                      1200 non-null   int64 \n",
      " 9   Divorce Status                1200 non-null   object\n",
      "dtypes: int64(4), object(6)\n",
      "memory usage: 93.9+ KB\n"
     ]
    },
    {
     "data": {
      "text/plain": [
       "None"
      ]
     },
     "metadata": {},
     "output_type": "display_data"
    }
   ],
   "source": [
    "# Passo três: Tratar a base de dados\n",
    "\n",
    "# Visualizar os valores vazios\n",
    "display(tabela.info())"
   ]
  },
  {
   "cell_type": "code",
   "execution_count": 6,
   "metadata": {},
   "outputs": [
    {
     "data": {
      "text/plain": [
       "Divorce Status\n",
       "No     826\n",
       "Yes    374\n",
       "Name: count, dtype: int64"
      ]
     },
     "metadata": {},
     "output_type": "display_data"
    },
    {
     "data": {
      "text/plain": [
       "Divorce Status\n",
       "No     0.688333\n",
       "Yes    0.311667\n",
       "Name: proportion, dtype: float64"
      ]
     },
     "metadata": {},
     "output_type": "display_data"
    }
   ],
   "source": [
    "# Agora vamos começar analisando a coluna de Divorce Status\n",
    "\n",
    "# Contar quantos divórcios existem\n",
    "display(tabela[\"Divorce Status\"].value_counts())\n",
    "\n",
    "# Não é necessário nessa analise, mas vamos analisar a porcentagem \n",
    "display(tabela[\"Divorce Status\"].value_counts(normalize = True))"
   ]
  },
  {
   "cell_type": "code",
   "execution_count": 7,
   "metadata": {},
   "outputs": [
    {
     "data": {
      "application/vnd.plotly.v1+json": {
       "config": {
        "plotlyServerURL": "https://plot.ly"
       },
       "data": [
        {
         "alignmentgroup": "True",
         "bingroup": "x",
         "hovertemplate": "Divorce Status=No<br>Marriage Duration (Years)=%{x}<br>count=%{y}<extra></extra>",
         "legendgroup": "No",
         "marker": {
          "color": "#636efa",
          "pattern": {
           "shape": ""
          }
         },
         "name": "No",
         "offsetgroup": "No",
         "orientation": "v",
         "showlegend": true,
         "texttemplate": "%{value}",
         "type": "histogram",
         "x": [
          39,
          39,
          19,
          23,
          24,
          36,
          24,
          22,
          2,
          24,
          30,
          2,
          33,
          25,
          27,
          16,
          7,
          21,
          9,
          39,
          25,
          9,
          26,
          28,
          8,
          35,
          14,
          36,
          4,
          2,
          4,
          29,
          18,
          26,
          10,
          14,
          15,
          8,
          14,
          16,
          24,
          26,
          25,
          29,
          1,
          25,
          7,
          9,
          24,
          1,
          8,
          24,
          11,
          17,
          8,
          35,
          35,
          33,
          5,
          39,
          28,
          7,
          9,
          12,
          34,
          23,
          37,
          22,
          27,
          1,
          35,
          14,
          3,
          1,
          5,
          39,
          27,
          9,
          15,
          26,
          13,
          32,
          4,
          30,
          23,
          39,
          15,
          29,
          36,
          22,
          6,
          28,
          28,
          30,
          28,
          39,
          1,
          13,
          3,
          39,
          6,
          8,
          27,
          37,
          33,
          24,
          15,
          32,
          12,
          39,
          3,
          37,
          17,
          2,
          28,
          23,
          37,
          33,
          1,
          2,
          26,
          32,
          6,
          32,
          4,
          11,
          17,
          38,
          24,
          5,
          6,
          11,
          9,
          6,
          16,
          29,
          3,
          36,
          19,
          26,
          3,
          32,
          7,
          33,
          18,
          1,
          28,
          23,
          30,
          35,
          7,
          26,
          2,
          1,
          12,
          5,
          32,
          9,
          35,
          19,
          16,
          3,
          20,
          24,
          24,
          11,
          38,
          20,
          25,
          35,
          25,
          29,
          18,
          2,
          35,
          16,
          36,
          4,
          14,
          21,
          8,
          7,
          17,
          22,
          22,
          30,
          38,
          27,
          27,
          34,
          21,
          33,
          33,
          19,
          4,
          35,
          28,
          30,
          29,
          6,
          35,
          24,
          29,
          31,
          35,
          33,
          21,
          32,
          23,
          3,
          25,
          31,
          3,
          24,
          23,
          2,
          27,
          2,
          26,
          29,
          26,
          35,
          25,
          24,
          8,
          14,
          12,
          28,
          34,
          2,
          32,
          22,
          25,
          22,
          22,
          6,
          37,
          33,
          8,
          5,
          4,
          32,
          30,
          35,
          16,
          30,
          19,
          17,
          19,
          26,
          37,
          23,
          9,
          12,
          34,
          32,
          1,
          16,
          39,
          22,
          29,
          3,
          12,
          16,
          37,
          22,
          29,
          28,
          30,
          5,
          12,
          16,
          26,
          21,
          39,
          30,
          37,
          23,
          31,
          19,
          32,
          1,
          16,
          2,
          28,
          27,
          20,
          35,
          33,
          37,
          12,
          3,
          33,
          10,
          29,
          12,
          31,
          2,
          23,
          17,
          26,
          29,
          26,
          10,
          26,
          7,
          29,
          36,
          10,
          37,
          24,
          35,
          35,
          36,
          18,
          39,
          32,
          23,
          37,
          12,
          25,
          20,
          25,
          22,
          13,
          19,
          12,
          19,
          12,
          7,
          14,
          16,
          35,
          12,
          25,
          21,
          23,
          16,
          39,
          39,
          14,
          5,
          35,
          23,
          29,
          11,
          12,
          9,
          10,
          17,
          7,
          13,
          27,
          2,
          5,
          29,
          38,
          8,
          22,
          17,
          7,
          25,
          4,
          31,
          19,
          27,
          26,
          19,
          39,
          3,
          13,
          28,
          8,
          39,
          3,
          13,
          28,
          25,
          38,
          6,
          32,
          21,
          16,
          21,
          11,
          37,
          36,
          35,
          20,
          18,
          14,
          15,
          31,
          3,
          16,
          11,
          10,
          28,
          8,
          28,
          28,
          37,
          36,
          27,
          17,
          20,
          13,
          28,
          29,
          13,
          35,
          6,
          18,
          25,
          2,
          10,
          30,
          5,
          1,
          18,
          32,
          11,
          21,
          26,
          13,
          33,
          35,
          1,
          21,
          6,
          28,
          17,
          5,
          5,
          38,
          3,
          23,
          37,
          10,
          19,
          17,
          14,
          9,
          1,
          13,
          4,
          1,
          32,
          34,
          39,
          34,
          12,
          1,
          30,
          30,
          37,
          21,
          14,
          2,
          11,
          39,
          38,
          34,
          15,
          34,
          15,
          30,
          17,
          5,
          29,
          4,
          10,
          17,
          17,
          20,
          5,
          6,
          2,
          13,
          11,
          23,
          16,
          31,
          11,
          16,
          8,
          4,
          4,
          25,
          3,
          32,
          27,
          19,
          21,
          28,
          6,
          5,
          12,
          14,
          26,
          27,
          26,
          17,
          26,
          36,
          1,
          8,
          35,
          15,
          22,
          14,
          26,
          28,
          23,
          14,
          24,
          2,
          14,
          7,
          23,
          18,
          37,
          28,
          10,
          39,
          17,
          22,
          26,
          13,
          4,
          10,
          3,
          18,
          36,
          6,
          26,
          6,
          37,
          33,
          21,
          6,
          4,
          30,
          30,
          24,
          9,
          3,
          31,
          37,
          36,
          31,
          6,
          20,
          28,
          11,
          4,
          15,
          30,
          38,
          2,
          11,
          26,
          19,
          33,
          12,
          1,
          14,
          38,
          37,
          36,
          13,
          3,
          33,
          5,
          23,
          2,
          13,
          2,
          20,
          1,
          37,
          9,
          17,
          11,
          24,
          5,
          14,
          11,
          9,
          34,
          35,
          35,
          22,
          29,
          11,
          37,
          21,
          5,
          19,
          14,
          26,
          4,
          25,
          25,
          18,
          39,
          14,
          32,
          38,
          33,
          23,
          15,
          25,
          17,
          33,
          2,
          14,
          39,
          6,
          7,
          15,
          33,
          30,
          29,
          37,
          27,
          33,
          22,
          2,
          10,
          5,
          10,
          33,
          13,
          36,
          24,
          15,
          29,
          8,
          29,
          4,
          12,
          2,
          31,
          36,
          36,
          26,
          27,
          5,
          20,
          11,
          10,
          6,
          26,
          12,
          26,
          18,
          25,
          33,
          36,
          4,
          5,
          37,
          8,
          29,
          14,
          22,
          11,
          23,
          1,
          37,
          21,
          26,
          23,
          21,
          9,
          9,
          26,
          25,
          38,
          2,
          7,
          18,
          27,
          27,
          25,
          6,
          33,
          29,
          22,
          26,
          28,
          21,
          7,
          20,
          20,
          22,
          1,
          32,
          13,
          30,
          19,
          30,
          29,
          18,
          1,
          14,
          2,
          28,
          30,
          38,
          4,
          1,
          8,
          29,
          39,
          3,
          32,
          33,
          23,
          28,
          32,
          7,
          29,
          8,
          1,
          24,
          23,
          8,
          37,
          3,
          28,
          8,
          34,
          35,
          24,
          4,
          37,
          21,
          14,
          7,
          33,
          23,
          19,
          1,
          5,
          20,
          11,
          2,
          3,
          12,
          5,
          37,
          38,
          30,
          9,
          34,
          35,
          22,
          24,
          10,
          30,
          32,
          9,
          39,
          9,
          22,
          26,
          34,
          37,
          11,
          6,
          18,
          21,
          36,
          38,
          37,
          25,
          38,
          23,
          22,
          21,
          31,
          27,
          34,
          12,
          7,
          10,
          17,
          26,
          21,
          28,
          1,
          36,
          26,
          29,
          21,
          11,
          11,
          36,
          35,
          34,
          24,
          22,
          33,
          36,
          20,
          19,
          35,
          17,
          34,
          9,
          26,
          2,
          9,
          17,
          1,
          25,
          25,
          39,
          37,
          30,
          38,
          34,
          19,
          37
         ],
         "xaxis": "x",
         "yaxis": "y"
        },
        {
         "alignmentgroup": "True",
         "bingroup": "x",
         "hovertemplate": "Divorce Status=Yes<br>Marriage Duration (Years)=%{x}<br>count=%{y}<extra></extra>",
         "legendgroup": "Yes",
         "marker": {
          "color": "#EF553B",
          "pattern": {
           "shape": ""
          }
         },
         "name": "Yes",
         "offsetgroup": "Yes",
         "orientation": "v",
         "showlegend": true,
         "texttemplate": "%{value}",
         "type": "histogram",
         "x": [
          29,
          15,
          8,
          21,
          11,
          11,
          3,
          38,
          21,
          12,
          22,
          28,
          15,
          3,
          37,
          18,
          4,
          14,
          2,
          20,
          7,
          17,
          6,
          34,
          36,
          31,
          23,
          21,
          18,
          15,
          8,
          33,
          24,
          35,
          35,
          37,
          26,
          14,
          15,
          32,
          39,
          37,
          13,
          32,
          7,
          28,
          2,
          20,
          11,
          25,
          33,
          27,
          9,
          32,
          24,
          2,
          2,
          32,
          19,
          34,
          22,
          16,
          33,
          20,
          19,
          20,
          39,
          11,
          25,
          31,
          16,
          37,
          33,
          8,
          36,
          35,
          18,
          33,
          33,
          20,
          3,
          33,
          12,
          38,
          8,
          30,
          28,
          5,
          17,
          37,
          33,
          18,
          32,
          22,
          17,
          33,
          9,
          39,
          13,
          7,
          36,
          20,
          1,
          16,
          23,
          15,
          23,
          15,
          39,
          6,
          13,
          28,
          26,
          1,
          1,
          25,
          5,
          26,
          14,
          5,
          26,
          36,
          33,
          10,
          5,
          36,
          34,
          10,
          5,
          4,
          24,
          16,
          32,
          24,
          12,
          33,
          1,
          13,
          35,
          8,
          34,
          4,
          11,
          36,
          25,
          21,
          9,
          24,
          32,
          13,
          23,
          35,
          30,
          17,
          36,
          9,
          28,
          31,
          19,
          5,
          36,
          31,
          18,
          38,
          9,
          37,
          19,
          1,
          36,
          6,
          39,
          10,
          28,
          20,
          1,
          33,
          19,
          1,
          23,
          12,
          32,
          16,
          8,
          38,
          12,
          24,
          36,
          26,
          8,
          28,
          9,
          33,
          5,
          33,
          25,
          22,
          27,
          34,
          31,
          37,
          10,
          21,
          28,
          31,
          8,
          26,
          3,
          5,
          17,
          23,
          15,
          38,
          34,
          18,
          30,
          27,
          38,
          33,
          24,
          10,
          24,
          34,
          3,
          29,
          32,
          5,
          18,
          22,
          21,
          1,
          26,
          34,
          9,
          22,
          30,
          26,
          3,
          38,
          35,
          15,
          25,
          39,
          25,
          17,
          20,
          25,
          22,
          34,
          8,
          19,
          37,
          34,
          22,
          6,
          11,
          31,
          24,
          2,
          6,
          15,
          8,
          26,
          5,
          6,
          4,
          20,
          20,
          26,
          11,
          6,
          10,
          10,
          9,
          15,
          38,
          35,
          30,
          31,
          12,
          1,
          8,
          14,
          30,
          35,
          37,
          8,
          33,
          6,
          3,
          8,
          29,
          39,
          27,
          36,
          38,
          33,
          4,
          38,
          31,
          5,
          27,
          38,
          8,
          23,
          13,
          12,
          28,
          31,
          9,
          36,
          1,
          15,
          10,
          35,
          26,
          11,
          34,
          17,
          24,
          7,
          24,
          17,
          28,
          7,
          23,
          32,
          29,
          30,
          16,
          19,
          10,
          10,
          19,
          34,
          3,
          33,
          32,
          14,
          32,
          16,
          31,
          18,
          7,
          10,
          21,
          19,
          36,
          29,
          18,
          2,
          23,
          20,
          17,
          23,
          17,
          17,
          14,
          2,
          25,
          4,
          29,
          23,
          34,
          17,
          12,
          27,
          6,
          2,
          39,
          5,
          9,
          35,
          3,
          12
         ],
         "xaxis": "x",
         "yaxis": "y"
        }
       ],
       "layout": {
        "barmode": "relative",
        "legend": {
         "title": {
          "text": "Divorce Status"
         },
         "tracegroupgap": 0
        },
        "margin": {
         "t": 60
        },
        "template": {
         "data": {
          "bar": [
           {
            "error_x": {
             "color": "#2a3f5f"
            },
            "error_y": {
             "color": "#2a3f5f"
            },
            "marker": {
             "line": {
              "color": "#E5ECF6",
              "width": 0.5
             },
             "pattern": {
              "fillmode": "overlay",
              "size": 10,
              "solidity": 0.2
             }
            },
            "type": "bar"
           }
          ],
          "barpolar": [
           {
            "marker": {
             "line": {
              "color": "#E5ECF6",
              "width": 0.5
             },
             "pattern": {
              "fillmode": "overlay",
              "size": 10,
              "solidity": 0.2
             }
            },
            "type": "barpolar"
           }
          ],
          "carpet": [
           {
            "aaxis": {
             "endlinecolor": "#2a3f5f",
             "gridcolor": "white",
             "linecolor": "white",
             "minorgridcolor": "white",
             "startlinecolor": "#2a3f5f"
            },
            "baxis": {
             "endlinecolor": "#2a3f5f",
             "gridcolor": "white",
             "linecolor": "white",
             "minorgridcolor": "white",
             "startlinecolor": "#2a3f5f"
            },
            "type": "carpet"
           }
          ],
          "choropleth": [
           {
            "colorbar": {
             "outlinewidth": 0,
             "ticks": ""
            },
            "type": "choropleth"
           }
          ],
          "contour": [
           {
            "colorbar": {
             "outlinewidth": 0,
             "ticks": ""
            },
            "colorscale": [
             [
              0,
              "#0d0887"
             ],
             [
              0.1111111111111111,
              "#46039f"
             ],
             [
              0.2222222222222222,
              "#7201a8"
             ],
             [
              0.3333333333333333,
              "#9c179e"
             ],
             [
              0.4444444444444444,
              "#bd3786"
             ],
             [
              0.5555555555555556,
              "#d8576b"
             ],
             [
              0.6666666666666666,
              "#ed7953"
             ],
             [
              0.7777777777777778,
              "#fb9f3a"
             ],
             [
              0.8888888888888888,
              "#fdca26"
             ],
             [
              1,
              "#f0f921"
             ]
            ],
            "type": "contour"
           }
          ],
          "contourcarpet": [
           {
            "colorbar": {
             "outlinewidth": 0,
             "ticks": ""
            },
            "type": "contourcarpet"
           }
          ],
          "heatmap": [
           {
            "colorbar": {
             "outlinewidth": 0,
             "ticks": ""
            },
            "colorscale": [
             [
              0,
              "#0d0887"
             ],
             [
              0.1111111111111111,
              "#46039f"
             ],
             [
              0.2222222222222222,
              "#7201a8"
             ],
             [
              0.3333333333333333,
              "#9c179e"
             ],
             [
              0.4444444444444444,
              "#bd3786"
             ],
             [
              0.5555555555555556,
              "#d8576b"
             ],
             [
              0.6666666666666666,
              "#ed7953"
             ],
             [
              0.7777777777777778,
              "#fb9f3a"
             ],
             [
              0.8888888888888888,
              "#fdca26"
             ],
             [
              1,
              "#f0f921"
             ]
            ],
            "type": "heatmap"
           }
          ],
          "heatmapgl": [
           {
            "colorbar": {
             "outlinewidth": 0,
             "ticks": ""
            },
            "colorscale": [
             [
              0,
              "#0d0887"
             ],
             [
              0.1111111111111111,
              "#46039f"
             ],
             [
              0.2222222222222222,
              "#7201a8"
             ],
             [
              0.3333333333333333,
              "#9c179e"
             ],
             [
              0.4444444444444444,
              "#bd3786"
             ],
             [
              0.5555555555555556,
              "#d8576b"
             ],
             [
              0.6666666666666666,
              "#ed7953"
             ],
             [
              0.7777777777777778,
              "#fb9f3a"
             ],
             [
              0.8888888888888888,
              "#fdca26"
             ],
             [
              1,
              "#f0f921"
             ]
            ],
            "type": "heatmapgl"
           }
          ],
          "histogram": [
           {
            "marker": {
             "pattern": {
              "fillmode": "overlay",
              "size": 10,
              "solidity": 0.2
             }
            },
            "type": "histogram"
           }
          ],
          "histogram2d": [
           {
            "colorbar": {
             "outlinewidth": 0,
             "ticks": ""
            },
            "colorscale": [
             [
              0,
              "#0d0887"
             ],
             [
              0.1111111111111111,
              "#46039f"
             ],
             [
              0.2222222222222222,
              "#7201a8"
             ],
             [
              0.3333333333333333,
              "#9c179e"
             ],
             [
              0.4444444444444444,
              "#bd3786"
             ],
             [
              0.5555555555555556,
              "#d8576b"
             ],
             [
              0.6666666666666666,
              "#ed7953"
             ],
             [
              0.7777777777777778,
              "#fb9f3a"
             ],
             [
              0.8888888888888888,
              "#fdca26"
             ],
             [
              1,
              "#f0f921"
             ]
            ],
            "type": "histogram2d"
           }
          ],
          "histogram2dcontour": [
           {
            "colorbar": {
             "outlinewidth": 0,
             "ticks": ""
            },
            "colorscale": [
             [
              0,
              "#0d0887"
             ],
             [
              0.1111111111111111,
              "#46039f"
             ],
             [
              0.2222222222222222,
              "#7201a8"
             ],
             [
              0.3333333333333333,
              "#9c179e"
             ],
             [
              0.4444444444444444,
              "#bd3786"
             ],
             [
              0.5555555555555556,
              "#d8576b"
             ],
             [
              0.6666666666666666,
              "#ed7953"
             ],
             [
              0.7777777777777778,
              "#fb9f3a"
             ],
             [
              0.8888888888888888,
              "#fdca26"
             ],
             [
              1,
              "#f0f921"
             ]
            ],
            "type": "histogram2dcontour"
           }
          ],
          "mesh3d": [
           {
            "colorbar": {
             "outlinewidth": 0,
             "ticks": ""
            },
            "type": "mesh3d"
           }
          ],
          "parcoords": [
           {
            "line": {
             "colorbar": {
              "outlinewidth": 0,
              "ticks": ""
             }
            },
            "type": "parcoords"
           }
          ],
          "pie": [
           {
            "automargin": true,
            "type": "pie"
           }
          ],
          "scatter": [
           {
            "fillpattern": {
             "fillmode": "overlay",
             "size": 10,
             "solidity": 0.2
            },
            "type": "scatter"
           }
          ],
          "scatter3d": [
           {
            "line": {
             "colorbar": {
              "outlinewidth": 0,
              "ticks": ""
             }
            },
            "marker": {
             "colorbar": {
              "outlinewidth": 0,
              "ticks": ""
             }
            },
            "type": "scatter3d"
           }
          ],
          "scattercarpet": [
           {
            "marker": {
             "colorbar": {
              "outlinewidth": 0,
              "ticks": ""
             }
            },
            "type": "scattercarpet"
           }
          ],
          "scattergeo": [
           {
            "marker": {
             "colorbar": {
              "outlinewidth": 0,
              "ticks": ""
             }
            },
            "type": "scattergeo"
           }
          ],
          "scattergl": [
           {
            "marker": {
             "colorbar": {
              "outlinewidth": 0,
              "ticks": ""
             }
            },
            "type": "scattergl"
           }
          ],
          "scattermapbox": [
           {
            "marker": {
             "colorbar": {
              "outlinewidth": 0,
              "ticks": ""
             }
            },
            "type": "scattermapbox"
           }
          ],
          "scatterpolar": [
           {
            "marker": {
             "colorbar": {
              "outlinewidth": 0,
              "ticks": ""
             }
            },
            "type": "scatterpolar"
           }
          ],
          "scatterpolargl": [
           {
            "marker": {
             "colorbar": {
              "outlinewidth": 0,
              "ticks": ""
             }
            },
            "type": "scatterpolargl"
           }
          ],
          "scatterternary": [
           {
            "marker": {
             "colorbar": {
              "outlinewidth": 0,
              "ticks": ""
             }
            },
            "type": "scatterternary"
           }
          ],
          "surface": [
           {
            "colorbar": {
             "outlinewidth": 0,
             "ticks": ""
            },
            "colorscale": [
             [
              0,
              "#0d0887"
             ],
             [
              0.1111111111111111,
              "#46039f"
             ],
             [
              0.2222222222222222,
              "#7201a8"
             ],
             [
              0.3333333333333333,
              "#9c179e"
             ],
             [
              0.4444444444444444,
              "#bd3786"
             ],
             [
              0.5555555555555556,
              "#d8576b"
             ],
             [
              0.6666666666666666,
              "#ed7953"
             ],
             [
              0.7777777777777778,
              "#fb9f3a"
             ],
             [
              0.8888888888888888,
              "#fdca26"
             ],
             [
              1,
              "#f0f921"
             ]
            ],
            "type": "surface"
           }
          ],
          "table": [
           {
            "cells": {
             "fill": {
              "color": "#EBF0F8"
             },
             "line": {
              "color": "white"
             }
            },
            "header": {
             "fill": {
              "color": "#C8D4E3"
             },
             "line": {
              "color": "white"
             }
            },
            "type": "table"
           }
          ]
         },
         "layout": {
          "annotationdefaults": {
           "arrowcolor": "#2a3f5f",
           "arrowhead": 0,
           "arrowwidth": 1
          },
          "autotypenumbers": "strict",
          "coloraxis": {
           "colorbar": {
            "outlinewidth": 0,
            "ticks": ""
           }
          },
          "colorscale": {
           "diverging": [
            [
             0,
             "#8e0152"
            ],
            [
             0.1,
             "#c51b7d"
            ],
            [
             0.2,
             "#de77ae"
            ],
            [
             0.3,
             "#f1b6da"
            ],
            [
             0.4,
             "#fde0ef"
            ],
            [
             0.5,
             "#f7f7f7"
            ],
            [
             0.6,
             "#e6f5d0"
            ],
            [
             0.7,
             "#b8e186"
            ],
            [
             0.8,
             "#7fbc41"
            ],
            [
             0.9,
             "#4d9221"
            ],
            [
             1,
             "#276419"
            ]
           ],
           "sequential": [
            [
             0,
             "#0d0887"
            ],
            [
             0.1111111111111111,
             "#46039f"
            ],
            [
             0.2222222222222222,
             "#7201a8"
            ],
            [
             0.3333333333333333,
             "#9c179e"
            ],
            [
             0.4444444444444444,
             "#bd3786"
            ],
            [
             0.5555555555555556,
             "#d8576b"
            ],
            [
             0.6666666666666666,
             "#ed7953"
            ],
            [
             0.7777777777777778,
             "#fb9f3a"
            ],
            [
             0.8888888888888888,
             "#fdca26"
            ],
            [
             1,
             "#f0f921"
            ]
           ],
           "sequentialminus": [
            [
             0,
             "#0d0887"
            ],
            [
             0.1111111111111111,
             "#46039f"
            ],
            [
             0.2222222222222222,
             "#7201a8"
            ],
            [
             0.3333333333333333,
             "#9c179e"
            ],
            [
             0.4444444444444444,
             "#bd3786"
            ],
            [
             0.5555555555555556,
             "#d8576b"
            ],
            [
             0.6666666666666666,
             "#ed7953"
            ],
            [
             0.7777777777777778,
             "#fb9f3a"
            ],
            [
             0.8888888888888888,
             "#fdca26"
            ],
            [
             1,
             "#f0f921"
            ]
           ]
          },
          "colorway": [
           "#636efa",
           "#EF553B",
           "#00cc96",
           "#ab63fa",
           "#FFA15A",
           "#19d3f3",
           "#FF6692",
           "#B6E880",
           "#FF97FF",
           "#FECB52"
          ],
          "font": {
           "color": "#2a3f5f"
          },
          "geo": {
           "bgcolor": "white",
           "lakecolor": "white",
           "landcolor": "#E5ECF6",
           "showlakes": true,
           "showland": true,
           "subunitcolor": "white"
          },
          "hoverlabel": {
           "align": "left"
          },
          "hovermode": "closest",
          "mapbox": {
           "style": "light"
          },
          "paper_bgcolor": "white",
          "plot_bgcolor": "#E5ECF6",
          "polar": {
           "angularaxis": {
            "gridcolor": "white",
            "linecolor": "white",
            "ticks": ""
           },
           "bgcolor": "#E5ECF6",
           "radialaxis": {
            "gridcolor": "white",
            "linecolor": "white",
            "ticks": ""
           }
          },
          "scene": {
           "xaxis": {
            "backgroundcolor": "#E5ECF6",
            "gridcolor": "white",
            "gridwidth": 2,
            "linecolor": "white",
            "showbackground": true,
            "ticks": "",
            "zerolinecolor": "white"
           },
           "yaxis": {
            "backgroundcolor": "#E5ECF6",
            "gridcolor": "white",
            "gridwidth": 2,
            "linecolor": "white",
            "showbackground": true,
            "ticks": "",
            "zerolinecolor": "white"
           },
           "zaxis": {
            "backgroundcolor": "#E5ECF6",
            "gridcolor": "white",
            "gridwidth": 2,
            "linecolor": "white",
            "showbackground": true,
            "ticks": "",
            "zerolinecolor": "white"
           }
          },
          "shapedefaults": {
           "line": {
            "color": "#2a3f5f"
           }
          },
          "ternary": {
           "aaxis": {
            "gridcolor": "white",
            "linecolor": "white",
            "ticks": ""
           },
           "baxis": {
            "gridcolor": "white",
            "linecolor": "white",
            "ticks": ""
           },
           "bgcolor": "#E5ECF6",
           "caxis": {
            "gridcolor": "white",
            "linecolor": "white",
            "ticks": ""
           }
          },
          "title": {
           "x": 0.05
          },
          "xaxis": {
           "automargin": true,
           "gridcolor": "white",
           "linecolor": "white",
           "ticks": "",
           "title": {
            "standoff": 15
           },
           "zerolinecolor": "white",
           "zerolinewidth": 2
          },
          "yaxis": {
           "automargin": true,
           "gridcolor": "white",
           "linecolor": "white",
           "ticks": "",
           "title": {
            "standoff": 15
           },
           "zerolinecolor": "white",
           "zerolinewidth": 2
          }
         }
        },
        "xaxis": {
         "anchor": "y",
         "domain": [
          0,
          1
         ],
         "title": {
          "text": "Marriage Duration (Years)"
         }
        },
        "yaxis": {
         "anchor": "x",
         "domain": [
          0,
          1
         ],
         "title": {
          "text": "count"
         }
        }
       }
      }
     },
     "metadata": {},
     "output_type": "display_data"
    },
    {
     "data": {
      "application/vnd.plotly.v1+json": {
       "config": {
        "plotlyServerURL": "https://plot.ly"
       },
       "data": [
        {
         "alignmentgroup": "True",
         "bingroup": "x",
         "hovertemplate": "Divorce Status=No<br>Age at Marriage=%{x}<br>count=%{y}<extra></extra>",
         "legendgroup": "No",
         "marker": {
          "color": "#636efa",
          "pattern": {
           "shape": ""
          }
         },
         "name": "No",
         "offsetgroup": "No",
         "orientation": "v",
         "showlegend": true,
         "texttemplate": "%{value}",
         "type": "histogram",
         "x": [
          29,
          32,
          29,
          33,
          22,
          33,
          23,
          29,
          32,
          26,
          30,
          27,
          24,
          31,
          32,
          26,
          20,
          27,
          24,
          34,
          29,
          19,
          20,
          25,
          24,
          32,
          34,
          30,
          18,
          33,
          27,
          29,
          19,
          20,
          19,
          30,
          24,
          31,
          34,
          29,
          27,
          24,
          22,
          18,
          20,
          30,
          31,
          21,
          22,
          33,
          18,
          31,
          32,
          26,
          32,
          34,
          21,
          29,
          22,
          22,
          28,
          23,
          24,
          28,
          30,
          24,
          25,
          31,
          27,
          19,
          26,
          20,
          23,
          22,
          22,
          26,
          20,
          34,
          27,
          34,
          20,
          30,
          32,
          26,
          31,
          22,
          19,
          28,
          26,
          19,
          26,
          32,
          25,
          28,
          32,
          25,
          33,
          22,
          33,
          30,
          22,
          30,
          34,
          30,
          20,
          25,
          19,
          30,
          18,
          23,
          25,
          18,
          33,
          30,
          28,
          30,
          27,
          23,
          24,
          28,
          30,
          27,
          27,
          28,
          24,
          21,
          19,
          31,
          30,
          29,
          19,
          31,
          34,
          25,
          19,
          30,
          20,
          23,
          24,
          27,
          26,
          22,
          21,
          21,
          34,
          29,
          27,
          31,
          29,
          21,
          20,
          24,
          28,
          18,
          23,
          32,
          28,
          19,
          31,
          19,
          21,
          34,
          20,
          30,
          24,
          32,
          32,
          31,
          20,
          34,
          29,
          32,
          33,
          23,
          22,
          20,
          18,
          32,
          20,
          34,
          32,
          29,
          25,
          25,
          32,
          31,
          24,
          20,
          31,
          32,
          31,
          34,
          21,
          23,
          33,
          19,
          28,
          30,
          34,
          25,
          31,
          23,
          28,
          30,
          18,
          23,
          26,
          25,
          28,
          34,
          31,
          32,
          33,
          18,
          18,
          19,
          18,
          18,
          26,
          19,
          23,
          24,
          31,
          32,
          28,
          23,
          26,
          24,
          26,
          29,
          25,
          32,
          24,
          28,
          33,
          21,
          20,
          26,
          27,
          31,
          29,
          30,
          30,
          31,
          21,
          25,
          29,
          23,
          22,
          20,
          27,
          32,
          18,
          24,
          22,
          21,
          34,
          26,
          21,
          21,
          19,
          32,
          19,
          23,
          24,
          27,
          29,
          30,
          32,
          18,
          20,
          25,
          21,
          27,
          29,
          19,
          22,
          22,
          31,
          19,
          24,
          23,
          20,
          18,
          25,
          21,
          30,
          27,
          31,
          33,
          27,
          27,
          26,
          18,
          22,
          28,
          29,
          18,
          22,
          32,
          22,
          22,
          34,
          34,
          29,
          32,
          31,
          18,
          20,
          23,
          22,
          18,
          34,
          31,
          29,
          27,
          28,
          24,
          28,
          29,
          33,
          25,
          23,
          22,
          32,
          32,
          18,
          28,
          27,
          25,
          25,
          25,
          21,
          18,
          18,
          33,
          33,
          22,
          26,
          19,
          23,
          18,
          26,
          33,
          30,
          26,
          26,
          28,
          21,
          19,
          31,
          21,
          23,
          19,
          30,
          26,
          28,
          24,
          18,
          29,
          24,
          32,
          18,
          20,
          29,
          28,
          25,
          31,
          31,
          27,
          19,
          20,
          25,
          33,
          23,
          29,
          22,
          19,
          22,
          32,
          29,
          21,
          32,
          28,
          33,
          23,
          31,
          29,
          30,
          28,
          33,
          32,
          32,
          28,
          32,
          30,
          31,
          33,
          27,
          21,
          28,
          24,
          29,
          27,
          24,
          34,
          27,
          27,
          21,
          21,
          24,
          18,
          29,
          27,
          32,
          30,
          26,
          26,
          27,
          27,
          25,
          33,
          34,
          22,
          27,
          21,
          18,
          22,
          32,
          34,
          20,
          29,
          19,
          34,
          33,
          22,
          32,
          20,
          28,
          26,
          31,
          19,
          20,
          24,
          20,
          27,
          24,
          26,
          34,
          21,
          27,
          30,
          31,
          25,
          22,
          26,
          25,
          18,
          23,
          26,
          24,
          21,
          30,
          25,
          25,
          23,
          19,
          29,
          19,
          23,
          34,
          20,
          19,
          29,
          21,
          30,
          33,
          27,
          33,
          29,
          34,
          33,
          29,
          25,
          20,
          33,
          30,
          25,
          22,
          25,
          29,
          23,
          18,
          33,
          19,
          18,
          19,
          26,
          18,
          28,
          20,
          23,
          32,
          22,
          27,
          29,
          32,
          34,
          27,
          23,
          30,
          20,
          27,
          31,
          23,
          20,
          33,
          31,
          26,
          20,
          19,
          19,
          18,
          21,
          31,
          18,
          33,
          31,
          26,
          19,
          25,
          19,
          21,
          32,
          23,
          28,
          22,
          19,
          27,
          28,
          26,
          26,
          20,
          31,
          33,
          33,
          18,
          21,
          21,
          24,
          34,
          22,
          21,
          23,
          24,
          22,
          20,
          31,
          24,
          22,
          19,
          22,
          30,
          22,
          21,
          34,
          34,
          28,
          21,
          33,
          25,
          20,
          26,
          27,
          30,
          26,
          34,
          26,
          26,
          18,
          19,
          33,
          18,
          25,
          19,
          34,
          30,
          22,
          29,
          18,
          25,
          30,
          28,
          18,
          20,
          34,
          21,
          32,
          24,
          28,
          22,
          22,
          25,
          27,
          23,
          33,
          34,
          25,
          25,
          26,
          19,
          32,
          34,
          21,
          21,
          31,
          26,
          26,
          27,
          25,
          30,
          19,
          28,
          25,
          31,
          29,
          31,
          20,
          24,
          34,
          29,
          26,
          32,
          25,
          25,
          31,
          24,
          29,
          28,
          30,
          19,
          32,
          32,
          30,
          28,
          22,
          18,
          20,
          24,
          29,
          32,
          22,
          25,
          25,
          18,
          29,
          20,
          18,
          21,
          20,
          27,
          19,
          28,
          27,
          26,
          33,
          30,
          26,
          21,
          27,
          29,
          34,
          31,
          19,
          23,
          22,
          21,
          21,
          20,
          25,
          24,
          27,
          23,
          31,
          30,
          21,
          20,
          33,
          21,
          19,
          34,
          31,
          30,
          29,
          21,
          33,
          30,
          18,
          34,
          32,
          28,
          18,
          23,
          33,
          32,
          31,
          28,
          24,
          26,
          33,
          22,
          27,
          20,
          30,
          28,
          34,
          30,
          23,
          31,
          22,
          22,
          34,
          27,
          22,
          21,
          23,
          24,
          24,
          20,
          18,
          21,
          26,
          31,
          29,
          21,
          27,
          27,
          33,
          33,
          27,
          30,
          21,
          28,
          18,
          32,
          33,
          24,
          27,
          29,
          31,
          22,
          22,
          34,
          29,
          26,
          18,
          21,
          27,
          24,
          18,
          19,
          28,
          24,
          23,
          19,
          18,
          27,
          19,
          19,
          19,
          33,
          33,
          24,
          29,
          32,
          25,
          20,
          34,
          24,
          31,
          32,
          25,
          31,
          25,
          34,
          19,
          20,
          25,
          29,
          18,
          27,
          20,
          24,
          28,
          22,
          28,
          29,
          27,
          25,
          26,
          22,
          25,
          26,
          32,
          33,
          31,
          25,
          27,
          23,
          29,
          19,
          24,
          33,
          20,
          30,
          28,
          25,
          23,
          18,
          18,
          33,
          28,
          22,
          21,
          31,
          26
         ],
         "xaxis": "x",
         "yaxis": "y"
        },
        {
         "alignmentgroup": "True",
         "bingroup": "x",
         "hovertemplate": "Divorce Status=Yes<br>Age at Marriage=%{x}<br>count=%{y}<extra></extra>",
         "legendgroup": "Yes",
         "marker": {
          "color": "#EF553B",
          "pattern": {
           "shape": ""
          }
         },
         "name": "Yes",
         "offsetgroup": "Yes",
         "orientation": "v",
         "showlegend": true,
         "texttemplate": "%{value}",
         "type": "histogram",
         "x": [
          34,
          34,
          27,
          34,
          25,
          34,
          25,
          32,
          33,
          34,
          24,
          24,
          33,
          25,
          24,
          31,
          20,
          30,
          22,
          28,
          29,
          21,
          30,
          27,
          30,
          20,
          29,
          33,
          32,
          34,
          31,
          19,
          21,
          30,
          28,
          34,
          32,
          34,
          20,
          20,
          23,
          21,
          20,
          26,
          20,
          29,
          27,
          22,
          19,
          23,
          22,
          23,
          25,
          25,
          30,
          33,
          26,
          21,
          22,
          24,
          30,
          34,
          26,
          33,
          19,
          32,
          21,
          34,
          18,
          32,
          29,
          32,
          26,
          28,
          19,
          28,
          22,
          23,
          19,
          29,
          33,
          31,
          34,
          20,
          29,
          24,
          29,
          26,
          25,
          32,
          26,
          29,
          27,
          25,
          30,
          18,
          30,
          24,
          19,
          27,
          29,
          34,
          25,
          20,
          23,
          26,
          25,
          23,
          28,
          29,
          30,
          26,
          20,
          29,
          34,
          29,
          19,
          21,
          20,
          25,
          33,
          31,
          31,
          23,
          30,
          26,
          32,
          24,
          34,
          19,
          22,
          22,
          29,
          32,
          28,
          20,
          29,
          25,
          28,
          29,
          32,
          23,
          29,
          19,
          26,
          22,
          22,
          19,
          32,
          23,
          30,
          27,
          25,
          18,
          19,
          34,
          32,
          34,
          29,
          31,
          31,
          26,
          30,
          23,
          23,
          30,
          18,
          32,
          34,
          34,
          23,
          20,
          31,
          26,
          19,
          33,
          28,
          21,
          21,
          19,
          21,
          33,
          31,
          32,
          20,
          25,
          19,
          34,
          30,
          21,
          30,
          24,
          30,
          32,
          21,
          21,
          24,
          27,
          18,
          24,
          27,
          30,
          28,
          24,
          31,
          23,
          24,
          21,
          18,
          21,
          20,
          34,
          19,
          22,
          29,
          23,
          20,
          29,
          20,
          25,
          22,
          32,
          18,
          25,
          24,
          29,
          23,
          31,
          21,
          30,
          19,
          26,
          21,
          20,
          28,
          24,
          32,
          19,
          20,
          31,
          27,
          31,
          20,
          20,
          23,
          30,
          21,
          30,
          29,
          30,
          31,
          19,
          19,
          32,
          26,
          24,
          25,
          24,
          24,
          22,
          23,
          32,
          27,
          24,
          18,
          30,
          30,
          20,
          19,
          23,
          27,
          34,
          27,
          28,
          25,
          25,
          34,
          32,
          22,
          25,
          30,
          22,
          25,
          31,
          28,
          32,
          20,
          21,
          29,
          19,
          33,
          27,
          32,
          34,
          26,
          25,
          34,
          30,
          31,
          28,
          29,
          32,
          27,
          33,
          22,
          25,
          31,
          24,
          19,
          31,
          28,
          33,
          32,
          27,
          22,
          23,
          21,
          34,
          24,
          31,
          22,
          23,
          21,
          34,
          30,
          34,
          21,
          32,
          32,
          23,
          34,
          30,
          27,
          20,
          21,
          23,
          29,
          24,
          20,
          31,
          30,
          23,
          29,
          26,
          28,
          21,
          24,
          23,
          32,
          28,
          22,
          20,
          34,
          26,
          34,
          34,
          19,
          31,
          23,
          22,
          33,
          27,
          23,
          27,
          21,
          32,
          26,
          23,
          21,
          32,
          20,
          25,
          22,
          23
         ],
         "xaxis": "x",
         "yaxis": "y"
        }
       ],
       "layout": {
        "barmode": "relative",
        "legend": {
         "title": {
          "text": "Divorce Status"
         },
         "tracegroupgap": 0
        },
        "margin": {
         "t": 60
        },
        "template": {
         "data": {
          "bar": [
           {
            "error_x": {
             "color": "#2a3f5f"
            },
            "error_y": {
             "color": "#2a3f5f"
            },
            "marker": {
             "line": {
              "color": "#E5ECF6",
              "width": 0.5
             },
             "pattern": {
              "fillmode": "overlay",
              "size": 10,
              "solidity": 0.2
             }
            },
            "type": "bar"
           }
          ],
          "barpolar": [
           {
            "marker": {
             "line": {
              "color": "#E5ECF6",
              "width": 0.5
             },
             "pattern": {
              "fillmode": "overlay",
              "size": 10,
              "solidity": 0.2
             }
            },
            "type": "barpolar"
           }
          ],
          "carpet": [
           {
            "aaxis": {
             "endlinecolor": "#2a3f5f",
             "gridcolor": "white",
             "linecolor": "white",
             "minorgridcolor": "white",
             "startlinecolor": "#2a3f5f"
            },
            "baxis": {
             "endlinecolor": "#2a3f5f",
             "gridcolor": "white",
             "linecolor": "white",
             "minorgridcolor": "white",
             "startlinecolor": "#2a3f5f"
            },
            "type": "carpet"
           }
          ],
          "choropleth": [
           {
            "colorbar": {
             "outlinewidth": 0,
             "ticks": ""
            },
            "type": "choropleth"
           }
          ],
          "contour": [
           {
            "colorbar": {
             "outlinewidth": 0,
             "ticks": ""
            },
            "colorscale": [
             [
              0,
              "#0d0887"
             ],
             [
              0.1111111111111111,
              "#46039f"
             ],
             [
              0.2222222222222222,
              "#7201a8"
             ],
             [
              0.3333333333333333,
              "#9c179e"
             ],
             [
              0.4444444444444444,
              "#bd3786"
             ],
             [
              0.5555555555555556,
              "#d8576b"
             ],
             [
              0.6666666666666666,
              "#ed7953"
             ],
             [
              0.7777777777777778,
              "#fb9f3a"
             ],
             [
              0.8888888888888888,
              "#fdca26"
             ],
             [
              1,
              "#f0f921"
             ]
            ],
            "type": "contour"
           }
          ],
          "contourcarpet": [
           {
            "colorbar": {
             "outlinewidth": 0,
             "ticks": ""
            },
            "type": "contourcarpet"
           }
          ],
          "heatmap": [
           {
            "colorbar": {
             "outlinewidth": 0,
             "ticks": ""
            },
            "colorscale": [
             [
              0,
              "#0d0887"
             ],
             [
              0.1111111111111111,
              "#46039f"
             ],
             [
              0.2222222222222222,
              "#7201a8"
             ],
             [
              0.3333333333333333,
              "#9c179e"
             ],
             [
              0.4444444444444444,
              "#bd3786"
             ],
             [
              0.5555555555555556,
              "#d8576b"
             ],
             [
              0.6666666666666666,
              "#ed7953"
             ],
             [
              0.7777777777777778,
              "#fb9f3a"
             ],
             [
              0.8888888888888888,
              "#fdca26"
             ],
             [
              1,
              "#f0f921"
             ]
            ],
            "type": "heatmap"
           }
          ],
          "heatmapgl": [
           {
            "colorbar": {
             "outlinewidth": 0,
             "ticks": ""
            },
            "colorscale": [
             [
              0,
              "#0d0887"
             ],
             [
              0.1111111111111111,
              "#46039f"
             ],
             [
              0.2222222222222222,
              "#7201a8"
             ],
             [
              0.3333333333333333,
              "#9c179e"
             ],
             [
              0.4444444444444444,
              "#bd3786"
             ],
             [
              0.5555555555555556,
              "#d8576b"
             ],
             [
              0.6666666666666666,
              "#ed7953"
             ],
             [
              0.7777777777777778,
              "#fb9f3a"
             ],
             [
              0.8888888888888888,
              "#fdca26"
             ],
             [
              1,
              "#f0f921"
             ]
            ],
            "type": "heatmapgl"
           }
          ],
          "histogram": [
           {
            "marker": {
             "pattern": {
              "fillmode": "overlay",
              "size": 10,
              "solidity": 0.2
             }
            },
            "type": "histogram"
           }
          ],
          "histogram2d": [
           {
            "colorbar": {
             "outlinewidth": 0,
             "ticks": ""
            },
            "colorscale": [
             [
              0,
              "#0d0887"
             ],
             [
              0.1111111111111111,
              "#46039f"
             ],
             [
              0.2222222222222222,
              "#7201a8"
             ],
             [
              0.3333333333333333,
              "#9c179e"
             ],
             [
              0.4444444444444444,
              "#bd3786"
             ],
             [
              0.5555555555555556,
              "#d8576b"
             ],
             [
              0.6666666666666666,
              "#ed7953"
             ],
             [
              0.7777777777777778,
              "#fb9f3a"
             ],
             [
              0.8888888888888888,
              "#fdca26"
             ],
             [
              1,
              "#f0f921"
             ]
            ],
            "type": "histogram2d"
           }
          ],
          "histogram2dcontour": [
           {
            "colorbar": {
             "outlinewidth": 0,
             "ticks": ""
            },
            "colorscale": [
             [
              0,
              "#0d0887"
             ],
             [
              0.1111111111111111,
              "#46039f"
             ],
             [
              0.2222222222222222,
              "#7201a8"
             ],
             [
              0.3333333333333333,
              "#9c179e"
             ],
             [
              0.4444444444444444,
              "#bd3786"
             ],
             [
              0.5555555555555556,
              "#d8576b"
             ],
             [
              0.6666666666666666,
              "#ed7953"
             ],
             [
              0.7777777777777778,
              "#fb9f3a"
             ],
             [
              0.8888888888888888,
              "#fdca26"
             ],
             [
              1,
              "#f0f921"
             ]
            ],
            "type": "histogram2dcontour"
           }
          ],
          "mesh3d": [
           {
            "colorbar": {
             "outlinewidth": 0,
             "ticks": ""
            },
            "type": "mesh3d"
           }
          ],
          "parcoords": [
           {
            "line": {
             "colorbar": {
              "outlinewidth": 0,
              "ticks": ""
             }
            },
            "type": "parcoords"
           }
          ],
          "pie": [
           {
            "automargin": true,
            "type": "pie"
           }
          ],
          "scatter": [
           {
            "fillpattern": {
             "fillmode": "overlay",
             "size": 10,
             "solidity": 0.2
            },
            "type": "scatter"
           }
          ],
          "scatter3d": [
           {
            "line": {
             "colorbar": {
              "outlinewidth": 0,
              "ticks": ""
             }
            },
            "marker": {
             "colorbar": {
              "outlinewidth": 0,
              "ticks": ""
             }
            },
            "type": "scatter3d"
           }
          ],
          "scattercarpet": [
           {
            "marker": {
             "colorbar": {
              "outlinewidth": 0,
              "ticks": ""
             }
            },
            "type": "scattercarpet"
           }
          ],
          "scattergeo": [
           {
            "marker": {
             "colorbar": {
              "outlinewidth": 0,
              "ticks": ""
             }
            },
            "type": "scattergeo"
           }
          ],
          "scattergl": [
           {
            "marker": {
             "colorbar": {
              "outlinewidth": 0,
              "ticks": ""
             }
            },
            "type": "scattergl"
           }
          ],
          "scattermapbox": [
           {
            "marker": {
             "colorbar": {
              "outlinewidth": 0,
              "ticks": ""
             }
            },
            "type": "scattermapbox"
           }
          ],
          "scatterpolar": [
           {
            "marker": {
             "colorbar": {
              "outlinewidth": 0,
              "ticks": ""
             }
            },
            "type": "scatterpolar"
           }
          ],
          "scatterpolargl": [
           {
            "marker": {
             "colorbar": {
              "outlinewidth": 0,
              "ticks": ""
             }
            },
            "type": "scatterpolargl"
           }
          ],
          "scatterternary": [
           {
            "marker": {
             "colorbar": {
              "outlinewidth": 0,
              "ticks": ""
             }
            },
            "type": "scatterternary"
           }
          ],
          "surface": [
           {
            "colorbar": {
             "outlinewidth": 0,
             "ticks": ""
            },
            "colorscale": [
             [
              0,
              "#0d0887"
             ],
             [
              0.1111111111111111,
              "#46039f"
             ],
             [
              0.2222222222222222,
              "#7201a8"
             ],
             [
              0.3333333333333333,
              "#9c179e"
             ],
             [
              0.4444444444444444,
              "#bd3786"
             ],
             [
              0.5555555555555556,
              "#d8576b"
             ],
             [
              0.6666666666666666,
              "#ed7953"
             ],
             [
              0.7777777777777778,
              "#fb9f3a"
             ],
             [
              0.8888888888888888,
              "#fdca26"
             ],
             [
              1,
              "#f0f921"
             ]
            ],
            "type": "surface"
           }
          ],
          "table": [
           {
            "cells": {
             "fill": {
              "color": "#EBF0F8"
             },
             "line": {
              "color": "white"
             }
            },
            "header": {
             "fill": {
              "color": "#C8D4E3"
             },
             "line": {
              "color": "white"
             }
            },
            "type": "table"
           }
          ]
         },
         "layout": {
          "annotationdefaults": {
           "arrowcolor": "#2a3f5f",
           "arrowhead": 0,
           "arrowwidth": 1
          },
          "autotypenumbers": "strict",
          "coloraxis": {
           "colorbar": {
            "outlinewidth": 0,
            "ticks": ""
           }
          },
          "colorscale": {
           "diverging": [
            [
             0,
             "#8e0152"
            ],
            [
             0.1,
             "#c51b7d"
            ],
            [
             0.2,
             "#de77ae"
            ],
            [
             0.3,
             "#f1b6da"
            ],
            [
             0.4,
             "#fde0ef"
            ],
            [
             0.5,
             "#f7f7f7"
            ],
            [
             0.6,
             "#e6f5d0"
            ],
            [
             0.7,
             "#b8e186"
            ],
            [
             0.8,
             "#7fbc41"
            ],
            [
             0.9,
             "#4d9221"
            ],
            [
             1,
             "#276419"
            ]
           ],
           "sequential": [
            [
             0,
             "#0d0887"
            ],
            [
             0.1111111111111111,
             "#46039f"
            ],
            [
             0.2222222222222222,
             "#7201a8"
            ],
            [
             0.3333333333333333,
             "#9c179e"
            ],
            [
             0.4444444444444444,
             "#bd3786"
            ],
            [
             0.5555555555555556,
             "#d8576b"
            ],
            [
             0.6666666666666666,
             "#ed7953"
            ],
            [
             0.7777777777777778,
             "#fb9f3a"
            ],
            [
             0.8888888888888888,
             "#fdca26"
            ],
            [
             1,
             "#f0f921"
            ]
           ],
           "sequentialminus": [
            [
             0,
             "#0d0887"
            ],
            [
             0.1111111111111111,
             "#46039f"
            ],
            [
             0.2222222222222222,
             "#7201a8"
            ],
            [
             0.3333333333333333,
             "#9c179e"
            ],
            [
             0.4444444444444444,
             "#bd3786"
            ],
            [
             0.5555555555555556,
             "#d8576b"
            ],
            [
             0.6666666666666666,
             "#ed7953"
            ],
            [
             0.7777777777777778,
             "#fb9f3a"
            ],
            [
             0.8888888888888888,
             "#fdca26"
            ],
            [
             1,
             "#f0f921"
            ]
           ]
          },
          "colorway": [
           "#636efa",
           "#EF553B",
           "#00cc96",
           "#ab63fa",
           "#FFA15A",
           "#19d3f3",
           "#FF6692",
           "#B6E880",
           "#FF97FF",
           "#FECB52"
          ],
          "font": {
           "color": "#2a3f5f"
          },
          "geo": {
           "bgcolor": "white",
           "lakecolor": "white",
           "landcolor": "#E5ECF6",
           "showlakes": true,
           "showland": true,
           "subunitcolor": "white"
          },
          "hoverlabel": {
           "align": "left"
          },
          "hovermode": "closest",
          "mapbox": {
           "style": "light"
          },
          "paper_bgcolor": "white",
          "plot_bgcolor": "#E5ECF6",
          "polar": {
           "angularaxis": {
            "gridcolor": "white",
            "linecolor": "white",
            "ticks": ""
           },
           "bgcolor": "#E5ECF6",
           "radialaxis": {
            "gridcolor": "white",
            "linecolor": "white",
            "ticks": ""
           }
          },
          "scene": {
           "xaxis": {
            "backgroundcolor": "#E5ECF6",
            "gridcolor": "white",
            "gridwidth": 2,
            "linecolor": "white",
            "showbackground": true,
            "ticks": "",
            "zerolinecolor": "white"
           },
           "yaxis": {
            "backgroundcolor": "#E5ECF6",
            "gridcolor": "white",
            "gridwidth": 2,
            "linecolor": "white",
            "showbackground": true,
            "ticks": "",
            "zerolinecolor": "white"
           },
           "zaxis": {
            "backgroundcolor": "#E5ECF6",
            "gridcolor": "white",
            "gridwidth": 2,
            "linecolor": "white",
            "showbackground": true,
            "ticks": "",
            "zerolinecolor": "white"
           }
          },
          "shapedefaults": {
           "line": {
            "color": "#2a3f5f"
           }
          },
          "ternary": {
           "aaxis": {
            "gridcolor": "white",
            "linecolor": "white",
            "ticks": ""
           },
           "baxis": {
            "gridcolor": "white",
            "linecolor": "white",
            "ticks": ""
           },
           "bgcolor": "#E5ECF6",
           "caxis": {
            "gridcolor": "white",
            "linecolor": "white",
            "ticks": ""
           }
          },
          "title": {
           "x": 0.05
          },
          "xaxis": {
           "automargin": true,
           "gridcolor": "white",
           "linecolor": "white",
           "ticks": "",
           "title": {
            "standoff": 15
           },
           "zerolinecolor": "white",
           "zerolinewidth": 2
          },
          "yaxis": {
           "automargin": true,
           "gridcolor": "white",
           "linecolor": "white",
           "ticks": "",
           "title": {
            "standoff": 15
           },
           "zerolinecolor": "white",
           "zerolinewidth": 2
          }
         }
        },
        "xaxis": {
         "anchor": "y",
         "domain": [
          0,
          1
         ],
         "title": {
          "text": "Age at Marriage"
         }
        },
        "yaxis": {
         "anchor": "x",
         "domain": [
          0,
          1
         ],
         "title": {
          "text": "count"
         }
        }
       }
      }
     },
     "metadata": {},
     "output_type": "display_data"
    },
    {
     "data": {
      "application/vnd.plotly.v1+json": {
       "config": {
        "plotlyServerURL": "https://plot.ly"
       },
       "data": [
        {
         "alignmentgroup": "True",
         "bingroup": "x",
         "hovertemplate": "Divorce Status=No<br>Marriage Type=%{x}<br>count=%{y}<extra></extra>",
         "legendgroup": "No",
         "marker": {
          "color": "#636efa",
          "pattern": {
           "shape": ""
          }
         },
         "name": "No",
         "offsetgroup": "No",
         "orientation": "v",
         "showlegend": true,
         "texttemplate": "%{value}",
         "type": "histogram",
         "x": [
          "Love",
          "Arranged",
          "Arranged",
          "Arranged",
          "Arranged",
          "Love",
          "Arranged",
          "Love",
          "Love",
          "Love",
          "Love",
          "Arranged",
          "Love",
          "Arranged",
          "Arranged",
          "Love",
          "Love",
          "Love",
          "Love",
          "Arranged",
          "Love",
          "Arranged",
          "Love",
          "Love",
          "Love",
          "Love",
          "Arranged",
          "Love",
          "Arranged",
          "Love",
          "Arranged",
          "Arranged",
          "Love",
          "Love",
          "Arranged",
          "Love",
          "Love",
          "Love",
          "Arranged",
          "Love",
          "Arranged",
          "Arranged",
          "Arranged",
          "Love",
          "Arranged",
          "Arranged",
          "Arranged",
          "Love",
          "Love",
          "Arranged",
          "Arranged",
          "Arranged",
          "Love",
          "Love",
          "Love",
          "Arranged",
          "Arranged",
          "Love",
          "Arranged",
          "Love",
          "Arranged",
          "Arranged",
          "Arranged",
          "Love",
          "Arranged",
          "Love",
          "Arranged",
          "Love",
          "Love",
          "Arranged",
          "Love",
          "Love",
          "Love",
          "Arranged",
          "Love",
          "Love",
          "Arranged",
          "Arranged",
          "Love",
          "Arranged",
          "Arranged",
          "Arranged",
          "Arranged",
          "Arranged",
          "Arranged",
          "Arranged",
          "Love",
          "Love",
          "Love",
          "Arranged",
          "Love",
          "Arranged",
          "Arranged",
          "Arranged",
          "Love",
          "Arranged",
          "Arranged",
          "Love",
          "Love",
          "Love",
          "Love",
          "Love",
          "Love",
          "Love",
          "Love",
          "Arranged",
          "Arranged",
          "Arranged",
          "Arranged",
          "Love",
          "Arranged",
          "Love",
          "Love",
          "Love",
          "Love",
          "Arranged",
          "Love",
          "Arranged",
          "Arranged",
          "Arranged",
          "Arranged",
          "Love",
          "Arranged",
          "Arranged",
          "Love",
          "Love",
          "Arranged",
          "Arranged",
          "Love",
          "Arranged",
          "Arranged",
          "Arranged",
          "Arranged",
          "Arranged",
          "Love",
          "Love",
          "Love",
          "Arranged",
          "Arranged",
          "Love",
          "Love",
          "Arranged",
          "Love",
          "Arranged",
          "Love",
          "Arranged",
          "Arranged",
          "Arranged",
          "Arranged",
          "Love",
          "Love",
          "Love",
          "Arranged",
          "Love",
          "Love",
          "Love",
          "Arranged",
          "Arranged",
          "Love",
          "Love",
          "Arranged",
          "Love",
          "Arranged",
          "Arranged",
          "Love",
          "Arranged",
          "Love",
          "Love",
          "Arranged",
          "Arranged",
          "Love",
          "Love",
          "Love",
          "Arranged",
          "Arranged",
          "Arranged",
          "Love",
          "Arranged",
          "Love",
          "Arranged",
          "Arranged",
          "Arranged",
          "Arranged",
          "Arranged",
          "Love",
          "Love",
          "Love",
          "Arranged",
          "Arranged",
          "Arranged",
          "Love",
          "Love",
          "Love",
          "Arranged",
          "Arranged",
          "Arranged",
          "Love",
          "Arranged",
          "Love",
          "Love",
          "Arranged",
          "Love",
          "Love",
          "Arranged",
          "Arranged",
          "Arranged",
          "Love",
          "Arranged",
          "Arranged",
          "Love",
          "Love",
          "Love",
          "Arranged",
          "Arranged",
          "Love",
          "Love",
          "Love",
          "Arranged",
          "Arranged",
          "Love",
          "Love",
          "Love",
          "Arranged",
          "Love",
          "Arranged",
          "Arranged",
          "Love",
          "Arranged",
          "Arranged",
          "Arranged",
          "Arranged",
          "Love",
          "Love",
          "Arranged",
          "Love",
          "Arranged",
          "Love",
          "Arranged",
          "Arranged",
          "Arranged",
          "Arranged",
          "Arranged",
          "Love",
          "Love",
          "Arranged",
          "Love",
          "Arranged",
          "Love",
          "Arranged",
          "Arranged",
          "Arranged",
          "Love",
          "Love",
          "Arranged",
          "Arranged",
          "Arranged",
          "Arranged",
          "Arranged",
          "Arranged",
          "Love",
          "Arranged",
          "Arranged",
          "Arranged",
          "Arranged",
          "Arranged",
          "Arranged",
          "Arranged",
          "Arranged",
          "Arranged",
          "Arranged",
          "Arranged",
          "Arranged",
          "Love",
          "Arranged",
          "Love",
          "Love",
          "Love",
          "Love",
          "Arranged",
          "Arranged",
          "Arranged",
          "Love",
          "Love",
          "Arranged",
          "Arranged",
          "Arranged",
          "Love",
          "Arranged",
          "Arranged",
          "Love",
          "Love",
          "Love",
          "Love",
          "Love",
          "Arranged",
          "Love",
          "Love",
          "Arranged",
          "Arranged",
          "Love",
          "Love",
          "Arranged",
          "Arranged",
          "Love",
          "Love",
          "Arranged",
          "Love",
          "Love",
          "Love",
          "Arranged",
          "Arranged",
          "Love",
          "Love",
          "Love",
          "Arranged",
          "Love",
          "Arranged",
          "Arranged",
          "Arranged",
          "Love",
          "Arranged",
          "Arranged",
          "Love",
          "Love",
          "Love",
          "Love",
          "Arranged",
          "Love",
          "Love",
          "Arranged",
          "Arranged",
          "Love",
          "Arranged",
          "Love",
          "Arranged",
          "Arranged",
          "Arranged",
          "Arranged",
          "Love",
          "Arranged",
          "Love",
          "Arranged",
          "Love",
          "Arranged",
          "Love",
          "Love",
          "Arranged",
          "Arranged",
          "Arranged",
          "Arranged",
          "Love",
          "Love",
          "Love",
          "Love",
          "Love",
          "Arranged",
          "Love",
          "Arranged",
          "Arranged",
          "Arranged",
          "Love",
          "Arranged",
          "Love",
          "Arranged",
          "Arranged",
          "Love",
          "Arranged",
          "Love",
          "Arranged",
          "Love",
          "Love",
          "Arranged",
          "Love",
          "Arranged",
          "Arranged",
          "Arranged",
          "Arranged",
          "Love",
          "Arranged",
          "Love",
          "Love",
          "Love",
          "Love",
          "Arranged",
          "Arranged",
          "Arranged",
          "Arranged",
          "Arranged",
          "Arranged",
          "Arranged",
          "Arranged",
          "Love",
          "Love",
          "Love",
          "Love",
          "Love",
          "Love",
          "Love",
          "Arranged",
          "Love",
          "Arranged",
          "Arranged",
          "Love",
          "Love",
          "Arranged",
          "Arranged",
          "Love",
          "Arranged",
          "Love",
          "Arranged",
          "Love",
          "Love",
          "Arranged",
          "Arranged",
          "Arranged",
          "Love",
          "Love",
          "Arranged",
          "Arranged",
          "Arranged",
          "Love",
          "Love",
          "Arranged",
          "Arranged",
          "Love",
          "Love",
          "Arranged",
          "Arranged",
          "Arranged",
          "Arranged",
          "Arranged",
          "Love",
          "Love",
          "Arranged",
          "Love",
          "Love",
          "Love",
          "Love",
          "Arranged",
          "Arranged",
          "Arranged",
          "Arranged",
          "Love",
          "Arranged",
          "Arranged",
          "Arranged",
          "Arranged",
          "Arranged",
          "Love",
          "Arranged",
          "Arranged",
          "Love",
          "Arranged",
          "Arranged",
          "Love",
          "Arranged",
          "Arranged",
          "Love",
          "Arranged",
          "Love",
          "Arranged",
          "Arranged",
          "Arranged",
          "Arranged",
          "Arranged",
          "Love",
          "Love",
          "Arranged",
          "Love",
          "Love",
          "Arranged",
          "Arranged",
          "Arranged",
          "Love",
          "Love",
          "Arranged",
          "Love",
          "Love",
          "Arranged",
          "Arranged",
          "Love",
          "Arranged",
          "Arranged",
          "Love",
          "Arranged",
          "Love",
          "Arranged",
          "Arranged",
          "Love",
          "Love",
          "Arranged",
          "Arranged",
          "Arranged",
          "Arranged",
          "Arranged",
          "Love",
          "Arranged",
          "Arranged",
          "Love",
          "Love",
          "Love",
          "Love",
          "Arranged",
          "Love",
          "Love",
          "Love",
          "Arranged",
          "Arranged",
          "Love",
          "Love",
          "Arranged",
          "Arranged",
          "Arranged",
          "Arranged",
          "Love",
          "Arranged",
          "Arranged",
          "Arranged",
          "Arranged",
          "Love",
          "Arranged",
          "Arranged",
          "Arranged",
          "Love",
          "Arranged",
          "Arranged",
          "Love",
          "Arranged",
          "Love",
          "Arranged",
          "Arranged",
          "Arranged",
          "Love",
          "Love",
          "Arranged",
          "Arranged",
          "Love",
          "Arranged",
          "Arranged",
          "Love",
          "Love",
          "Love",
          "Arranged",
          "Arranged",
          "Love",
          "Love",
          "Love",
          "Love",
          "Love",
          "Arranged",
          "Love",
          "Love",
          "Love",
          "Arranged",
          "Love",
          "Love",
          "Arranged",
          "Arranged",
          "Arranged",
          "Arranged",
          "Love",
          "Love",
          "Arranged",
          "Love",
          "Arranged",
          "Arranged",
          "Arranged",
          "Arranged",
          "Love",
          "Arranged",
          "Love",
          "Love",
          "Arranged",
          "Love",
          "Arranged",
          "Arranged",
          "Love",
          "Arranged",
          "Arranged",
          "Love",
          "Love",
          "Love",
          "Love",
          "Love",
          "Love",
          "Love",
          "Love",
          "Arranged",
          "Arranged",
          "Love",
          "Arranged",
          "Arranged",
          "Arranged",
          "Love",
          "Love",
          "Love",
          "Love",
          "Love",
          "Love",
          "Love",
          "Love",
          "Love",
          "Love",
          "Arranged",
          "Love",
          "Arranged",
          "Love",
          "Love",
          "Arranged",
          "Arranged",
          "Love",
          "Arranged",
          "Love",
          "Love",
          "Arranged",
          "Arranged",
          "Love",
          "Arranged",
          "Arranged",
          "Arranged",
          "Arranged",
          "Arranged",
          "Arranged",
          "Arranged",
          "Love",
          "Arranged",
          "Arranged",
          "Arranged",
          "Love",
          "Love",
          "Love",
          "Love",
          "Love",
          "Love",
          "Love",
          "Love",
          "Love",
          "Love",
          "Love",
          "Love",
          "Love",
          "Arranged",
          "Love",
          "Love",
          "Love",
          "Arranged",
          "Love",
          "Arranged",
          "Arranged",
          "Arranged",
          "Love",
          "Love",
          "Arranged",
          "Love",
          "Love",
          "Love",
          "Arranged",
          "Arranged",
          "Arranged",
          "Arranged",
          "Arranged",
          "Arranged",
          "Arranged",
          "Arranged",
          "Love",
          "Love",
          "Love",
          "Love",
          "Arranged",
          "Arranged",
          "Love",
          "Love",
          "Love",
          "Love",
          "Arranged",
          "Love",
          "Arranged",
          "Arranged",
          "Arranged",
          "Arranged",
          "Arranged",
          "Love",
          "Love",
          "Love",
          "Love",
          "Arranged",
          "Arranged",
          "Love",
          "Love",
          "Love",
          "Arranged",
          "Arranged",
          "Arranged",
          "Love",
          "Love",
          "Arranged",
          "Arranged",
          "Arranged",
          "Love",
          "Arranged",
          "Love",
          "Arranged",
          "Arranged",
          "Arranged",
          "Love",
          "Arranged",
          "Arranged",
          "Love",
          "Arranged",
          "Arranged",
          "Love",
          "Arranged",
          "Arranged",
          "Love",
          "Arranged",
          "Arranged",
          "Love",
          "Arranged",
          "Love",
          "Arranged",
          "Love",
          "Love",
          "Arranged",
          "Arranged",
          "Arranged",
          "Love",
          "Love",
          "Love",
          "Arranged",
          "Love",
          "Arranged",
          "Arranged",
          "Arranged",
          "Arranged",
          "Love",
          "Arranged",
          "Love",
          "Arranged",
          "Arranged",
          "Love",
          "Arranged",
          "Love",
          "Arranged",
          "Arranged",
          "Arranged",
          "Love",
          "Love",
          "Arranged",
          "Love",
          "Love",
          "Love",
          "Love",
          "Love",
          "Love",
          "Love",
          "Arranged",
          "Love",
          "Arranged",
          "Love",
          "Arranged",
          "Arranged",
          "Arranged",
          "Love",
          "Love",
          "Love",
          "Love",
          "Arranged",
          "Love",
          "Love",
          "Arranged",
          "Love",
          "Love",
          "Love",
          "Arranged",
          "Arranged",
          "Arranged",
          "Arranged",
          "Love",
          "Love",
          "Love",
          "Arranged",
          "Arranged",
          "Love",
          "Love",
          "Love",
          "Love",
          "Arranged",
          "Love",
          "Arranged",
          "Love",
          "Love",
          "Arranged",
          "Love",
          "Love",
          "Love",
          "Love",
          "Arranged",
          "Love",
          "Arranged",
          "Love",
          "Arranged",
          "Love",
          "Arranged",
          "Love",
          "Love",
          "Arranged",
          "Love",
          "Love",
          "Arranged",
          "Arranged",
          "Arranged",
          "Arranged",
          "Love",
          "Arranged",
          "Love",
          "Love",
          "Love",
          "Love",
          "Love",
          "Arranged",
          "Arranged",
          "Arranged",
          "Love",
          "Arranged",
          "Arranged",
          "Love"
         ],
         "xaxis": "x",
         "yaxis": "y"
        },
        {
         "alignmentgroup": "True",
         "bingroup": "x",
         "hovertemplate": "Divorce Status=Yes<br>Marriage Type=%{x}<br>count=%{y}<extra></extra>",
         "legendgroup": "Yes",
         "marker": {
          "color": "#EF553B",
          "pattern": {
           "shape": ""
          }
         },
         "name": "Yes",
         "offsetgroup": "Yes",
         "orientation": "v",
         "showlegend": true,
         "texttemplate": "%{value}",
         "type": "histogram",
         "x": [
          "Arranged",
          "Love",
          "Arranged",
          "Love",
          "Arranged",
          "Arranged",
          "Love",
          "Arranged",
          "Arranged",
          "Arranged",
          "Arranged",
          "Arranged",
          "Arranged",
          "Love",
          "Love",
          "Arranged",
          "Arranged",
          "Arranged",
          "Love",
          "Love",
          "Arranged",
          "Arranged",
          "Love",
          "Love",
          "Love",
          "Love",
          "Love",
          "Love",
          "Love",
          "Love",
          "Arranged",
          "Love",
          "Love",
          "Love",
          "Arranged",
          "Arranged",
          "Arranged",
          "Arranged",
          "Love",
          "Love",
          "Arranged",
          "Arranged",
          "Love",
          "Love",
          "Arranged",
          "Arranged",
          "Arranged",
          "Love",
          "Arranged",
          "Arranged",
          "Arranged",
          "Arranged",
          "Arranged",
          "Love",
          "Love",
          "Arranged",
          "Love",
          "Love",
          "Love",
          "Arranged",
          "Love",
          "Arranged",
          "Love",
          "Love",
          "Arranged",
          "Love",
          "Love",
          "Love",
          "Arranged",
          "Arranged",
          "Arranged",
          "Love",
          "Arranged",
          "Love",
          "Arranged",
          "Love",
          "Arranged",
          "Love",
          "Arranged",
          "Arranged",
          "Arranged",
          "Love",
          "Arranged",
          "Arranged",
          "Love",
          "Love",
          "Love",
          "Arranged",
          "Love",
          "Arranged",
          "Love",
          "Love",
          "Love",
          "Love",
          "Arranged",
          "Arranged",
          "Love",
          "Arranged",
          "Arranged",
          "Arranged",
          "Love",
          "Love",
          "Love",
          "Love",
          "Love",
          "Arranged",
          "Arranged",
          "Love",
          "Love",
          "Love",
          "Love",
          "Arranged",
          "Love",
          "Love",
          "Love",
          "Love",
          "Arranged",
          "Arranged",
          "Love",
          "Love",
          "Arranged",
          "Love",
          "Arranged",
          "Arranged",
          "Arranged",
          "Arranged",
          "Love",
          "Love",
          "Arranged",
          "Love",
          "Arranged",
          "Love",
          "Love",
          "Arranged",
          "Arranged",
          "Arranged",
          "Love",
          "Arranged",
          "Arranged",
          "Love",
          "Arranged",
          "Arranged",
          "Arranged",
          "Arranged",
          "Arranged",
          "Arranged",
          "Arranged",
          "Arranged",
          "Love",
          "Love",
          "Arranged",
          "Love",
          "Arranged",
          "Love",
          "Arranged",
          "Arranged",
          "Arranged",
          "Arranged",
          "Arranged",
          "Arranged",
          "Arranged",
          "Love",
          "Arranged",
          "Love",
          "Love",
          "Arranged",
          "Love",
          "Arranged",
          "Love",
          "Love",
          "Love",
          "Love",
          "Love",
          "Arranged",
          "Love",
          "Arranged",
          "Love",
          "Arranged",
          "Love",
          "Love",
          "Love",
          "Arranged",
          "Arranged",
          "Love",
          "Arranged",
          "Arranged",
          "Love",
          "Love",
          "Arranged",
          "Arranged",
          "Love",
          "Love",
          "Arranged",
          "Love",
          "Arranged",
          "Love",
          "Love",
          "Arranged",
          "Arranged",
          "Arranged",
          "Arranged",
          "Love",
          "Love",
          "Love",
          "Arranged",
          "Love",
          "Arranged",
          "Love",
          "Arranged",
          "Arranged",
          "Love",
          "Arranged",
          "Love",
          "Arranged",
          "Love",
          "Arranged",
          "Arranged",
          "Love",
          "Love",
          "Arranged",
          "Arranged",
          "Arranged",
          "Love",
          "Arranged",
          "Love",
          "Love",
          "Love",
          "Love",
          "Love",
          "Love",
          "Arranged",
          "Love",
          "Love",
          "Love",
          "Arranged",
          "Love",
          "Arranged",
          "Love",
          "Love",
          "Arranged",
          "Arranged",
          "Arranged",
          "Arranged",
          "Love",
          "Arranged",
          "Arranged",
          "Arranged",
          "Arranged",
          "Love",
          "Arranged",
          "Arranged",
          "Arranged",
          "Arranged",
          "Love",
          "Love",
          "Arranged",
          "Love",
          "Arranged",
          "Love",
          "Love",
          "Love",
          "Arranged",
          "Love",
          "Arranged",
          "Arranged",
          "Arranged",
          "Arranged",
          "Arranged",
          "Love",
          "Arranged",
          "Arranged",
          "Love",
          "Love",
          "Arranged",
          "Arranged",
          "Arranged",
          "Love",
          "Arranged",
          "Love",
          "Arranged",
          "Love",
          "Arranged",
          "Arranged",
          "Love",
          "Love",
          "Arranged",
          "Love",
          "Arranged",
          "Arranged",
          "Arranged",
          "Love",
          "Arranged",
          "Arranged",
          "Arranged",
          "Arranged",
          "Arranged",
          "Arranged",
          "Love",
          "Love",
          "Love",
          "Arranged",
          "Love",
          "Arranged",
          "Love",
          "Love",
          "Love",
          "Love",
          "Arranged",
          "Love",
          "Arranged",
          "Arranged",
          "Love",
          "Love",
          "Arranged",
          "Arranged",
          "Arranged",
          "Love",
          "Arranged",
          "Arranged",
          "Arranged",
          "Love",
          "Arranged",
          "Love",
          "Arranged",
          "Arranged",
          "Arranged",
          "Arranged",
          "Arranged",
          "Arranged",
          "Love",
          "Love",
          "Arranged",
          "Arranged",
          "Love",
          "Love",
          "Love",
          "Arranged",
          "Love",
          "Arranged",
          "Love",
          "Arranged",
          "Love",
          "Love",
          "Love",
          "Arranged",
          "Arranged",
          "Love",
          "Arranged",
          "Love",
          "Love",
          "Love",
          "Arranged",
          "Arranged",
          "Arranged",
          "Love",
          "Love",
          "Arranged",
          "Arranged",
          "Arranged",
          "Arranged",
          "Love",
          "Love",
          "Arranged",
          "Love",
          "Love",
          "Arranged",
          "Love",
          "Arranged",
          "Arranged",
          "Arranged",
          "Arranged",
          "Arranged",
          "Love",
          "Arranged"
         ],
         "xaxis": "x",
         "yaxis": "y"
        }
       ],
       "layout": {
        "barmode": "relative",
        "legend": {
         "title": {
          "text": "Divorce Status"
         },
         "tracegroupgap": 0
        },
        "margin": {
         "t": 60
        },
        "template": {
         "data": {
          "bar": [
           {
            "error_x": {
             "color": "#2a3f5f"
            },
            "error_y": {
             "color": "#2a3f5f"
            },
            "marker": {
             "line": {
              "color": "#E5ECF6",
              "width": 0.5
             },
             "pattern": {
              "fillmode": "overlay",
              "size": 10,
              "solidity": 0.2
             }
            },
            "type": "bar"
           }
          ],
          "barpolar": [
           {
            "marker": {
             "line": {
              "color": "#E5ECF6",
              "width": 0.5
             },
             "pattern": {
              "fillmode": "overlay",
              "size": 10,
              "solidity": 0.2
             }
            },
            "type": "barpolar"
           }
          ],
          "carpet": [
           {
            "aaxis": {
             "endlinecolor": "#2a3f5f",
             "gridcolor": "white",
             "linecolor": "white",
             "minorgridcolor": "white",
             "startlinecolor": "#2a3f5f"
            },
            "baxis": {
             "endlinecolor": "#2a3f5f",
             "gridcolor": "white",
             "linecolor": "white",
             "minorgridcolor": "white",
             "startlinecolor": "#2a3f5f"
            },
            "type": "carpet"
           }
          ],
          "choropleth": [
           {
            "colorbar": {
             "outlinewidth": 0,
             "ticks": ""
            },
            "type": "choropleth"
           }
          ],
          "contour": [
           {
            "colorbar": {
             "outlinewidth": 0,
             "ticks": ""
            },
            "colorscale": [
             [
              0,
              "#0d0887"
             ],
             [
              0.1111111111111111,
              "#46039f"
             ],
             [
              0.2222222222222222,
              "#7201a8"
             ],
             [
              0.3333333333333333,
              "#9c179e"
             ],
             [
              0.4444444444444444,
              "#bd3786"
             ],
             [
              0.5555555555555556,
              "#d8576b"
             ],
             [
              0.6666666666666666,
              "#ed7953"
             ],
             [
              0.7777777777777778,
              "#fb9f3a"
             ],
             [
              0.8888888888888888,
              "#fdca26"
             ],
             [
              1,
              "#f0f921"
             ]
            ],
            "type": "contour"
           }
          ],
          "contourcarpet": [
           {
            "colorbar": {
             "outlinewidth": 0,
             "ticks": ""
            },
            "type": "contourcarpet"
           }
          ],
          "heatmap": [
           {
            "colorbar": {
             "outlinewidth": 0,
             "ticks": ""
            },
            "colorscale": [
             [
              0,
              "#0d0887"
             ],
             [
              0.1111111111111111,
              "#46039f"
             ],
             [
              0.2222222222222222,
              "#7201a8"
             ],
             [
              0.3333333333333333,
              "#9c179e"
             ],
             [
              0.4444444444444444,
              "#bd3786"
             ],
             [
              0.5555555555555556,
              "#d8576b"
             ],
             [
              0.6666666666666666,
              "#ed7953"
             ],
             [
              0.7777777777777778,
              "#fb9f3a"
             ],
             [
              0.8888888888888888,
              "#fdca26"
             ],
             [
              1,
              "#f0f921"
             ]
            ],
            "type": "heatmap"
           }
          ],
          "heatmapgl": [
           {
            "colorbar": {
             "outlinewidth": 0,
             "ticks": ""
            },
            "colorscale": [
             [
              0,
              "#0d0887"
             ],
             [
              0.1111111111111111,
              "#46039f"
             ],
             [
              0.2222222222222222,
              "#7201a8"
             ],
             [
              0.3333333333333333,
              "#9c179e"
             ],
             [
              0.4444444444444444,
              "#bd3786"
             ],
             [
              0.5555555555555556,
              "#d8576b"
             ],
             [
              0.6666666666666666,
              "#ed7953"
             ],
             [
              0.7777777777777778,
              "#fb9f3a"
             ],
             [
              0.8888888888888888,
              "#fdca26"
             ],
             [
              1,
              "#f0f921"
             ]
            ],
            "type": "heatmapgl"
           }
          ],
          "histogram": [
           {
            "marker": {
             "pattern": {
              "fillmode": "overlay",
              "size": 10,
              "solidity": 0.2
             }
            },
            "type": "histogram"
           }
          ],
          "histogram2d": [
           {
            "colorbar": {
             "outlinewidth": 0,
             "ticks": ""
            },
            "colorscale": [
             [
              0,
              "#0d0887"
             ],
             [
              0.1111111111111111,
              "#46039f"
             ],
             [
              0.2222222222222222,
              "#7201a8"
             ],
             [
              0.3333333333333333,
              "#9c179e"
             ],
             [
              0.4444444444444444,
              "#bd3786"
             ],
             [
              0.5555555555555556,
              "#d8576b"
             ],
             [
              0.6666666666666666,
              "#ed7953"
             ],
             [
              0.7777777777777778,
              "#fb9f3a"
             ],
             [
              0.8888888888888888,
              "#fdca26"
             ],
             [
              1,
              "#f0f921"
             ]
            ],
            "type": "histogram2d"
           }
          ],
          "histogram2dcontour": [
           {
            "colorbar": {
             "outlinewidth": 0,
             "ticks": ""
            },
            "colorscale": [
             [
              0,
              "#0d0887"
             ],
             [
              0.1111111111111111,
              "#46039f"
             ],
             [
              0.2222222222222222,
              "#7201a8"
             ],
             [
              0.3333333333333333,
              "#9c179e"
             ],
             [
              0.4444444444444444,
              "#bd3786"
             ],
             [
              0.5555555555555556,
              "#d8576b"
             ],
             [
              0.6666666666666666,
              "#ed7953"
             ],
             [
              0.7777777777777778,
              "#fb9f3a"
             ],
             [
              0.8888888888888888,
              "#fdca26"
             ],
             [
              1,
              "#f0f921"
             ]
            ],
            "type": "histogram2dcontour"
           }
          ],
          "mesh3d": [
           {
            "colorbar": {
             "outlinewidth": 0,
             "ticks": ""
            },
            "type": "mesh3d"
           }
          ],
          "parcoords": [
           {
            "line": {
             "colorbar": {
              "outlinewidth": 0,
              "ticks": ""
             }
            },
            "type": "parcoords"
           }
          ],
          "pie": [
           {
            "automargin": true,
            "type": "pie"
           }
          ],
          "scatter": [
           {
            "fillpattern": {
             "fillmode": "overlay",
             "size": 10,
             "solidity": 0.2
            },
            "type": "scatter"
           }
          ],
          "scatter3d": [
           {
            "line": {
             "colorbar": {
              "outlinewidth": 0,
              "ticks": ""
             }
            },
            "marker": {
             "colorbar": {
              "outlinewidth": 0,
              "ticks": ""
             }
            },
            "type": "scatter3d"
           }
          ],
          "scattercarpet": [
           {
            "marker": {
             "colorbar": {
              "outlinewidth": 0,
              "ticks": ""
             }
            },
            "type": "scattercarpet"
           }
          ],
          "scattergeo": [
           {
            "marker": {
             "colorbar": {
              "outlinewidth": 0,
              "ticks": ""
             }
            },
            "type": "scattergeo"
           }
          ],
          "scattergl": [
           {
            "marker": {
             "colorbar": {
              "outlinewidth": 0,
              "ticks": ""
             }
            },
            "type": "scattergl"
           }
          ],
          "scattermapbox": [
           {
            "marker": {
             "colorbar": {
              "outlinewidth": 0,
              "ticks": ""
             }
            },
            "type": "scattermapbox"
           }
          ],
          "scatterpolar": [
           {
            "marker": {
             "colorbar": {
              "outlinewidth": 0,
              "ticks": ""
             }
            },
            "type": "scatterpolar"
           }
          ],
          "scatterpolargl": [
           {
            "marker": {
             "colorbar": {
              "outlinewidth": 0,
              "ticks": ""
             }
            },
            "type": "scatterpolargl"
           }
          ],
          "scatterternary": [
           {
            "marker": {
             "colorbar": {
              "outlinewidth": 0,
              "ticks": ""
             }
            },
            "type": "scatterternary"
           }
          ],
          "surface": [
           {
            "colorbar": {
             "outlinewidth": 0,
             "ticks": ""
            },
            "colorscale": [
             [
              0,
              "#0d0887"
             ],
             [
              0.1111111111111111,
              "#46039f"
             ],
             [
              0.2222222222222222,
              "#7201a8"
             ],
             [
              0.3333333333333333,
              "#9c179e"
             ],
             [
              0.4444444444444444,
              "#bd3786"
             ],
             [
              0.5555555555555556,
              "#d8576b"
             ],
             [
              0.6666666666666666,
              "#ed7953"
             ],
             [
              0.7777777777777778,
              "#fb9f3a"
             ],
             [
              0.8888888888888888,
              "#fdca26"
             ],
             [
              1,
              "#f0f921"
             ]
            ],
            "type": "surface"
           }
          ],
          "table": [
           {
            "cells": {
             "fill": {
              "color": "#EBF0F8"
             },
             "line": {
              "color": "white"
             }
            },
            "header": {
             "fill": {
              "color": "#C8D4E3"
             },
             "line": {
              "color": "white"
             }
            },
            "type": "table"
           }
          ]
         },
         "layout": {
          "annotationdefaults": {
           "arrowcolor": "#2a3f5f",
           "arrowhead": 0,
           "arrowwidth": 1
          },
          "autotypenumbers": "strict",
          "coloraxis": {
           "colorbar": {
            "outlinewidth": 0,
            "ticks": ""
           }
          },
          "colorscale": {
           "diverging": [
            [
             0,
             "#8e0152"
            ],
            [
             0.1,
             "#c51b7d"
            ],
            [
             0.2,
             "#de77ae"
            ],
            [
             0.3,
             "#f1b6da"
            ],
            [
             0.4,
             "#fde0ef"
            ],
            [
             0.5,
             "#f7f7f7"
            ],
            [
             0.6,
             "#e6f5d0"
            ],
            [
             0.7,
             "#b8e186"
            ],
            [
             0.8,
             "#7fbc41"
            ],
            [
             0.9,
             "#4d9221"
            ],
            [
             1,
             "#276419"
            ]
           ],
           "sequential": [
            [
             0,
             "#0d0887"
            ],
            [
             0.1111111111111111,
             "#46039f"
            ],
            [
             0.2222222222222222,
             "#7201a8"
            ],
            [
             0.3333333333333333,
             "#9c179e"
            ],
            [
             0.4444444444444444,
             "#bd3786"
            ],
            [
             0.5555555555555556,
             "#d8576b"
            ],
            [
             0.6666666666666666,
             "#ed7953"
            ],
            [
             0.7777777777777778,
             "#fb9f3a"
            ],
            [
             0.8888888888888888,
             "#fdca26"
            ],
            [
             1,
             "#f0f921"
            ]
           ],
           "sequentialminus": [
            [
             0,
             "#0d0887"
            ],
            [
             0.1111111111111111,
             "#46039f"
            ],
            [
             0.2222222222222222,
             "#7201a8"
            ],
            [
             0.3333333333333333,
             "#9c179e"
            ],
            [
             0.4444444444444444,
             "#bd3786"
            ],
            [
             0.5555555555555556,
             "#d8576b"
            ],
            [
             0.6666666666666666,
             "#ed7953"
            ],
            [
             0.7777777777777778,
             "#fb9f3a"
            ],
            [
             0.8888888888888888,
             "#fdca26"
            ],
            [
             1,
             "#f0f921"
            ]
           ]
          },
          "colorway": [
           "#636efa",
           "#EF553B",
           "#00cc96",
           "#ab63fa",
           "#FFA15A",
           "#19d3f3",
           "#FF6692",
           "#B6E880",
           "#FF97FF",
           "#FECB52"
          ],
          "font": {
           "color": "#2a3f5f"
          },
          "geo": {
           "bgcolor": "white",
           "lakecolor": "white",
           "landcolor": "#E5ECF6",
           "showlakes": true,
           "showland": true,
           "subunitcolor": "white"
          },
          "hoverlabel": {
           "align": "left"
          },
          "hovermode": "closest",
          "mapbox": {
           "style": "light"
          },
          "paper_bgcolor": "white",
          "plot_bgcolor": "#E5ECF6",
          "polar": {
           "angularaxis": {
            "gridcolor": "white",
            "linecolor": "white",
            "ticks": ""
           },
           "bgcolor": "#E5ECF6",
           "radialaxis": {
            "gridcolor": "white",
            "linecolor": "white",
            "ticks": ""
           }
          },
          "scene": {
           "xaxis": {
            "backgroundcolor": "#E5ECF6",
            "gridcolor": "white",
            "gridwidth": 2,
            "linecolor": "white",
            "showbackground": true,
            "ticks": "",
            "zerolinecolor": "white"
           },
           "yaxis": {
            "backgroundcolor": "#E5ECF6",
            "gridcolor": "white",
            "gridwidth": 2,
            "linecolor": "white",
            "showbackground": true,
            "ticks": "",
            "zerolinecolor": "white"
           },
           "zaxis": {
            "backgroundcolor": "#E5ECF6",
            "gridcolor": "white",
            "gridwidth": 2,
            "linecolor": "white",
            "showbackground": true,
            "ticks": "",
            "zerolinecolor": "white"
           }
          },
          "shapedefaults": {
           "line": {
            "color": "#2a3f5f"
           }
          },
          "ternary": {
           "aaxis": {
            "gridcolor": "white",
            "linecolor": "white",
            "ticks": ""
           },
           "baxis": {
            "gridcolor": "white",
            "linecolor": "white",
            "ticks": ""
           },
           "bgcolor": "#E5ECF6",
           "caxis": {
            "gridcolor": "white",
            "linecolor": "white",
            "ticks": ""
           }
          },
          "title": {
           "x": 0.05
          },
          "xaxis": {
           "automargin": true,
           "gridcolor": "white",
           "linecolor": "white",
           "ticks": "",
           "title": {
            "standoff": 15
           },
           "zerolinecolor": "white",
           "zerolinewidth": 2
          },
          "yaxis": {
           "automargin": true,
           "gridcolor": "white",
           "linecolor": "white",
           "ticks": "",
           "title": {
            "standoff": 15
           },
           "zerolinecolor": "white",
           "zerolinewidth": 2
          }
         }
        },
        "xaxis": {
         "anchor": "y",
         "domain": [
          0,
          1
         ],
         "title": {
          "text": "Marriage Type"
         }
        },
        "yaxis": {
         "anchor": "x",
         "domain": [
          0,
          1
         ],
         "title": {
          "text": "count"
         }
        }
       }
      }
     },
     "metadata": {},
     "output_type": "display_data"
    },
    {
     "data": {
      "application/vnd.plotly.v1+json": {
       "config": {
        "plotlyServerURL": "https://plot.ly"
       },
       "data": [
        {
         "alignmentgroup": "True",
         "bingroup": "x",
         "hovertemplate": "Divorce Status=No<br>Education Level=%{x}<br>count=%{y}<extra></extra>",
         "legendgroup": "No",
         "marker": {
          "color": "#636efa",
          "pattern": {
           "shape": ""
          }
         },
         "name": "No",
         "offsetgroup": "No",
         "orientation": "v",
         "showlegend": true,
         "texttemplate": "%{value}",
         "type": "histogram",
         "x": [
          "Secondary",
          "Graduate",
          "Secondary",
          "Postgraduate",
          "Primary",
          "Primary",
          "Graduate",
          "Graduate",
          "Graduate",
          "Primary",
          "Graduate",
          "No Education",
          "Graduate",
          "Graduate",
          "No Education",
          "Secondary",
          "No Education",
          "Primary",
          "No Education",
          "Primary",
          "Secondary",
          "Postgraduate",
          "Postgraduate",
          "Secondary",
          "No Education",
          "No Education",
          "Graduate",
          "No Education",
          "No Education",
          "Primary",
          "No Education",
          "Primary",
          "Postgraduate",
          "Graduate",
          "No Education",
          "No Education",
          "Secondary",
          "Primary",
          "Postgraduate",
          "Postgraduate",
          "Primary",
          "Postgraduate",
          "Secondary",
          "Postgraduate",
          "Postgraduate",
          "Secondary",
          "Graduate",
          "No Education",
          "No Education",
          "Secondary",
          "Postgraduate",
          "Primary",
          "Secondary",
          "Graduate",
          "Graduate",
          "No Education",
          "Graduate",
          "Secondary",
          "Graduate",
          "Secondary",
          "Primary",
          "No Education",
          "Graduate",
          "Postgraduate",
          "No Education",
          "Secondary",
          "Primary",
          "Graduate",
          "Secondary",
          "Secondary",
          "Postgraduate",
          "No Education",
          "Secondary",
          "Secondary",
          "Postgraduate",
          "Postgraduate",
          "Primary",
          "Graduate",
          "No Education",
          "No Education",
          "Secondary",
          "Postgraduate",
          "Graduate",
          "No Education",
          "Primary",
          "Graduate",
          "Postgraduate",
          "Graduate",
          "Graduate",
          "Primary",
          "Secondary",
          "Postgraduate",
          "Secondary",
          "Postgraduate",
          "Graduate",
          "Postgraduate",
          "Graduate",
          "Secondary",
          "Primary",
          "Secondary",
          "No Education",
          "No Education",
          "Postgraduate",
          "Secondary",
          "Graduate",
          "Graduate",
          "Postgraduate",
          "Secondary",
          "Secondary",
          "Primary",
          "Primary",
          "Postgraduate",
          "Graduate",
          "Graduate",
          "Postgraduate",
          "Secondary",
          "Primary",
          "No Education",
          "Primary",
          "Primary",
          "Primary",
          "Postgraduate",
          "Graduate",
          "Graduate",
          "Primary",
          "Secondary",
          "Secondary",
          "No Education",
          "No Education",
          "Postgraduate",
          "No Education",
          "Primary",
          "Postgraduate",
          "Graduate",
          "Postgraduate",
          "Secondary",
          "Secondary",
          "Secondary",
          "Graduate",
          "Primary",
          "Secondary",
          "Graduate",
          "Primary",
          "Postgraduate",
          "Graduate",
          "Primary",
          "Primary",
          "Postgraduate",
          "No Education",
          "Secondary",
          "Graduate",
          "Secondary",
          "Graduate",
          "Primary",
          "Secondary",
          "Postgraduate",
          "Secondary",
          "Secondary",
          "Postgraduate",
          "Graduate",
          "Primary",
          "Postgraduate",
          "Primary",
          "Graduate",
          "Primary",
          "No Education",
          "Graduate",
          "Postgraduate",
          "Postgraduate",
          "No Education",
          "No Education",
          "Postgraduate",
          "No Education",
          "Postgraduate",
          "No Education",
          "Primary",
          "Postgraduate",
          "Graduate",
          "Secondary",
          "Graduate",
          "Graduate",
          "Secondary",
          "No Education",
          "Primary",
          "Primary",
          "Postgraduate",
          "No Education",
          "No Education",
          "Secondary",
          "Graduate",
          "Postgraduate",
          "No Education",
          "Primary",
          "Secondary",
          "Primary",
          "No Education",
          "Secondary",
          "Primary",
          "No Education",
          "No Education",
          "Graduate",
          "No Education",
          "Secondary",
          "Postgraduate",
          "Postgraduate",
          "No Education",
          "No Education",
          "No Education",
          "Secondary",
          "No Education",
          "Primary",
          "Secondary",
          "No Education",
          "Primary",
          "No Education",
          "Primary",
          "Secondary",
          "No Education",
          "Postgraduate",
          "Postgraduate",
          "Secondary",
          "No Education",
          "No Education",
          "Graduate",
          "Graduate",
          "Primary",
          "No Education",
          "Graduate",
          "Secondary",
          "Primary",
          "No Education",
          "Postgraduate",
          "Graduate",
          "Secondary",
          "Postgraduate",
          "Secondary",
          "No Education",
          "No Education",
          "Secondary",
          "Postgraduate",
          "Postgraduate",
          "Postgraduate",
          "Secondary",
          "Secondary",
          "Graduate",
          "Secondary",
          "Primary",
          "No Education",
          "Graduate",
          "Graduate",
          "Primary",
          "No Education",
          "Postgraduate",
          "Secondary",
          "Secondary",
          "Primary",
          "Graduate",
          "No Education",
          "No Education",
          "Postgraduate",
          "Secondary",
          "Postgraduate",
          "Secondary",
          "No Education",
          "No Education",
          "Postgraduate",
          "No Education",
          "Postgraduate",
          "No Education",
          "Primary",
          "No Education",
          "Secondary",
          "Postgraduate",
          "Primary",
          "Graduate",
          "Graduate",
          "Secondary",
          "Postgraduate",
          "No Education",
          "Primary",
          "Postgraduate",
          "Primary",
          "Primary",
          "No Education",
          "Postgraduate",
          "Primary",
          "Graduate",
          "Secondary",
          "Graduate",
          "Secondary",
          "Secondary",
          "Primary",
          "No Education",
          "Secondary",
          "Primary",
          "Primary",
          "Primary",
          "Secondary",
          "Postgraduate",
          "Graduate",
          "Secondary",
          "Graduate",
          "Graduate",
          "Secondary",
          "Graduate",
          "Primary",
          "Secondary",
          "No Education",
          "No Education",
          "Secondary",
          "Secondary",
          "Graduate",
          "Primary",
          "Postgraduate",
          "Graduate",
          "No Education",
          "Secondary",
          "No Education",
          "Postgraduate",
          "Secondary",
          "Secondary",
          "Postgraduate",
          "Graduate",
          "No Education",
          "No Education",
          "Postgraduate",
          "No Education",
          "No Education",
          "Graduate",
          "No Education",
          "Graduate",
          "Primary",
          "Primary",
          "Primary",
          "Secondary",
          "Primary",
          "Graduate",
          "Secondary",
          "Postgraduate",
          "No Education",
          "Graduate",
          "Postgraduate",
          "Secondary",
          "No Education",
          "Secondary",
          "Primary",
          "Graduate",
          "No Education",
          "Secondary",
          "No Education",
          "Primary",
          "Primary",
          "Postgraduate",
          "No Education",
          "Postgraduate",
          "Graduate",
          "No Education",
          "Secondary",
          "Secondary",
          "Postgraduate",
          "Primary",
          "Secondary",
          "Primary",
          "Primary",
          "Primary",
          "Secondary",
          "Secondary",
          "Postgraduate",
          "Secondary",
          "Primary",
          "No Education",
          "Primary",
          "No Education",
          "No Education",
          "Secondary",
          "No Education",
          "No Education",
          "Graduate",
          "No Education",
          "Postgraduate",
          "No Education",
          "Primary",
          "Secondary",
          "Postgraduate",
          "Primary",
          "Postgraduate",
          "Primary",
          "Secondary",
          "Graduate",
          "Primary",
          "Graduate",
          "Primary",
          "Graduate",
          "Postgraduate",
          "Graduate",
          "Primary",
          "Primary",
          "Graduate",
          "No Education",
          "Secondary",
          "Postgraduate",
          "Postgraduate",
          "No Education",
          "Primary",
          "Graduate",
          "Secondary",
          "Postgraduate",
          "Graduate",
          "Secondary",
          "Secondary",
          "Graduate",
          "Postgraduate",
          "No Education",
          "Graduate",
          "Graduate",
          "Secondary",
          "Primary",
          "No Education",
          "Postgraduate",
          "Primary",
          "Graduate",
          "No Education",
          "Postgraduate",
          "Postgraduate",
          "Primary",
          "Primary",
          "No Education",
          "Postgraduate",
          "Postgraduate",
          "No Education",
          "Secondary",
          "Postgraduate",
          "Secondary",
          "Postgraduate",
          "Primary",
          "No Education",
          "Graduate",
          "Secondary",
          "No Education",
          "Postgraduate",
          "Postgraduate",
          "Postgraduate",
          "No Education",
          "Postgraduate",
          "Primary",
          "Postgraduate",
          "Graduate",
          "Primary",
          "No Education",
          "Secondary",
          "Primary",
          "Secondary",
          "Graduate",
          "No Education",
          "Primary",
          "Graduate",
          "Secondary",
          "Postgraduate",
          "No Education",
          "No Education",
          "No Education",
          "Secondary",
          "Secondary",
          "Primary",
          "Secondary",
          "Postgraduate",
          "Postgraduate",
          "No Education",
          "Postgraduate",
          "Postgraduate",
          "Postgraduate",
          "Primary",
          "No Education",
          "Postgraduate",
          "Primary",
          "Secondary",
          "No Education",
          "Postgraduate",
          "No Education",
          "No Education",
          "No Education",
          "Secondary",
          "No Education",
          "Secondary",
          "Postgraduate",
          "Secondary",
          "Postgraduate",
          "Postgraduate",
          "Secondary",
          "Primary",
          "Graduate",
          "Graduate",
          "Postgraduate",
          "No Education",
          "Graduate",
          "Postgraduate",
          "Secondary",
          "Primary",
          "Secondary",
          "Secondary",
          "Postgraduate",
          "Primary",
          "Graduate",
          "No Education",
          "Graduate",
          "Graduate",
          "Graduate",
          "No Education",
          "No Education",
          "Postgraduate",
          "Primary",
          "Primary",
          "Postgraduate",
          "Postgraduate",
          "Graduate",
          "Postgraduate",
          "Secondary",
          "Postgraduate",
          "Secondary",
          "Secondary",
          "Secondary",
          "Secondary",
          "Primary",
          "Secondary",
          "Secondary",
          "Secondary",
          "No Education",
          "No Education",
          "Primary",
          "Graduate",
          "No Education",
          "Primary",
          "Primary",
          "Postgraduate",
          "Postgraduate",
          "Secondary",
          "Postgraduate",
          "Secondary",
          "Graduate",
          "Graduate",
          "Primary",
          "No Education",
          "Secondary",
          "Primary",
          "Primary",
          "Postgraduate",
          "Postgraduate",
          "Primary",
          "Graduate",
          "Primary",
          "Postgraduate",
          "Secondary",
          "No Education",
          "Postgraduate",
          "Secondary",
          "Primary",
          "Graduate",
          "Graduate",
          "Secondary",
          "No Education",
          "Primary",
          "Primary",
          "No Education",
          "Secondary",
          "No Education",
          "Postgraduate",
          "Postgraduate",
          "Primary",
          "Postgraduate",
          "Graduate",
          "Primary",
          "Postgraduate",
          "Graduate",
          "Postgraduate",
          "Graduate",
          "No Education",
          "Graduate",
          "No Education",
          "Postgraduate",
          "Postgraduate",
          "Postgraduate",
          "Secondary",
          "Postgraduate",
          "Primary",
          "Secondary",
          "Secondary",
          "No Education",
          "Postgraduate",
          "Secondary",
          "Graduate",
          "Secondary",
          "Postgraduate",
          "Postgraduate",
          "Primary",
          "Postgraduate",
          "Secondary",
          "No Education",
          "Graduate",
          "Secondary",
          "Secondary",
          "Postgraduate",
          "Secondary",
          "Secondary",
          "Graduate",
          "Postgraduate",
          "Primary",
          "No Education",
          "Graduate",
          "Secondary",
          "Primary",
          "Secondary",
          "Secondary",
          "Postgraduate",
          "Postgraduate",
          "Primary",
          "Secondary",
          "No Education",
          "Graduate",
          "Postgraduate",
          "Secondary",
          "Primary",
          "Secondary",
          "No Education",
          "Primary",
          "Secondary",
          "Postgraduate",
          "Secondary",
          "Graduate",
          "Primary",
          "Graduate",
          "No Education",
          "Primary",
          "Graduate",
          "Secondary",
          "Postgraduate",
          "Primary",
          "Secondary",
          "Primary",
          "Secondary",
          "Graduate",
          "Postgraduate",
          "No Education",
          "Secondary",
          "No Education",
          "Primary",
          "Secondary",
          "No Education",
          "Graduate",
          "No Education",
          "Graduate",
          "Primary",
          "No Education",
          "Primary",
          "No Education",
          "Secondary",
          "Secondary",
          "Graduate",
          "Secondary",
          "Graduate",
          "Postgraduate",
          "Postgraduate",
          "Primary",
          "Postgraduate",
          "No Education",
          "Secondary",
          "Graduate",
          "Secondary",
          "Graduate",
          "Postgraduate",
          "Primary",
          "No Education",
          "Graduate",
          "Graduate",
          "Postgraduate",
          "Postgraduate",
          "No Education",
          "Secondary",
          "Graduate",
          "Primary",
          "Postgraduate",
          "Graduate",
          "Graduate",
          "Postgraduate",
          "Graduate",
          "No Education",
          "Secondary",
          "Primary",
          "Graduate",
          "Primary",
          "Primary",
          "Secondary",
          "Graduate",
          "Primary",
          "Primary",
          "Postgraduate",
          "Graduate",
          "Secondary",
          "Graduate",
          "Secondary",
          "Postgraduate",
          "Graduate",
          "Graduate",
          "Graduate",
          "Postgraduate",
          "Graduate",
          "Primary",
          "Primary",
          "Secondary",
          "Graduate",
          "Postgraduate",
          "Primary",
          "Secondary",
          "Graduate",
          "Graduate",
          "No Education",
          "No Education",
          "Primary",
          "No Education",
          "Postgraduate",
          "No Education",
          "Primary",
          "Secondary",
          "Graduate",
          "No Education",
          "Primary",
          "Postgraduate",
          "No Education",
          "Graduate",
          "Primary",
          "Secondary",
          "Postgraduate",
          "Postgraduate",
          "No Education",
          "Graduate",
          "Graduate",
          "Graduate",
          "Graduate",
          "Secondary",
          "No Education",
          "Postgraduate",
          "Secondary",
          "Postgraduate",
          "No Education",
          "Graduate",
          "Graduate",
          "Postgraduate",
          "Secondary",
          "Graduate",
          "Secondary",
          "Postgraduate",
          "Postgraduate",
          "Secondary",
          "Primary",
          "Secondary",
          "Secondary",
          "Graduate",
          "No Education",
          "Secondary",
          "Postgraduate",
          "Postgraduate",
          "No Education",
          "No Education",
          "Primary",
          "Postgraduate",
          "No Education",
          "Graduate",
          "Graduate",
          "No Education",
          "No Education",
          "Postgraduate",
          "No Education",
          "Primary",
          "Primary",
          "Secondary",
          "Postgraduate",
          "Secondary",
          "Postgraduate",
          "Postgraduate",
          "No Education",
          "No Education",
          "Postgraduate",
          "Primary",
          "No Education",
          "Primary",
          "Postgraduate",
          "Primary",
          "Postgraduate",
          "Secondary",
          "Postgraduate",
          "Postgraduate",
          "No Education",
          "Secondary",
          "No Education",
          "Graduate",
          "Primary",
          "Graduate",
          "Postgraduate",
          "Graduate",
          "No Education",
          "No Education",
          "No Education",
          "No Education",
          "Graduate",
          "Secondary",
          "Primary",
          "No Education",
          "Graduate",
          "No Education",
          "Postgraduate",
          "No Education",
          "No Education",
          "Secondary",
          "Graduate",
          "No Education",
          "Secondary",
          "Secondary",
          "Secondary",
          "Secondary",
          "No Education",
          "No Education",
          "Postgraduate",
          "Postgraduate",
          "Primary",
          "Postgraduate",
          "Secondary",
          "No Education"
         ],
         "xaxis": "x",
         "yaxis": "y"
        },
        {
         "alignmentgroup": "True",
         "bingroup": "x",
         "hovertemplate": "Divorce Status=Yes<br>Education Level=%{x}<br>count=%{y}<extra></extra>",
         "legendgroup": "Yes",
         "marker": {
          "color": "#EF553B",
          "pattern": {
           "shape": ""
          }
         },
         "name": "Yes",
         "offsetgroup": "Yes",
         "orientation": "v",
         "showlegend": true,
         "texttemplate": "%{value}",
         "type": "histogram",
         "x": [
          "No Education",
          "No Education",
          "Postgraduate",
          "Secondary",
          "No Education",
          "Postgraduate",
          "Postgraduate",
          "Primary",
          "Postgraduate",
          "Primary",
          "Secondary",
          "No Education",
          "Primary",
          "Graduate",
          "Primary",
          "Secondary",
          "Postgraduate",
          "Secondary",
          "Graduate",
          "Graduate",
          "Secondary",
          "Graduate",
          "Primary",
          "Graduate",
          "Secondary",
          "Primary",
          "Primary",
          "Postgraduate",
          "Primary",
          "Graduate",
          "Secondary",
          "Primary",
          "Primary",
          "Graduate",
          "Postgraduate",
          "Primary",
          "Primary",
          "Primary",
          "Secondary",
          "Graduate",
          "Primary",
          "Postgraduate",
          "Primary",
          "Secondary",
          "Postgraduate",
          "Graduate",
          "Primary",
          "No Education",
          "Secondary",
          "Postgraduate",
          "Primary",
          "No Education",
          "No Education",
          "Secondary",
          "No Education",
          "No Education",
          "Postgraduate",
          "Graduate",
          "No Education",
          "Primary",
          "No Education",
          "Postgraduate",
          "No Education",
          "Postgraduate",
          "Secondary",
          "Postgraduate",
          "Postgraduate",
          "Graduate",
          "Graduate",
          "Postgraduate",
          "No Education",
          "No Education",
          "Secondary",
          "No Education",
          "Postgraduate",
          "Postgraduate",
          "Graduate",
          "Postgraduate",
          "Secondary",
          "Graduate",
          "Graduate",
          "Postgraduate",
          "Postgraduate",
          "Secondary",
          "Secondary",
          "Postgraduate",
          "Secondary",
          "Primary",
          "No Education",
          "Graduate",
          "Graduate",
          "No Education",
          "Postgraduate",
          "No Education",
          "No Education",
          "Postgraduate",
          "Graduate",
          "Graduate",
          "Postgraduate",
          "No Education",
          "No Education",
          "Secondary",
          "Primary",
          "Graduate",
          "Secondary",
          "Secondary",
          "Primary",
          "No Education",
          "No Education",
          "Secondary",
          "Secondary",
          "Graduate",
          "Secondary",
          "Primary",
          "Secondary",
          "Graduate",
          "Graduate",
          "Graduate",
          "Graduate",
          "Secondary",
          "Secondary",
          "No Education",
          "Postgraduate",
          "Graduate",
          "Postgraduate",
          "Primary",
          "Primary",
          "No Education",
          "No Education",
          "Primary",
          "Postgraduate",
          "Graduate",
          "Primary",
          "No Education",
          "No Education",
          "No Education",
          "Primary",
          "Graduate",
          "Secondary",
          "No Education",
          "Secondary",
          "Postgraduate",
          "Primary",
          "Secondary",
          "Primary",
          "No Education",
          "Graduate",
          "Primary",
          "Primary",
          "Secondary",
          "Postgraduate",
          "Graduate",
          "Primary",
          "No Education",
          "Graduate",
          "Secondary",
          "Primary",
          "No Education",
          "Postgraduate",
          "No Education",
          "Secondary",
          "Graduate",
          "Secondary",
          "No Education",
          "Graduate",
          "No Education",
          "Postgraduate",
          "Primary",
          "No Education",
          "Secondary",
          "Primary",
          "Graduate",
          "Secondary",
          "Secondary",
          "Postgraduate",
          "Graduate",
          "Secondary",
          "Secondary",
          "Primary",
          "Secondary",
          "No Education",
          "Postgraduate",
          "Graduate",
          "Postgraduate",
          "Secondary",
          "Graduate",
          "Primary",
          "No Education",
          "No Education",
          "Postgraduate",
          "Postgraduate",
          "Primary",
          "Graduate",
          "Postgraduate",
          "Graduate",
          "Primary",
          "No Education",
          "No Education",
          "No Education",
          "No Education",
          "Postgraduate",
          "Graduate",
          "No Education",
          "Secondary",
          "Primary",
          "Primary",
          "Graduate",
          "Primary",
          "Graduate",
          "Secondary",
          "Secondary",
          "Primary",
          "Primary",
          "No Education",
          "Postgraduate",
          "Primary",
          "Postgraduate",
          "No Education",
          "Primary",
          "Postgraduate",
          "No Education",
          "Primary",
          "No Education",
          "No Education",
          "No Education",
          "No Education",
          "Secondary",
          "Secondary",
          "No Education",
          "Secondary",
          "No Education",
          "Postgraduate",
          "No Education",
          "Secondary",
          "Primary",
          "Primary",
          "Secondary",
          "Graduate",
          "Secondary",
          "Graduate",
          "Graduate",
          "Primary",
          "Graduate",
          "Graduate",
          "Postgraduate",
          "No Education",
          "Postgraduate",
          "Primary",
          "Graduate",
          "No Education",
          "Secondary",
          "Graduate",
          "No Education",
          "Postgraduate",
          "Postgraduate",
          "Graduate",
          "Postgraduate",
          "Secondary",
          "Primary",
          "Primary",
          "Primary",
          "Graduate",
          "Secondary",
          "Primary",
          "No Education",
          "Secondary",
          "Postgraduate",
          "Graduate",
          "Secondary",
          "Graduate",
          "Primary",
          "Graduate",
          "Graduate",
          "No Education",
          "Postgraduate",
          "Postgraduate",
          "Primary",
          "Primary",
          "Graduate",
          "Secondary",
          "Secondary",
          "Secondary",
          "Postgraduate",
          "Postgraduate",
          "Secondary",
          "Secondary",
          "Postgraduate",
          "Postgraduate",
          "Secondary",
          "Primary",
          "Postgraduate",
          "Graduate",
          "Secondary",
          "Secondary",
          "Graduate",
          "Postgraduate",
          "Postgraduate",
          "No Education",
          "Secondary",
          "Postgraduate",
          "No Education",
          "Postgraduate",
          "Graduate",
          "Primary",
          "Graduate",
          "Primary",
          "Primary",
          "Graduate",
          "Primary",
          "Secondary",
          "Secondary",
          "Secondary",
          "Secondary",
          "Postgraduate",
          "No Education",
          "No Education",
          "No Education",
          "Primary",
          "Postgraduate",
          "Secondary",
          "Primary",
          "Graduate",
          "Postgraduate",
          "No Education",
          "Primary",
          "No Education",
          "Postgraduate",
          "Graduate",
          "Postgraduate",
          "Primary",
          "Primary",
          "Postgraduate",
          "Primary",
          "No Education",
          "No Education",
          "Primary",
          "Secondary",
          "No Education",
          "Secondary",
          "Primary",
          "Postgraduate",
          "No Education",
          "No Education",
          "Postgraduate",
          "Graduate",
          "Primary",
          "Graduate",
          "No Education",
          "Postgraduate",
          "Secondary",
          "Primary",
          "No Education",
          "Graduate",
          "Postgraduate",
          "Graduate",
          "Graduate",
          "Postgraduate",
          "Primary",
          "Primary",
          "Postgraduate",
          "Graduate",
          "No Education",
          "Primary",
          "Secondary",
          "Graduate",
          "Primary",
          "Postgraduate",
          "Graduate",
          "Graduate",
          "Secondary",
          "Primary",
          "Primary",
          "Postgraduate",
          "Postgraduate"
         ],
         "xaxis": "x",
         "yaxis": "y"
        }
       ],
       "layout": {
        "barmode": "relative",
        "legend": {
         "title": {
          "text": "Divorce Status"
         },
         "tracegroupgap": 0
        },
        "margin": {
         "t": 60
        },
        "template": {
         "data": {
          "bar": [
           {
            "error_x": {
             "color": "#2a3f5f"
            },
            "error_y": {
             "color": "#2a3f5f"
            },
            "marker": {
             "line": {
              "color": "#E5ECF6",
              "width": 0.5
             },
             "pattern": {
              "fillmode": "overlay",
              "size": 10,
              "solidity": 0.2
             }
            },
            "type": "bar"
           }
          ],
          "barpolar": [
           {
            "marker": {
             "line": {
              "color": "#E5ECF6",
              "width": 0.5
             },
             "pattern": {
              "fillmode": "overlay",
              "size": 10,
              "solidity": 0.2
             }
            },
            "type": "barpolar"
           }
          ],
          "carpet": [
           {
            "aaxis": {
             "endlinecolor": "#2a3f5f",
             "gridcolor": "white",
             "linecolor": "white",
             "minorgridcolor": "white",
             "startlinecolor": "#2a3f5f"
            },
            "baxis": {
             "endlinecolor": "#2a3f5f",
             "gridcolor": "white",
             "linecolor": "white",
             "minorgridcolor": "white",
             "startlinecolor": "#2a3f5f"
            },
            "type": "carpet"
           }
          ],
          "choropleth": [
           {
            "colorbar": {
             "outlinewidth": 0,
             "ticks": ""
            },
            "type": "choropleth"
           }
          ],
          "contour": [
           {
            "colorbar": {
             "outlinewidth": 0,
             "ticks": ""
            },
            "colorscale": [
             [
              0,
              "#0d0887"
             ],
             [
              0.1111111111111111,
              "#46039f"
             ],
             [
              0.2222222222222222,
              "#7201a8"
             ],
             [
              0.3333333333333333,
              "#9c179e"
             ],
             [
              0.4444444444444444,
              "#bd3786"
             ],
             [
              0.5555555555555556,
              "#d8576b"
             ],
             [
              0.6666666666666666,
              "#ed7953"
             ],
             [
              0.7777777777777778,
              "#fb9f3a"
             ],
             [
              0.8888888888888888,
              "#fdca26"
             ],
             [
              1,
              "#f0f921"
             ]
            ],
            "type": "contour"
           }
          ],
          "contourcarpet": [
           {
            "colorbar": {
             "outlinewidth": 0,
             "ticks": ""
            },
            "type": "contourcarpet"
           }
          ],
          "heatmap": [
           {
            "colorbar": {
             "outlinewidth": 0,
             "ticks": ""
            },
            "colorscale": [
             [
              0,
              "#0d0887"
             ],
             [
              0.1111111111111111,
              "#46039f"
             ],
             [
              0.2222222222222222,
              "#7201a8"
             ],
             [
              0.3333333333333333,
              "#9c179e"
             ],
             [
              0.4444444444444444,
              "#bd3786"
             ],
             [
              0.5555555555555556,
              "#d8576b"
             ],
             [
              0.6666666666666666,
              "#ed7953"
             ],
             [
              0.7777777777777778,
              "#fb9f3a"
             ],
             [
              0.8888888888888888,
              "#fdca26"
             ],
             [
              1,
              "#f0f921"
             ]
            ],
            "type": "heatmap"
           }
          ],
          "heatmapgl": [
           {
            "colorbar": {
             "outlinewidth": 0,
             "ticks": ""
            },
            "colorscale": [
             [
              0,
              "#0d0887"
             ],
             [
              0.1111111111111111,
              "#46039f"
             ],
             [
              0.2222222222222222,
              "#7201a8"
             ],
             [
              0.3333333333333333,
              "#9c179e"
             ],
             [
              0.4444444444444444,
              "#bd3786"
             ],
             [
              0.5555555555555556,
              "#d8576b"
             ],
             [
              0.6666666666666666,
              "#ed7953"
             ],
             [
              0.7777777777777778,
              "#fb9f3a"
             ],
             [
              0.8888888888888888,
              "#fdca26"
             ],
             [
              1,
              "#f0f921"
             ]
            ],
            "type": "heatmapgl"
           }
          ],
          "histogram": [
           {
            "marker": {
             "pattern": {
              "fillmode": "overlay",
              "size": 10,
              "solidity": 0.2
             }
            },
            "type": "histogram"
           }
          ],
          "histogram2d": [
           {
            "colorbar": {
             "outlinewidth": 0,
             "ticks": ""
            },
            "colorscale": [
             [
              0,
              "#0d0887"
             ],
             [
              0.1111111111111111,
              "#46039f"
             ],
             [
              0.2222222222222222,
              "#7201a8"
             ],
             [
              0.3333333333333333,
              "#9c179e"
             ],
             [
              0.4444444444444444,
              "#bd3786"
             ],
             [
              0.5555555555555556,
              "#d8576b"
             ],
             [
              0.6666666666666666,
              "#ed7953"
             ],
             [
              0.7777777777777778,
              "#fb9f3a"
             ],
             [
              0.8888888888888888,
              "#fdca26"
             ],
             [
              1,
              "#f0f921"
             ]
            ],
            "type": "histogram2d"
           }
          ],
          "histogram2dcontour": [
           {
            "colorbar": {
             "outlinewidth": 0,
             "ticks": ""
            },
            "colorscale": [
             [
              0,
              "#0d0887"
             ],
             [
              0.1111111111111111,
              "#46039f"
             ],
             [
              0.2222222222222222,
              "#7201a8"
             ],
             [
              0.3333333333333333,
              "#9c179e"
             ],
             [
              0.4444444444444444,
              "#bd3786"
             ],
             [
              0.5555555555555556,
              "#d8576b"
             ],
             [
              0.6666666666666666,
              "#ed7953"
             ],
             [
              0.7777777777777778,
              "#fb9f3a"
             ],
             [
              0.8888888888888888,
              "#fdca26"
             ],
             [
              1,
              "#f0f921"
             ]
            ],
            "type": "histogram2dcontour"
           }
          ],
          "mesh3d": [
           {
            "colorbar": {
             "outlinewidth": 0,
             "ticks": ""
            },
            "type": "mesh3d"
           }
          ],
          "parcoords": [
           {
            "line": {
             "colorbar": {
              "outlinewidth": 0,
              "ticks": ""
             }
            },
            "type": "parcoords"
           }
          ],
          "pie": [
           {
            "automargin": true,
            "type": "pie"
           }
          ],
          "scatter": [
           {
            "fillpattern": {
             "fillmode": "overlay",
             "size": 10,
             "solidity": 0.2
            },
            "type": "scatter"
           }
          ],
          "scatter3d": [
           {
            "line": {
             "colorbar": {
              "outlinewidth": 0,
              "ticks": ""
             }
            },
            "marker": {
             "colorbar": {
              "outlinewidth": 0,
              "ticks": ""
             }
            },
            "type": "scatter3d"
           }
          ],
          "scattercarpet": [
           {
            "marker": {
             "colorbar": {
              "outlinewidth": 0,
              "ticks": ""
             }
            },
            "type": "scattercarpet"
           }
          ],
          "scattergeo": [
           {
            "marker": {
             "colorbar": {
              "outlinewidth": 0,
              "ticks": ""
             }
            },
            "type": "scattergeo"
           }
          ],
          "scattergl": [
           {
            "marker": {
             "colorbar": {
              "outlinewidth": 0,
              "ticks": ""
             }
            },
            "type": "scattergl"
           }
          ],
          "scattermapbox": [
           {
            "marker": {
             "colorbar": {
              "outlinewidth": 0,
              "ticks": ""
             }
            },
            "type": "scattermapbox"
           }
          ],
          "scatterpolar": [
           {
            "marker": {
             "colorbar": {
              "outlinewidth": 0,
              "ticks": ""
             }
            },
            "type": "scatterpolar"
           }
          ],
          "scatterpolargl": [
           {
            "marker": {
             "colorbar": {
              "outlinewidth": 0,
              "ticks": ""
             }
            },
            "type": "scatterpolargl"
           }
          ],
          "scatterternary": [
           {
            "marker": {
             "colorbar": {
              "outlinewidth": 0,
              "ticks": ""
             }
            },
            "type": "scatterternary"
           }
          ],
          "surface": [
           {
            "colorbar": {
             "outlinewidth": 0,
             "ticks": ""
            },
            "colorscale": [
             [
              0,
              "#0d0887"
             ],
             [
              0.1111111111111111,
              "#46039f"
             ],
             [
              0.2222222222222222,
              "#7201a8"
             ],
             [
              0.3333333333333333,
              "#9c179e"
             ],
             [
              0.4444444444444444,
              "#bd3786"
             ],
             [
              0.5555555555555556,
              "#d8576b"
             ],
             [
              0.6666666666666666,
              "#ed7953"
             ],
             [
              0.7777777777777778,
              "#fb9f3a"
             ],
             [
              0.8888888888888888,
              "#fdca26"
             ],
             [
              1,
              "#f0f921"
             ]
            ],
            "type": "surface"
           }
          ],
          "table": [
           {
            "cells": {
             "fill": {
              "color": "#EBF0F8"
             },
             "line": {
              "color": "white"
             }
            },
            "header": {
             "fill": {
              "color": "#C8D4E3"
             },
             "line": {
              "color": "white"
             }
            },
            "type": "table"
           }
          ]
         },
         "layout": {
          "annotationdefaults": {
           "arrowcolor": "#2a3f5f",
           "arrowhead": 0,
           "arrowwidth": 1
          },
          "autotypenumbers": "strict",
          "coloraxis": {
           "colorbar": {
            "outlinewidth": 0,
            "ticks": ""
           }
          },
          "colorscale": {
           "diverging": [
            [
             0,
             "#8e0152"
            ],
            [
             0.1,
             "#c51b7d"
            ],
            [
             0.2,
             "#de77ae"
            ],
            [
             0.3,
             "#f1b6da"
            ],
            [
             0.4,
             "#fde0ef"
            ],
            [
             0.5,
             "#f7f7f7"
            ],
            [
             0.6,
             "#e6f5d0"
            ],
            [
             0.7,
             "#b8e186"
            ],
            [
             0.8,
             "#7fbc41"
            ],
            [
             0.9,
             "#4d9221"
            ],
            [
             1,
             "#276419"
            ]
           ],
           "sequential": [
            [
             0,
             "#0d0887"
            ],
            [
             0.1111111111111111,
             "#46039f"
            ],
            [
             0.2222222222222222,
             "#7201a8"
            ],
            [
             0.3333333333333333,
             "#9c179e"
            ],
            [
             0.4444444444444444,
             "#bd3786"
            ],
            [
             0.5555555555555556,
             "#d8576b"
            ],
            [
             0.6666666666666666,
             "#ed7953"
            ],
            [
             0.7777777777777778,
             "#fb9f3a"
            ],
            [
             0.8888888888888888,
             "#fdca26"
            ],
            [
             1,
             "#f0f921"
            ]
           ],
           "sequentialminus": [
            [
             0,
             "#0d0887"
            ],
            [
             0.1111111111111111,
             "#46039f"
            ],
            [
             0.2222222222222222,
             "#7201a8"
            ],
            [
             0.3333333333333333,
             "#9c179e"
            ],
            [
             0.4444444444444444,
             "#bd3786"
            ],
            [
             0.5555555555555556,
             "#d8576b"
            ],
            [
             0.6666666666666666,
             "#ed7953"
            ],
            [
             0.7777777777777778,
             "#fb9f3a"
            ],
            [
             0.8888888888888888,
             "#fdca26"
            ],
            [
             1,
             "#f0f921"
            ]
           ]
          },
          "colorway": [
           "#636efa",
           "#EF553B",
           "#00cc96",
           "#ab63fa",
           "#FFA15A",
           "#19d3f3",
           "#FF6692",
           "#B6E880",
           "#FF97FF",
           "#FECB52"
          ],
          "font": {
           "color": "#2a3f5f"
          },
          "geo": {
           "bgcolor": "white",
           "lakecolor": "white",
           "landcolor": "#E5ECF6",
           "showlakes": true,
           "showland": true,
           "subunitcolor": "white"
          },
          "hoverlabel": {
           "align": "left"
          },
          "hovermode": "closest",
          "mapbox": {
           "style": "light"
          },
          "paper_bgcolor": "white",
          "plot_bgcolor": "#E5ECF6",
          "polar": {
           "angularaxis": {
            "gridcolor": "white",
            "linecolor": "white",
            "ticks": ""
           },
           "bgcolor": "#E5ECF6",
           "radialaxis": {
            "gridcolor": "white",
            "linecolor": "white",
            "ticks": ""
           }
          },
          "scene": {
           "xaxis": {
            "backgroundcolor": "#E5ECF6",
            "gridcolor": "white",
            "gridwidth": 2,
            "linecolor": "white",
            "showbackground": true,
            "ticks": "",
            "zerolinecolor": "white"
           },
           "yaxis": {
            "backgroundcolor": "#E5ECF6",
            "gridcolor": "white",
            "gridwidth": 2,
            "linecolor": "white",
            "showbackground": true,
            "ticks": "",
            "zerolinecolor": "white"
           },
           "zaxis": {
            "backgroundcolor": "#E5ECF6",
            "gridcolor": "white",
            "gridwidth": 2,
            "linecolor": "white",
            "showbackground": true,
            "ticks": "",
            "zerolinecolor": "white"
           }
          },
          "shapedefaults": {
           "line": {
            "color": "#2a3f5f"
           }
          },
          "ternary": {
           "aaxis": {
            "gridcolor": "white",
            "linecolor": "white",
            "ticks": ""
           },
           "baxis": {
            "gridcolor": "white",
            "linecolor": "white",
            "ticks": ""
           },
           "bgcolor": "#E5ECF6",
           "caxis": {
            "gridcolor": "white",
            "linecolor": "white",
            "ticks": ""
           }
          },
          "title": {
           "x": 0.05
          },
          "xaxis": {
           "automargin": true,
           "gridcolor": "white",
           "linecolor": "white",
           "ticks": "",
           "title": {
            "standoff": 15
           },
           "zerolinecolor": "white",
           "zerolinewidth": 2
          },
          "yaxis": {
           "automargin": true,
           "gridcolor": "white",
           "linecolor": "white",
           "ticks": "",
           "title": {
            "standoff": 15
           },
           "zerolinecolor": "white",
           "zerolinewidth": 2
          }
         }
        },
        "xaxis": {
         "anchor": "y",
         "domain": [
          0,
          1
         ],
         "title": {
          "text": "Education Level"
         }
        },
        "yaxis": {
         "anchor": "x",
         "domain": [
          0,
          1
         ],
         "title": {
          "text": "count"
         }
        }
       }
      }
     },
     "metadata": {},
     "output_type": "display_data"
    },
    {
     "data": {
      "application/vnd.plotly.v1+json": {
       "config": {
        "plotlyServerURL": "https://plot.ly"
       },
       "data": [
        {
         "alignmentgroup": "True",
         "bingroup": "x",
         "hovertemplate": "Divorce Status=No<br>Income Level (INR per month)=%{x}<br>count=%{y}<extra></extra>",
         "legendgroup": "No",
         "marker": {
          "color": "#636efa",
          "pattern": {
           "shape": ""
          }
         },
         "name": "No",
         "offsetgroup": "No",
         "orientation": "v",
         "showlegend": true,
         "texttemplate": "%{value}",
         "type": "histogram",
         "x": [
          113464,
          63817,
          96198,
          170714,
          62616,
          14221,
          147482,
          6051,
          115529,
          81918,
          83116,
          192635,
          126008,
          61889,
          40944,
          43134,
          94959,
          9992,
          6961,
          17497,
          18255,
          53847,
          184075,
          128802,
          48919,
          8358,
          93535,
          10698,
          71809,
          98079,
          167421,
          186320,
          80033,
          103239,
          49041,
          13002,
          112524,
          129857,
          24738,
          185494,
          148464,
          49724,
          37299,
          20641,
          11305,
          23782,
          83257,
          82963,
          126987,
          156638,
          129591,
          72766,
          11511,
          119816,
          162249,
          9765,
          156426,
          28929,
          164892,
          116576,
          165595,
          76088,
          82525,
          11589,
          170884,
          182011,
          109188,
          45953,
          70785,
          59195,
          30901,
          167580,
          30464,
          196353,
          21260,
          100082,
          110583,
          61683,
          129206,
          138059,
          161177,
          73309,
          50927,
          193607,
          131503,
          192633,
          146449,
          58592,
          143419,
          140370,
          105356,
          191233,
          65652,
          134572,
          170100,
          81996,
          35266,
          150083,
          7866,
          117669,
          10898,
          23395,
          175091,
          170465,
          15956,
          186114,
          142150,
          100676,
          67901,
          112227,
          177646,
          36417,
          93020,
          99881,
          175526,
          137659,
          126688,
          190782,
          91567,
          154888,
          34432,
          184689,
          77373,
          170289,
          25884,
          10454,
          79960,
          107421,
          48618,
          198743,
          175685,
          64993,
          83672,
          71125,
          122509,
          66602,
          47222,
          70333,
          188804,
          127650,
          54420,
          14460,
          104319,
          145347,
          134593,
          127672,
          27553,
          49036,
          147867,
          75021,
          112205,
          165497,
          93209,
          80139,
          10368,
          140693,
          134036,
          196366,
          19719,
          34227,
          114430,
          143638,
          17306,
          58822,
          151158,
          153459,
          187690,
          154395,
          80426,
          45863,
          116023,
          146355,
          154351,
          67780,
          27908,
          197656,
          131278,
          186297,
          105706,
          173735,
          114708,
          197453,
          14343,
          175863,
          165206,
          183173,
          74443,
          140899,
          101143,
          198725,
          149771,
          141385,
          116362,
          181298,
          64550,
          8558,
          57999,
          191950,
          172415,
          63219,
          171258,
          169841,
          58218,
          24229,
          80209,
          32877,
          194073,
          102137,
          43084,
          152878,
          176389,
          60468,
          155166,
          193868,
          6657,
          103300,
          122229,
          44531,
          57227,
          55599,
          140624,
          145489,
          194651,
          73207,
          75442,
          176103,
          26438,
          169648,
          46938,
          185100,
          64807,
          48461,
          98474,
          176541,
          88136,
          25435,
          89726,
          163458,
          167793,
          59786,
          61635,
          95710,
          67993,
          117752,
          161488,
          83537,
          55258,
          152580,
          90166,
          40699,
          51335,
          82853,
          199840,
          40739,
          90016,
          137681,
          96128,
          164213,
          166081,
          115966,
          142854,
          104352,
          162005,
          144379,
          113297,
          43346,
          117138,
          45149,
          163598,
          101758,
          133447,
          10695,
          44169,
          183296,
          50865,
          65410,
          108754,
          95895,
          120700,
          6881,
          175639,
          52365,
          46198,
          152531,
          168515,
          141949,
          44553,
          122018,
          37766,
          37006,
          36422,
          121590,
          159599,
          154515,
          152596,
          33202,
          182214,
          66692,
          196444,
          30095,
          174796,
          108119,
          57003,
          99837,
          99283,
          128805,
          125589,
          127035,
          188419,
          131244,
          181355,
          86326,
          148277,
          125243,
          17748,
          157169,
          139164,
          27692,
          159934,
          135035,
          9926,
          46743,
          135193,
          175948,
          112445,
          25323,
          39578,
          91486,
          69140,
          88829,
          133867,
          100598,
          62062,
          149933,
          93302,
          68928,
          8121,
          88793,
          33164,
          30491,
          64222,
          8748,
          31553,
          121547,
          65380,
          49331,
          44560,
          58865,
          182758,
          80910,
          82986,
          15068,
          105766,
          51418,
          31206,
          133180,
          27337,
          137233,
          95071,
          103064,
          174823,
          111511,
          150830,
          138248,
          108306,
          162699,
          117025,
          180982,
          95417,
          194323,
          171494,
          197458,
          88291,
          12135,
          157756,
          191985,
          93774,
          157961,
          184971,
          146842,
          175393,
          114863,
          46777,
          51250,
          78034,
          109940,
          45130,
          185418,
          20216,
          89149,
          8009,
          94904,
          165399,
          184515,
          20029,
          107171,
          67559,
          38783,
          39152,
          63741,
          176541,
          91483,
          126585,
          64754,
          166050,
          48169,
          184359,
          59745,
          115168,
          118985,
          10543,
          192464,
          26067,
          50256,
          158263,
          91803,
          123843,
          33992,
          114975,
          199549,
          149282,
          31270,
          198080,
          141269,
          163308,
          167971,
          72708,
          116462,
          152735,
          98076,
          24053,
          147157,
          166636,
          195167,
          74517,
          157225,
          141319,
          146625,
          142207,
          84267,
          143261,
          179718,
          81623,
          136004,
          58687,
          73312,
          112615,
          135976,
          32564,
          85165,
          62823,
          14615,
          141132,
          81436,
          196591,
          39782,
          83533,
          194327,
          77684,
          192990,
          84558,
          86422,
          161328,
          111244,
          172706,
          72789,
          115634,
          136936,
          104572,
          176294,
          149738,
          128664,
          157027,
          108533,
          86845,
          132775,
          48298,
          199180,
          53924,
          152781,
          14726,
          196896,
          45542,
          156317,
          39753,
          84788,
          26316,
          89698,
          20960,
          35791,
          30216,
          69427,
          78290,
          52014,
          9042,
          100961,
          110058,
          98715,
          154696,
          90886,
          162753,
          86006,
          99108,
          12493,
          74639,
          59383,
          139066,
          52234,
          183363,
          133674,
          10594,
          12371,
          52315,
          132251,
          84526,
          152698,
          91005,
          143202,
          142900,
          188736,
          153955,
          90959,
          7035,
          114767,
          176817,
          22241,
          159226,
          161697,
          123920,
          91226,
          89719,
          68014,
          44346,
          75411,
          51121,
          65197,
          99634,
          178503,
          105211,
          185066,
          6466,
          35771,
          88886,
          156818,
          196811,
          78369,
          6893,
          35573,
          101907,
          176946,
          123580,
          169439,
          96404,
          62724,
          91133,
          172477,
          20989,
          14290,
          174439,
          126136,
          95477,
          112286,
          87666,
          193728,
          153376,
          112573,
          12008,
          53291,
          163477,
          95909,
          156899,
          38040,
          65354,
          40315,
          40932,
          150486,
          150399,
          118880,
          137018,
          19693,
          32241,
          120194,
          100790,
          77255,
          161153,
          106894,
          102557,
          178904,
          164441,
          36728,
          165073,
          88384,
          50436,
          16569,
          27490,
          50875,
          14121,
          153099,
          132402,
          79229,
          144993,
          55435,
          146382,
          68965,
          116048,
          74922,
          102799,
          98948,
          148314,
          13947,
          197888,
          53785,
          5507,
          163223,
          16618,
          79286,
          21122,
          143426,
          114598,
          188846,
          33633,
          69550,
          41483,
          124873,
          175205,
          100761,
          118753,
          33926,
          104782,
          109700,
          78984,
          179462,
          54593,
          10209,
          142605,
          91597,
          12211,
          14927,
          122333,
          81382,
          144005,
          108780,
          45696,
          142161,
          192620,
          162195,
          143869,
          55013,
          144418,
          169744,
          153725,
          54556,
          31140,
          180220,
          160918,
          116361,
          10606,
          140028,
          21555,
          154762,
          63502,
          184921,
          162419,
          108844,
          103234,
          46850,
          32843,
          67320,
          34793,
          175588,
          153929,
          24627,
          66822,
          60798,
          109186,
          92902,
          164629,
          111719,
          178686,
          112449,
          107828,
          131613,
          77095,
          110924,
          92593,
          82242,
          131202,
          128769,
          123542,
          111438,
          5924,
          56322,
          162550,
          76042,
          198289,
          105699,
          95140,
          122358,
          41133,
          102628,
          81946,
          145167,
          48129,
          42038,
          34831,
          62174,
          16279,
          174292,
          65610,
          188791,
          58051,
          61652,
          70524,
          11470,
          177870,
          58473,
          155952,
          49439,
          14837,
          188223,
          123128,
          172896,
          169145,
          117651,
          102624,
          162371,
          35063,
          74453,
          107166,
          19506,
          118604,
          163744,
          174489,
          57413,
          70066,
          55971,
          55494,
          108864,
          154682,
          137151,
          167023,
          85863,
          83291,
          12235,
          84823,
          109215,
          37230,
          89573,
          45644,
          184736,
          71677,
          128246,
          89817,
          74806,
          47814,
          75219,
          185718,
          175956,
          100345,
          105088,
          26650,
          99242,
          43196,
          85428,
          181832,
          26042,
          48894,
          197150,
          110973,
          113369,
          191443,
          156990,
          33379,
          125667,
          139034,
          149923,
          130180,
          57349,
          192428,
          10730,
          149993,
          24023,
          131796,
          88286,
          46979,
          27837,
          151069,
          109975,
          181111,
          25923,
          13876,
          65973,
          199795,
          47422,
          56413,
          107484,
          138913,
          33756,
          76576,
          123248,
          35341,
          140830,
          153082,
          132039,
          167730,
          185074,
          137447,
          104485,
          27092,
          136562,
          8729,
          142046,
          123222,
          90216,
          88860,
          26398,
          39650,
          157364,
          108889,
          8159,
          107834,
          153137,
          26638,
          6073,
          34320,
          39924
         ],
         "xaxis": "x",
         "yaxis": "y"
        },
        {
         "alignmentgroup": "True",
         "bingroup": "x",
         "hovertemplate": "Divorce Status=Yes<br>Income Level (INR per month)=%{x}<br>count=%{y}<extra></extra>",
         "legendgroup": "Yes",
         "marker": {
          "color": "#EF553B",
          "pattern": {
           "shape": ""
          }
         },
         "name": "Yes",
         "offsetgroup": "Yes",
         "orientation": "v",
         "showlegend": true,
         "texttemplate": "%{value}",
         "type": "histogram",
         "x": [
          18682,
          159455,
          63160,
          28666,
          46830,
          15234,
          197485,
          127226,
          49757,
          187329,
          136379,
          104555,
          163395,
          30954,
          191093,
          168623,
          191827,
          140639,
          25389,
          180595,
          66576,
          110982,
          60805,
          135407,
          36954,
          74783,
          15703,
          118776,
          197971,
          84534,
          18780,
          98664,
          187565,
          98326,
          24309,
          159648,
          129997,
          40440,
          177502,
          83484,
          149098,
          47946,
          38776,
          139855,
          60798,
          75204,
          91207,
          170556,
          25922,
          156388,
          153040,
          160072,
          9006,
          165703,
          126724,
          122192,
          88639,
          120584,
          80886,
          52111,
          125592,
          133652,
          144920,
          54223,
          80504,
          7462,
          149341,
          77920,
          160438,
          153441,
          166215,
          63829,
          29042,
          163114,
          94424,
          23019,
          51999,
          118002,
          174024,
          127019,
          184001,
          81173,
          105260,
          62530,
          182871,
          119527,
          149670,
          33807,
          55113,
          173038,
          86780,
          42034,
          15589,
          62221,
          8164,
          98078,
          46247,
          155673,
          77055,
          107266,
          83270,
          116426,
          139794,
          100632,
          63819,
          48856,
          54877,
          150263,
          18704,
          138195,
          137886,
          118710,
          51806,
          39785,
          168052,
          71253,
          132581,
          82154,
          55772,
          91700,
          52947,
          161625,
          109501,
          160888,
          191098,
          55705,
          197994,
          78914,
          84211,
          161078,
          158903,
          105649,
          178388,
          140994,
          127778,
          140758,
          17205,
          121477,
          25855,
          54241,
          152044,
          98846,
          27927,
          120657,
          71630,
          109428,
          74518,
          58311,
          129954,
          84507,
          85152,
          8969,
          40733,
          74855,
          21428,
          112325,
          11364,
          171421,
          136763,
          181968,
          46347,
          159237,
          125617,
          140747,
          59460,
          5287,
          156738,
          105667,
          8178,
          36831,
          169726,
          188622,
          16984,
          94312,
          5320,
          103071,
          138609,
          150281,
          193069,
          119456,
          69892,
          75409,
          144707,
          38065,
          125544,
          112340,
          112049,
          187574,
          34092,
          153725,
          92592,
          99543,
          56033,
          53803,
          12452,
          46486,
          19859,
          37083,
          94745,
          156883,
          141645,
          85077,
          33835,
          197659,
          12697,
          153118,
          189442,
          135499,
          125562,
          76117,
          197230,
          166077,
          11638,
          42419,
          38377,
          179188,
          28382,
          192135,
          158466,
          115674,
          74590,
          71471,
          168539,
          117470,
          198119,
          140150,
          55519,
          54052,
          19389,
          73111,
          55733,
          39754,
          94524,
          29704,
          99913,
          110573,
          62514,
          179131,
          179004,
          197341,
          80986,
          57975,
          181022,
          61396,
          149403,
          199999,
          190550,
          148326,
          191806,
          164693,
          81441,
          89577,
          140909,
          148687,
          70911,
          93422,
          104956,
          157271,
          33931,
          84878,
          131299,
          166205,
          110686,
          163124,
          45475,
          101622,
          140705,
          51546,
          41386,
          83543,
          23157,
          157236,
          151612,
          177275,
          197933,
          16350,
          191584,
          61809,
          22576,
          5390,
          149101,
          10867,
          85820,
          104515,
          6539,
          101444,
          124963,
          167051,
          91436,
          141109,
          29495,
          118181,
          39069,
          143442,
          121843,
          76947,
          136764,
          80609,
          131700,
          160666,
          72616,
          128723,
          6184,
          170565,
          158267,
          95385,
          96321,
          54056,
          199923,
          188320,
          180188,
          80318,
          76334,
          128099,
          17720,
          62608,
          101452,
          171964,
          111975,
          121041,
          82606,
          51418,
          16781,
          141587,
          90058,
          156542,
          13531,
          92939,
          47674,
          132572,
          19308,
          96563,
          40081,
          186455,
          194933,
          31026,
          195285,
          163353,
          118978,
          164163,
          100386,
          182823,
          91126,
          191504,
          130659,
          195944,
          87733,
          67712,
          157545,
          130849,
          50203,
          161497,
          74322,
          145262,
          175521,
          175733,
          34709,
          14943,
          179312,
          142941,
          61759,
          49306,
          122626,
          181819,
          150817,
          181421,
          86533,
          138959,
          15304,
          196830,
          101870,
          103162,
          198838,
          182583
         ],
         "xaxis": "x",
         "yaxis": "y"
        }
       ],
       "layout": {
        "barmode": "relative",
        "legend": {
         "title": {
          "text": "Divorce Status"
         },
         "tracegroupgap": 0
        },
        "margin": {
         "t": 60
        },
        "template": {
         "data": {
          "bar": [
           {
            "error_x": {
             "color": "#2a3f5f"
            },
            "error_y": {
             "color": "#2a3f5f"
            },
            "marker": {
             "line": {
              "color": "#E5ECF6",
              "width": 0.5
             },
             "pattern": {
              "fillmode": "overlay",
              "size": 10,
              "solidity": 0.2
             }
            },
            "type": "bar"
           }
          ],
          "barpolar": [
           {
            "marker": {
             "line": {
              "color": "#E5ECF6",
              "width": 0.5
             },
             "pattern": {
              "fillmode": "overlay",
              "size": 10,
              "solidity": 0.2
             }
            },
            "type": "barpolar"
           }
          ],
          "carpet": [
           {
            "aaxis": {
             "endlinecolor": "#2a3f5f",
             "gridcolor": "white",
             "linecolor": "white",
             "minorgridcolor": "white",
             "startlinecolor": "#2a3f5f"
            },
            "baxis": {
             "endlinecolor": "#2a3f5f",
             "gridcolor": "white",
             "linecolor": "white",
             "minorgridcolor": "white",
             "startlinecolor": "#2a3f5f"
            },
            "type": "carpet"
           }
          ],
          "choropleth": [
           {
            "colorbar": {
             "outlinewidth": 0,
             "ticks": ""
            },
            "type": "choropleth"
           }
          ],
          "contour": [
           {
            "colorbar": {
             "outlinewidth": 0,
             "ticks": ""
            },
            "colorscale": [
             [
              0,
              "#0d0887"
             ],
             [
              0.1111111111111111,
              "#46039f"
             ],
             [
              0.2222222222222222,
              "#7201a8"
             ],
             [
              0.3333333333333333,
              "#9c179e"
             ],
             [
              0.4444444444444444,
              "#bd3786"
             ],
             [
              0.5555555555555556,
              "#d8576b"
             ],
             [
              0.6666666666666666,
              "#ed7953"
             ],
             [
              0.7777777777777778,
              "#fb9f3a"
             ],
             [
              0.8888888888888888,
              "#fdca26"
             ],
             [
              1,
              "#f0f921"
             ]
            ],
            "type": "contour"
           }
          ],
          "contourcarpet": [
           {
            "colorbar": {
             "outlinewidth": 0,
             "ticks": ""
            },
            "type": "contourcarpet"
           }
          ],
          "heatmap": [
           {
            "colorbar": {
             "outlinewidth": 0,
             "ticks": ""
            },
            "colorscale": [
             [
              0,
              "#0d0887"
             ],
             [
              0.1111111111111111,
              "#46039f"
             ],
             [
              0.2222222222222222,
              "#7201a8"
             ],
             [
              0.3333333333333333,
              "#9c179e"
             ],
             [
              0.4444444444444444,
              "#bd3786"
             ],
             [
              0.5555555555555556,
              "#d8576b"
             ],
             [
              0.6666666666666666,
              "#ed7953"
             ],
             [
              0.7777777777777778,
              "#fb9f3a"
             ],
             [
              0.8888888888888888,
              "#fdca26"
             ],
             [
              1,
              "#f0f921"
             ]
            ],
            "type": "heatmap"
           }
          ],
          "heatmapgl": [
           {
            "colorbar": {
             "outlinewidth": 0,
             "ticks": ""
            },
            "colorscale": [
             [
              0,
              "#0d0887"
             ],
             [
              0.1111111111111111,
              "#46039f"
             ],
             [
              0.2222222222222222,
              "#7201a8"
             ],
             [
              0.3333333333333333,
              "#9c179e"
             ],
             [
              0.4444444444444444,
              "#bd3786"
             ],
             [
              0.5555555555555556,
              "#d8576b"
             ],
             [
              0.6666666666666666,
              "#ed7953"
             ],
             [
              0.7777777777777778,
              "#fb9f3a"
             ],
             [
              0.8888888888888888,
              "#fdca26"
             ],
             [
              1,
              "#f0f921"
             ]
            ],
            "type": "heatmapgl"
           }
          ],
          "histogram": [
           {
            "marker": {
             "pattern": {
              "fillmode": "overlay",
              "size": 10,
              "solidity": 0.2
             }
            },
            "type": "histogram"
           }
          ],
          "histogram2d": [
           {
            "colorbar": {
             "outlinewidth": 0,
             "ticks": ""
            },
            "colorscale": [
             [
              0,
              "#0d0887"
             ],
             [
              0.1111111111111111,
              "#46039f"
             ],
             [
              0.2222222222222222,
              "#7201a8"
             ],
             [
              0.3333333333333333,
              "#9c179e"
             ],
             [
              0.4444444444444444,
              "#bd3786"
             ],
             [
              0.5555555555555556,
              "#d8576b"
             ],
             [
              0.6666666666666666,
              "#ed7953"
             ],
             [
              0.7777777777777778,
              "#fb9f3a"
             ],
             [
              0.8888888888888888,
              "#fdca26"
             ],
             [
              1,
              "#f0f921"
             ]
            ],
            "type": "histogram2d"
           }
          ],
          "histogram2dcontour": [
           {
            "colorbar": {
             "outlinewidth": 0,
             "ticks": ""
            },
            "colorscale": [
             [
              0,
              "#0d0887"
             ],
             [
              0.1111111111111111,
              "#46039f"
             ],
             [
              0.2222222222222222,
              "#7201a8"
             ],
             [
              0.3333333333333333,
              "#9c179e"
             ],
             [
              0.4444444444444444,
              "#bd3786"
             ],
             [
              0.5555555555555556,
              "#d8576b"
             ],
             [
              0.6666666666666666,
              "#ed7953"
             ],
             [
              0.7777777777777778,
              "#fb9f3a"
             ],
             [
              0.8888888888888888,
              "#fdca26"
             ],
             [
              1,
              "#f0f921"
             ]
            ],
            "type": "histogram2dcontour"
           }
          ],
          "mesh3d": [
           {
            "colorbar": {
             "outlinewidth": 0,
             "ticks": ""
            },
            "type": "mesh3d"
           }
          ],
          "parcoords": [
           {
            "line": {
             "colorbar": {
              "outlinewidth": 0,
              "ticks": ""
             }
            },
            "type": "parcoords"
           }
          ],
          "pie": [
           {
            "automargin": true,
            "type": "pie"
           }
          ],
          "scatter": [
           {
            "fillpattern": {
             "fillmode": "overlay",
             "size": 10,
             "solidity": 0.2
            },
            "type": "scatter"
           }
          ],
          "scatter3d": [
           {
            "line": {
             "colorbar": {
              "outlinewidth": 0,
              "ticks": ""
             }
            },
            "marker": {
             "colorbar": {
              "outlinewidth": 0,
              "ticks": ""
             }
            },
            "type": "scatter3d"
           }
          ],
          "scattercarpet": [
           {
            "marker": {
             "colorbar": {
              "outlinewidth": 0,
              "ticks": ""
             }
            },
            "type": "scattercarpet"
           }
          ],
          "scattergeo": [
           {
            "marker": {
             "colorbar": {
              "outlinewidth": 0,
              "ticks": ""
             }
            },
            "type": "scattergeo"
           }
          ],
          "scattergl": [
           {
            "marker": {
             "colorbar": {
              "outlinewidth": 0,
              "ticks": ""
             }
            },
            "type": "scattergl"
           }
          ],
          "scattermapbox": [
           {
            "marker": {
             "colorbar": {
              "outlinewidth": 0,
              "ticks": ""
             }
            },
            "type": "scattermapbox"
           }
          ],
          "scatterpolar": [
           {
            "marker": {
             "colorbar": {
              "outlinewidth": 0,
              "ticks": ""
             }
            },
            "type": "scatterpolar"
           }
          ],
          "scatterpolargl": [
           {
            "marker": {
             "colorbar": {
              "outlinewidth": 0,
              "ticks": ""
             }
            },
            "type": "scatterpolargl"
           }
          ],
          "scatterternary": [
           {
            "marker": {
             "colorbar": {
              "outlinewidth": 0,
              "ticks": ""
             }
            },
            "type": "scatterternary"
           }
          ],
          "surface": [
           {
            "colorbar": {
             "outlinewidth": 0,
             "ticks": ""
            },
            "colorscale": [
             [
              0,
              "#0d0887"
             ],
             [
              0.1111111111111111,
              "#46039f"
             ],
             [
              0.2222222222222222,
              "#7201a8"
             ],
             [
              0.3333333333333333,
              "#9c179e"
             ],
             [
              0.4444444444444444,
              "#bd3786"
             ],
             [
              0.5555555555555556,
              "#d8576b"
             ],
             [
              0.6666666666666666,
              "#ed7953"
             ],
             [
              0.7777777777777778,
              "#fb9f3a"
             ],
             [
              0.8888888888888888,
              "#fdca26"
             ],
             [
              1,
              "#f0f921"
             ]
            ],
            "type": "surface"
           }
          ],
          "table": [
           {
            "cells": {
             "fill": {
              "color": "#EBF0F8"
             },
             "line": {
              "color": "white"
             }
            },
            "header": {
             "fill": {
              "color": "#C8D4E3"
             },
             "line": {
              "color": "white"
             }
            },
            "type": "table"
           }
          ]
         },
         "layout": {
          "annotationdefaults": {
           "arrowcolor": "#2a3f5f",
           "arrowhead": 0,
           "arrowwidth": 1
          },
          "autotypenumbers": "strict",
          "coloraxis": {
           "colorbar": {
            "outlinewidth": 0,
            "ticks": ""
           }
          },
          "colorscale": {
           "diverging": [
            [
             0,
             "#8e0152"
            ],
            [
             0.1,
             "#c51b7d"
            ],
            [
             0.2,
             "#de77ae"
            ],
            [
             0.3,
             "#f1b6da"
            ],
            [
             0.4,
             "#fde0ef"
            ],
            [
             0.5,
             "#f7f7f7"
            ],
            [
             0.6,
             "#e6f5d0"
            ],
            [
             0.7,
             "#b8e186"
            ],
            [
             0.8,
             "#7fbc41"
            ],
            [
             0.9,
             "#4d9221"
            ],
            [
             1,
             "#276419"
            ]
           ],
           "sequential": [
            [
             0,
             "#0d0887"
            ],
            [
             0.1111111111111111,
             "#46039f"
            ],
            [
             0.2222222222222222,
             "#7201a8"
            ],
            [
             0.3333333333333333,
             "#9c179e"
            ],
            [
             0.4444444444444444,
             "#bd3786"
            ],
            [
             0.5555555555555556,
             "#d8576b"
            ],
            [
             0.6666666666666666,
             "#ed7953"
            ],
            [
             0.7777777777777778,
             "#fb9f3a"
            ],
            [
             0.8888888888888888,
             "#fdca26"
            ],
            [
             1,
             "#f0f921"
            ]
           ],
           "sequentialminus": [
            [
             0,
             "#0d0887"
            ],
            [
             0.1111111111111111,
             "#46039f"
            ],
            [
             0.2222222222222222,
             "#7201a8"
            ],
            [
             0.3333333333333333,
             "#9c179e"
            ],
            [
             0.4444444444444444,
             "#bd3786"
            ],
            [
             0.5555555555555556,
             "#d8576b"
            ],
            [
             0.6666666666666666,
             "#ed7953"
            ],
            [
             0.7777777777777778,
             "#fb9f3a"
            ],
            [
             0.8888888888888888,
             "#fdca26"
            ],
            [
             1,
             "#f0f921"
            ]
           ]
          },
          "colorway": [
           "#636efa",
           "#EF553B",
           "#00cc96",
           "#ab63fa",
           "#FFA15A",
           "#19d3f3",
           "#FF6692",
           "#B6E880",
           "#FF97FF",
           "#FECB52"
          ],
          "font": {
           "color": "#2a3f5f"
          },
          "geo": {
           "bgcolor": "white",
           "lakecolor": "white",
           "landcolor": "#E5ECF6",
           "showlakes": true,
           "showland": true,
           "subunitcolor": "white"
          },
          "hoverlabel": {
           "align": "left"
          },
          "hovermode": "closest",
          "mapbox": {
           "style": "light"
          },
          "paper_bgcolor": "white",
          "plot_bgcolor": "#E5ECF6",
          "polar": {
           "angularaxis": {
            "gridcolor": "white",
            "linecolor": "white",
            "ticks": ""
           },
           "bgcolor": "#E5ECF6",
           "radialaxis": {
            "gridcolor": "white",
            "linecolor": "white",
            "ticks": ""
           }
          },
          "scene": {
           "xaxis": {
            "backgroundcolor": "#E5ECF6",
            "gridcolor": "white",
            "gridwidth": 2,
            "linecolor": "white",
            "showbackground": true,
            "ticks": "",
            "zerolinecolor": "white"
           },
           "yaxis": {
            "backgroundcolor": "#E5ECF6",
            "gridcolor": "white",
            "gridwidth": 2,
            "linecolor": "white",
            "showbackground": true,
            "ticks": "",
            "zerolinecolor": "white"
           },
           "zaxis": {
            "backgroundcolor": "#E5ECF6",
            "gridcolor": "white",
            "gridwidth": 2,
            "linecolor": "white",
            "showbackground": true,
            "ticks": "",
            "zerolinecolor": "white"
           }
          },
          "shapedefaults": {
           "line": {
            "color": "#2a3f5f"
           }
          },
          "ternary": {
           "aaxis": {
            "gridcolor": "white",
            "linecolor": "white",
            "ticks": ""
           },
           "baxis": {
            "gridcolor": "white",
            "linecolor": "white",
            "ticks": ""
           },
           "bgcolor": "#E5ECF6",
           "caxis": {
            "gridcolor": "white",
            "linecolor": "white",
            "ticks": ""
           }
          },
          "title": {
           "x": 0.05
          },
          "xaxis": {
           "automargin": true,
           "gridcolor": "white",
           "linecolor": "white",
           "ticks": "",
           "title": {
            "standoff": 15
           },
           "zerolinecolor": "white",
           "zerolinewidth": 2
          },
          "yaxis": {
           "automargin": true,
           "gridcolor": "white",
           "linecolor": "white",
           "ticks": "",
           "title": {
            "standoff": 15
           },
           "zerolinecolor": "white",
           "zerolinewidth": 2
          }
         }
        },
        "xaxis": {
         "anchor": "y",
         "domain": [
          0,
          1
         ],
         "title": {
          "text": "Income Level (INR per month)"
         }
        },
        "yaxis": {
         "anchor": "x",
         "domain": [
          0,
          1
         ],
         "title": {
          "text": "count"
         }
        }
       }
      }
     },
     "metadata": {},
     "output_type": "display_data"
    },
    {
     "data": {
      "application/vnd.plotly.v1+json": {
       "config": {
        "plotlyServerURL": "https://plot.ly"
       },
       "data": [
        {
         "alignmentgroup": "True",
         "bingroup": "x",
         "hovertemplate": "Divorce Status=No<br>Caste/Religion=%{x}<br>count=%{y}<extra></extra>",
         "legendgroup": "No",
         "marker": {
          "color": "#636efa",
          "pattern": {
           "shape": ""
          }
         },
         "name": "No",
         "offsetgroup": "No",
         "orientation": "v",
         "showlegend": true,
         "texttemplate": "%{value}",
         "type": "histogram",
         "x": [
          "Hindu",
          "Hindu",
          "Christian",
          "Jain",
          "Christian",
          "Hindu",
          "Christian",
          "Muslim",
          "Hindu",
          "Muslim",
          "Muslim",
          "Other",
          "Hindu",
          "Other",
          "Jain",
          "Other",
          "Sikh",
          "Hindu",
          "Sikh",
          "Muslim",
          "Jain",
          "Sikh",
          "Other",
          "Hindu",
          "Hindu",
          "Christian",
          "Other",
          "Muslim",
          "Hindu",
          "Muslim",
          "Sikh",
          "Sikh",
          "Hindu",
          "Other",
          "Hindu",
          "Muslim",
          "Hindu",
          "Muslim",
          "Christian",
          "Hindu",
          "Jain",
          "Other",
          "Jain",
          "Muslim",
          "Hindu",
          "Sikh",
          "Muslim",
          "Muslim",
          "Other",
          "Hindu",
          "Christian",
          "Muslim",
          "Christian",
          "Christian",
          "Jain",
          "Hindu",
          "Christian",
          "Hindu",
          "Jain",
          "Hindu",
          "Muslim",
          "Christian",
          "Hindu",
          "Hindu",
          "Christian",
          "Jain",
          "Muslim",
          "Jain",
          "Jain",
          "Muslim",
          "Jain",
          "Jain",
          "Hindu",
          "Sikh",
          "Other",
          "Jain",
          "Sikh",
          "Sikh",
          "Jain",
          "Muslim",
          "Jain",
          "Christian",
          "Jain",
          "Muslim",
          "Hindu",
          "Christian",
          "Muslim",
          "Other",
          "Christian",
          "Muslim",
          "Hindu",
          "Muslim",
          "Christian",
          "Hindu",
          "Muslim",
          "Jain",
          "Christian",
          "Other",
          "Sikh",
          "Muslim",
          "Sikh",
          "Muslim",
          "Sikh",
          "Christian",
          "Jain",
          "Sikh",
          "Other",
          "Christian",
          "Other",
          "Other",
          "Christian",
          "Hindu",
          "Christian",
          "Other",
          "Hindu",
          "Sikh",
          "Other",
          "Other",
          "Sikh",
          "Hindu",
          "Other",
          "Sikh",
          "Muslim",
          "Christian",
          "Christian",
          "Sikh",
          "Muslim",
          "Hindu",
          "Jain",
          "Jain",
          "Muslim",
          "Christian",
          "Muslim",
          "Other",
          "Jain",
          "Other",
          "Hindu",
          "Other",
          "Sikh",
          "Muslim",
          "Sikh",
          "Christian",
          "Sikh",
          "Sikh",
          "Jain",
          "Other",
          "Muslim",
          "Other",
          "Sikh",
          "Sikh",
          "Christian",
          "Sikh",
          "Hindu",
          "Jain",
          "Hindu",
          "Jain",
          "Christian",
          "Sikh",
          "Sikh",
          "Sikh",
          "Other",
          "Jain",
          "Sikh",
          "Hindu",
          "Other",
          "Christian",
          "Sikh",
          "Muslim",
          "Hindu",
          "Muslim",
          "Christian",
          "Jain",
          "Hindu",
          "Hindu",
          "Sikh",
          "Jain",
          "Sikh",
          "Other",
          "Christian",
          "Other",
          "Jain",
          "Hindu",
          "Christian",
          "Other",
          "Other",
          "Muslim",
          "Other",
          "Christian",
          "Sikh",
          "Other",
          "Jain",
          "Muslim",
          "Other",
          "Hindu",
          "Jain",
          "Hindu",
          "Other",
          "Christian",
          "Other",
          "Hindu",
          "Jain",
          "Muslim",
          "Other",
          "Jain",
          "Jain",
          "Hindu",
          "Other",
          "Other",
          "Sikh",
          "Muslim",
          "Jain",
          "Other",
          "Hindu",
          "Other",
          "Jain",
          "Jain",
          "Jain",
          "Other",
          "Sikh",
          "Sikh",
          "Hindu",
          "Muslim",
          "Muslim",
          "Christian",
          "Hindu",
          "Jain",
          "Christian",
          "Jain",
          "Hindu",
          "Jain",
          "Muslim",
          "Muslim",
          "Hindu",
          "Sikh",
          "Christian",
          "Other",
          "Other",
          "Muslim",
          "Jain",
          "Other",
          "Other",
          "Muslim",
          "Hindu",
          "Hindu",
          "Hindu",
          "Christian",
          "Jain",
          "Muslim",
          "Sikh",
          "Sikh",
          "Hindu",
          "Muslim",
          "Hindu",
          "Christian",
          "Other",
          "Muslim",
          "Muslim",
          "Hindu",
          "Jain",
          "Other",
          "Jain",
          "Hindu",
          "Jain",
          "Jain",
          "Muslim",
          "Hindu",
          "Muslim",
          "Sikh",
          "Muslim",
          "Muslim",
          "Muslim",
          "Christian",
          "Sikh",
          "Muslim",
          "Other",
          "Hindu",
          "Christian",
          "Other",
          "Jain",
          "Muslim",
          "Other",
          "Hindu",
          "Muslim",
          "Other",
          "Christian",
          "Other",
          "Hindu",
          "Hindu",
          "Other",
          "Hindu",
          "Christian",
          "Sikh",
          "Other",
          "Jain",
          "Other",
          "Christian",
          "Other",
          "Jain",
          "Hindu",
          "Muslim",
          "Muslim",
          "Other",
          "Muslim",
          "Muslim",
          "Hindu",
          "Other",
          "Other",
          "Christian",
          "Muslim",
          "Sikh",
          "Jain",
          "Hindu",
          "Christian",
          "Jain",
          "Jain",
          "Other",
          "Jain",
          "Sikh",
          "Sikh",
          "Jain",
          "Sikh",
          "Christian",
          "Hindu",
          "Christian",
          "Muslim",
          "Sikh",
          "Hindu",
          "Sikh",
          "Christian",
          "Christian",
          "Other",
          "Other",
          "Sikh",
          "Muslim",
          "Muslim",
          "Muslim",
          "Hindu",
          "Jain",
          "Christian",
          "Other",
          "Other",
          "Christian",
          "Hindu",
          "Other",
          "Jain",
          "Muslim",
          "Sikh",
          "Muslim",
          "Other",
          "Jain",
          "Muslim",
          "Jain",
          "Sikh",
          "Muslim",
          "Hindu",
          "Christian",
          "Sikh",
          "Jain",
          "Muslim",
          "Muslim",
          "Hindu",
          "Other",
          "Other",
          "Sikh",
          "Sikh",
          "Muslim",
          "Hindu",
          "Hindu",
          "Sikh",
          "Muslim",
          "Muslim",
          "Hindu",
          "Jain",
          "Other",
          "Other",
          "Muslim",
          "Muslim",
          "Muslim",
          "Christian",
          "Jain",
          "Other",
          "Christian",
          "Hindu",
          "Hindu",
          "Muslim",
          "Sikh",
          "Muslim",
          "Sikh",
          "Hindu",
          "Other",
          "Sikh",
          "Christian",
          "Hindu",
          "Sikh",
          "Muslim",
          "Muslim",
          "Muslim",
          "Sikh",
          "Muslim",
          "Hindu",
          "Hindu",
          "Jain",
          "Other",
          "Hindu",
          "Hindu",
          "Muslim",
          "Hindu",
          "Christian",
          "Other",
          "Hindu",
          "Christian",
          "Hindu",
          "Hindu",
          "Muslim",
          "Other",
          "Muslim",
          "Sikh",
          "Jain",
          "Muslim",
          "Jain",
          "Muslim",
          "Jain",
          "Hindu",
          "Muslim",
          "Jain",
          "Muslim",
          "Hindu",
          "Other",
          "Hindu",
          "Jain",
          "Christian",
          "Muslim",
          "Sikh",
          "Sikh",
          "Christian",
          "Hindu",
          "Jain",
          "Sikh",
          "Jain",
          "Muslim",
          "Christian",
          "Hindu",
          "Muslim",
          "Muslim",
          "Other",
          "Christian",
          "Hindu",
          "Muslim",
          "Jain",
          "Muslim",
          "Hindu",
          "Hindu",
          "Christian",
          "Sikh",
          "Sikh",
          "Christian",
          "Christian",
          "Jain",
          "Other",
          "Other",
          "Other",
          "Christian",
          "Jain",
          "Hindu",
          "Other",
          "Other",
          "Christian",
          "Hindu",
          "Other",
          "Sikh",
          "Muslim",
          "Muslim",
          "Other",
          "Muslim",
          "Hindu",
          "Christian",
          "Christian",
          "Christian",
          "Jain",
          "Muslim",
          "Sikh",
          "Muslim",
          "Other",
          "Christian",
          "Other",
          "Hindu",
          "Christian",
          "Muslim",
          "Christian",
          "Hindu",
          "Jain",
          "Other",
          "Muslim",
          "Jain",
          "Muslim",
          "Jain",
          "Other",
          "Christian",
          "Christian",
          "Sikh",
          "Other",
          "Christian",
          "Other",
          "Sikh",
          "Muslim",
          "Christian",
          "Jain",
          "Other",
          "Other",
          "Jain",
          "Christian",
          "Other",
          "Muslim",
          "Christian",
          "Christian",
          "Sikh",
          "Other",
          "Jain",
          "Sikh",
          "Other",
          "Christian",
          "Sikh",
          "Jain",
          "Sikh",
          "Sikh",
          "Muslim",
          "Jain",
          "Jain",
          "Jain",
          "Muslim",
          "Jain",
          "Jain",
          "Hindu",
          "Sikh",
          "Other",
          "Muslim",
          "Other",
          "Christian",
          "Other",
          "Hindu",
          "Muslim",
          "Hindu",
          "Hindu",
          "Other",
          "Hindu",
          "Christian",
          "Christian",
          "Muslim",
          "Jain",
          "Muslim",
          "Jain",
          "Other",
          "Christian",
          "Muslim",
          "Jain",
          "Sikh",
          "Muslim",
          "Hindu",
          "Muslim",
          "Muslim",
          "Jain",
          "Hindu",
          "Muslim",
          "Christian",
          "Christian",
          "Muslim",
          "Christian",
          "Christian",
          "Jain",
          "Christian",
          "Jain",
          "Other",
          "Other",
          "Other",
          "Jain",
          "Muslim",
          "Other",
          "Christian",
          "Hindu",
          "Hindu",
          "Muslim",
          "Other",
          "Other",
          "Jain",
          "Other",
          "Other",
          "Hindu",
          "Sikh",
          "Muslim",
          "Other",
          "Muslim",
          "Jain",
          "Jain",
          "Hindu",
          "Hindu",
          "Sikh",
          "Christian",
          "Muslim",
          "Sikh",
          "Muslim",
          "Other",
          "Hindu",
          "Christian",
          "Muslim",
          "Muslim",
          "Hindu",
          "Sikh",
          "Muslim",
          "Hindu",
          "Christian",
          "Other",
          "Jain",
          "Jain",
          "Muslim",
          "Muslim",
          "Hindu",
          "Jain",
          "Muslim",
          "Christian",
          "Muslim",
          "Other",
          "Other",
          "Other",
          "Jain",
          "Hindu",
          "Sikh",
          "Muslim",
          "Muslim",
          "Christian",
          "Hindu",
          "Jain",
          "Hindu",
          "Christian",
          "Sikh",
          "Jain",
          "Other",
          "Sikh",
          "Muslim",
          "Sikh",
          "Hindu",
          "Christian",
          "Muslim",
          "Jain",
          "Muslim",
          "Hindu",
          "Jain",
          "Muslim",
          "Other",
          "Other",
          "Jain",
          "Sikh",
          "Jain",
          "Muslim",
          "Muslim",
          "Christian",
          "Muslim",
          "Christian",
          "Christian",
          "Muslim",
          "Jain",
          "Other",
          "Christian",
          "Muslim",
          "Jain",
          "Other",
          "Christian",
          "Hindu",
          "Jain",
          "Jain",
          "Jain",
          "Sikh",
          "Muslim",
          "Christian",
          "Hindu",
          "Muslim",
          "Muslim",
          "Christian",
          "Christian",
          "Other",
          "Sikh",
          "Christian",
          "Muslim",
          "Jain",
          "Jain",
          "Jain",
          "Hindu",
          "Jain",
          "Other",
          "Jain",
          "Christian",
          "Jain",
          "Muslim",
          "Hindu",
          "Christian",
          "Muslim",
          "Jain",
          "Hindu",
          "Christian",
          "Jain",
          "Other",
          "Christian",
          "Christian",
          "Jain",
          "Other",
          "Jain",
          "Muslim",
          "Other",
          "Sikh",
          "Muslim",
          "Other",
          "Christian",
          "Jain",
          "Hindu",
          "Hindu",
          "Jain",
          "Sikh",
          "Muslim",
          "Sikh",
          "Sikh",
          "Other",
          "Sikh",
          "Muslim",
          "Christian",
          "Other",
          "Christian",
          "Muslim",
          "Hindu",
          "Christian",
          "Muslim",
          "Christian",
          "Jain",
          "Hindu",
          "Jain",
          "Jain",
          "Muslim",
          "Sikh",
          "Hindu",
          "Other",
          "Christian",
          "Jain",
          "Muslim",
          "Christian",
          "Christian",
          "Muslim",
          "Sikh",
          "Sikh",
          "Other",
          "Muslim",
          "Other",
          "Muslim",
          "Other",
          "Other",
          "Christian",
          "Hindu",
          "Sikh",
          "Hindu",
          "Christian",
          "Muslim",
          "Hindu",
          "Other",
          "Sikh",
          "Muslim",
          "Christian",
          "Sikh",
          "Christian",
          "Other",
          "Christian",
          "Other",
          "Other",
          "Hindu",
          "Muslim",
          "Christian",
          "Hindu",
          "Christian",
          "Jain",
          "Christian",
          "Other",
          "Jain",
          "Christian",
          "Jain",
          "Jain",
          "Hindu",
          "Jain",
          "Sikh",
          "Other",
          "Jain",
          "Muslim",
          "Other",
          "Other",
          "Christian",
          "Christian",
          "Christian",
          "Sikh",
          "Jain",
          "Christian",
          "Hindu",
          "Christian",
          "Jain",
          "Christian",
          "Sikh",
          "Muslim",
          "Jain",
          "Muslim",
          "Muslim",
          "Jain",
          "Jain",
          "Muslim",
          "Muslim",
          "Muslim",
          "Other",
          "Sikh",
          "Christian",
          "Sikh",
          "Jain",
          "Hindu",
          "Hindu",
          "Other",
          "Jain",
          "Other",
          "Jain",
          "Hindu",
          "Jain",
          "Muslim",
          "Hindu",
          "Christian",
          "Jain"
         ],
         "xaxis": "x",
         "yaxis": "y"
        },
        {
         "alignmentgroup": "True",
         "bingroup": "x",
         "hovertemplate": "Divorce Status=Yes<br>Caste/Religion=%{x}<br>count=%{y}<extra></extra>",
         "legendgroup": "Yes",
         "marker": {
          "color": "#EF553B",
          "pattern": {
           "shape": ""
          }
         },
         "name": "Yes",
         "offsetgroup": "Yes",
         "orientation": "v",
         "showlegend": true,
         "texttemplate": "%{value}",
         "type": "histogram",
         "x": [
          "Jain",
          "Muslim",
          "Jain",
          "Jain",
          "Other",
          "Jain",
          "Hindu",
          "Hindu",
          "Sikh",
          "Jain",
          "Other",
          "Sikh",
          "Muslim",
          "Sikh",
          "Jain",
          "Hindu",
          "Christian",
          "Jain",
          "Hindu",
          "Christian",
          "Jain",
          "Sikh",
          "Jain",
          "Sikh",
          "Hindu",
          "Sikh",
          "Muslim",
          "Muslim",
          "Jain",
          "Other",
          "Sikh",
          "Jain",
          "Christian",
          "Muslim",
          "Christian",
          "Muslim",
          "Hindu",
          "Other",
          "Jain",
          "Christian",
          "Jain",
          "Christian",
          "Jain",
          "Jain",
          "Other",
          "Sikh",
          "Jain",
          "Christian",
          "Jain",
          "Hindu",
          "Muslim",
          "Muslim",
          "Other",
          "Sikh",
          "Sikh",
          "Hindu",
          "Sikh",
          "Christian",
          "Hindu",
          "Sikh",
          "Muslim",
          "Hindu",
          "Other",
          "Hindu",
          "Other",
          "Muslim",
          "Other",
          "Sikh",
          "Jain",
          "Other",
          "Other",
          "Other",
          "Sikh",
          "Hindu",
          "Sikh",
          "Jain",
          "Sikh",
          "Christian",
          "Sikh",
          "Jain",
          "Christian",
          "Muslim",
          "Muslim",
          "Sikh",
          "Muslim",
          "Hindu",
          "Jain",
          "Christian",
          "Muslim",
          "Muslim",
          "Other",
          "Hindu",
          "Jain",
          "Christian",
          "Jain",
          "Muslim",
          "Muslim",
          "Hindu",
          "Jain",
          "Muslim",
          "Other",
          "Other",
          "Hindu",
          "Jain",
          "Sikh",
          "Hindu",
          "Hindu",
          "Other",
          "Sikh",
          "Hindu",
          "Christian",
          "Sikh",
          "Christian",
          "Christian",
          "Other",
          "Muslim",
          "Muslim",
          "Sikh",
          "Other",
          "Other",
          "Muslim",
          "Other",
          "Muslim",
          "Hindu",
          "Christian",
          "Muslim",
          "Sikh",
          "Jain",
          "Sikh",
          "Christian",
          "Sikh",
          "Sikh",
          "Sikh",
          "Other",
          "Hindu",
          "Sikh",
          "Other",
          "Sikh",
          "Sikh",
          "Hindu",
          "Other",
          "Hindu",
          "Other",
          "Sikh",
          "Sikh",
          "Hindu",
          "Muslim",
          "Hindu",
          "Hindu",
          "Jain",
          "Christian",
          "Jain",
          "Other",
          "Muslim",
          "Hindu",
          "Jain",
          "Muslim",
          "Jain",
          "Christian",
          "Other",
          "Jain",
          "Hindu",
          "Other",
          "Hindu",
          "Christian",
          "Jain",
          "Hindu",
          "Jain",
          "Jain",
          "Muslim",
          "Jain",
          "Hindu",
          "Sikh",
          "Hindu",
          "Christian",
          "Other",
          "Christian",
          "Other",
          "Muslim",
          "Christian",
          "Jain",
          "Hindu",
          "Christian",
          "Other",
          "Muslim",
          "Hindu",
          "Jain",
          "Sikh",
          "Jain",
          "Other",
          "Jain",
          "Hindu",
          "Jain",
          "Jain",
          "Muslim",
          "Christian",
          "Jain",
          "Hindu",
          "Christian",
          "Christian",
          "Sikh",
          "Muslim",
          "Sikh",
          "Muslim",
          "Hindu",
          "Sikh",
          "Christian",
          "Hindu",
          "Hindu",
          "Muslim",
          "Sikh",
          "Other",
          "Other",
          "Hindu",
          "Hindu",
          "Muslim",
          "Muslim",
          "Jain",
          "Christian",
          "Hindu",
          "Jain",
          "Sikh",
          "Other",
          "Muslim",
          "Christian",
          "Christian",
          "Christian",
          "Muslim",
          "Hindu",
          "Hindu",
          "Muslim",
          "Christian",
          "Sikh",
          "Muslim",
          "Christian",
          "Other",
          "Sikh",
          "Sikh",
          "Jain",
          "Sikh",
          "Jain",
          "Jain",
          "Hindu",
          "Sikh",
          "Other",
          "Hindu",
          "Other",
          "Muslim",
          "Jain",
          "Sikh",
          "Other",
          "Christian",
          "Muslim",
          "Muslim",
          "Sikh",
          "Sikh",
          "Muslim",
          "Hindu",
          "Christian",
          "Other",
          "Sikh",
          "Sikh",
          "Hindu",
          "Christian",
          "Muslim",
          "Sikh",
          "Jain",
          "Jain",
          "Muslim",
          "Muslim",
          "Jain",
          "Christian",
          "Other",
          "Christian",
          "Christian",
          "Muslim",
          "Other",
          "Muslim",
          "Sikh",
          "Other",
          "Other",
          "Muslim",
          "Christian",
          "Hindu",
          "Christian",
          "Muslim",
          "Hindu",
          "Sikh",
          "Sikh",
          "Jain",
          "Muslim",
          "Jain",
          "Other",
          "Christian",
          "Muslim",
          "Christian",
          "Muslim",
          "Muslim",
          "Muslim",
          "Other",
          "Hindu",
          "Sikh",
          "Sikh",
          "Muslim",
          "Sikh",
          "Jain",
          "Muslim",
          "Muslim",
          "Christian",
          "Jain",
          "Jain",
          "Other",
          "Sikh",
          "Jain",
          "Hindu",
          "Christian",
          "Jain",
          "Jain",
          "Jain",
          "Sikh",
          "Sikh",
          "Christian",
          "Christian",
          "Hindu",
          "Other",
          "Sikh",
          "Muslim",
          "Muslim",
          "Jain",
          "Muslim",
          "Hindu",
          "Other",
          "Jain",
          "Jain",
          "Christian",
          "Sikh",
          "Sikh",
          "Other",
          "Hindu",
          "Muslim",
          "Hindu",
          "Jain",
          "Muslim",
          "Christian",
          "Jain",
          "Muslim",
          "Hindu",
          "Muslim",
          "Hindu",
          "Sikh",
          "Hindu",
          "Other",
          "Sikh",
          "Hindu",
          "Muslim",
          "Hindu",
          "Jain",
          "Christian",
          "Other",
          "Sikh",
          "Hindu",
          "Muslim",
          "Christian",
          "Muslim",
          "Christian",
          "Muslim",
          "Jain",
          "Christian",
          "Muslim",
          "Hindu",
          "Christian",
          "Hindu",
          "Hindu",
          "Other"
         ],
         "xaxis": "x",
         "yaxis": "y"
        }
       ],
       "layout": {
        "barmode": "relative",
        "legend": {
         "title": {
          "text": "Divorce Status"
         },
         "tracegroupgap": 0
        },
        "margin": {
         "t": 60
        },
        "template": {
         "data": {
          "bar": [
           {
            "error_x": {
             "color": "#2a3f5f"
            },
            "error_y": {
             "color": "#2a3f5f"
            },
            "marker": {
             "line": {
              "color": "#E5ECF6",
              "width": 0.5
             },
             "pattern": {
              "fillmode": "overlay",
              "size": 10,
              "solidity": 0.2
             }
            },
            "type": "bar"
           }
          ],
          "barpolar": [
           {
            "marker": {
             "line": {
              "color": "#E5ECF6",
              "width": 0.5
             },
             "pattern": {
              "fillmode": "overlay",
              "size": 10,
              "solidity": 0.2
             }
            },
            "type": "barpolar"
           }
          ],
          "carpet": [
           {
            "aaxis": {
             "endlinecolor": "#2a3f5f",
             "gridcolor": "white",
             "linecolor": "white",
             "minorgridcolor": "white",
             "startlinecolor": "#2a3f5f"
            },
            "baxis": {
             "endlinecolor": "#2a3f5f",
             "gridcolor": "white",
             "linecolor": "white",
             "minorgridcolor": "white",
             "startlinecolor": "#2a3f5f"
            },
            "type": "carpet"
           }
          ],
          "choropleth": [
           {
            "colorbar": {
             "outlinewidth": 0,
             "ticks": ""
            },
            "type": "choropleth"
           }
          ],
          "contour": [
           {
            "colorbar": {
             "outlinewidth": 0,
             "ticks": ""
            },
            "colorscale": [
             [
              0,
              "#0d0887"
             ],
             [
              0.1111111111111111,
              "#46039f"
             ],
             [
              0.2222222222222222,
              "#7201a8"
             ],
             [
              0.3333333333333333,
              "#9c179e"
             ],
             [
              0.4444444444444444,
              "#bd3786"
             ],
             [
              0.5555555555555556,
              "#d8576b"
             ],
             [
              0.6666666666666666,
              "#ed7953"
             ],
             [
              0.7777777777777778,
              "#fb9f3a"
             ],
             [
              0.8888888888888888,
              "#fdca26"
             ],
             [
              1,
              "#f0f921"
             ]
            ],
            "type": "contour"
           }
          ],
          "contourcarpet": [
           {
            "colorbar": {
             "outlinewidth": 0,
             "ticks": ""
            },
            "type": "contourcarpet"
           }
          ],
          "heatmap": [
           {
            "colorbar": {
             "outlinewidth": 0,
             "ticks": ""
            },
            "colorscale": [
             [
              0,
              "#0d0887"
             ],
             [
              0.1111111111111111,
              "#46039f"
             ],
             [
              0.2222222222222222,
              "#7201a8"
             ],
             [
              0.3333333333333333,
              "#9c179e"
             ],
             [
              0.4444444444444444,
              "#bd3786"
             ],
             [
              0.5555555555555556,
              "#d8576b"
             ],
             [
              0.6666666666666666,
              "#ed7953"
             ],
             [
              0.7777777777777778,
              "#fb9f3a"
             ],
             [
              0.8888888888888888,
              "#fdca26"
             ],
             [
              1,
              "#f0f921"
             ]
            ],
            "type": "heatmap"
           }
          ],
          "heatmapgl": [
           {
            "colorbar": {
             "outlinewidth": 0,
             "ticks": ""
            },
            "colorscale": [
             [
              0,
              "#0d0887"
             ],
             [
              0.1111111111111111,
              "#46039f"
             ],
             [
              0.2222222222222222,
              "#7201a8"
             ],
             [
              0.3333333333333333,
              "#9c179e"
             ],
             [
              0.4444444444444444,
              "#bd3786"
             ],
             [
              0.5555555555555556,
              "#d8576b"
             ],
             [
              0.6666666666666666,
              "#ed7953"
             ],
             [
              0.7777777777777778,
              "#fb9f3a"
             ],
             [
              0.8888888888888888,
              "#fdca26"
             ],
             [
              1,
              "#f0f921"
             ]
            ],
            "type": "heatmapgl"
           }
          ],
          "histogram": [
           {
            "marker": {
             "pattern": {
              "fillmode": "overlay",
              "size": 10,
              "solidity": 0.2
             }
            },
            "type": "histogram"
           }
          ],
          "histogram2d": [
           {
            "colorbar": {
             "outlinewidth": 0,
             "ticks": ""
            },
            "colorscale": [
             [
              0,
              "#0d0887"
             ],
             [
              0.1111111111111111,
              "#46039f"
             ],
             [
              0.2222222222222222,
              "#7201a8"
             ],
             [
              0.3333333333333333,
              "#9c179e"
             ],
             [
              0.4444444444444444,
              "#bd3786"
             ],
             [
              0.5555555555555556,
              "#d8576b"
             ],
             [
              0.6666666666666666,
              "#ed7953"
             ],
             [
              0.7777777777777778,
              "#fb9f3a"
             ],
             [
              0.8888888888888888,
              "#fdca26"
             ],
             [
              1,
              "#f0f921"
             ]
            ],
            "type": "histogram2d"
           }
          ],
          "histogram2dcontour": [
           {
            "colorbar": {
             "outlinewidth": 0,
             "ticks": ""
            },
            "colorscale": [
             [
              0,
              "#0d0887"
             ],
             [
              0.1111111111111111,
              "#46039f"
             ],
             [
              0.2222222222222222,
              "#7201a8"
             ],
             [
              0.3333333333333333,
              "#9c179e"
             ],
             [
              0.4444444444444444,
              "#bd3786"
             ],
             [
              0.5555555555555556,
              "#d8576b"
             ],
             [
              0.6666666666666666,
              "#ed7953"
             ],
             [
              0.7777777777777778,
              "#fb9f3a"
             ],
             [
              0.8888888888888888,
              "#fdca26"
             ],
             [
              1,
              "#f0f921"
             ]
            ],
            "type": "histogram2dcontour"
           }
          ],
          "mesh3d": [
           {
            "colorbar": {
             "outlinewidth": 0,
             "ticks": ""
            },
            "type": "mesh3d"
           }
          ],
          "parcoords": [
           {
            "line": {
             "colorbar": {
              "outlinewidth": 0,
              "ticks": ""
             }
            },
            "type": "parcoords"
           }
          ],
          "pie": [
           {
            "automargin": true,
            "type": "pie"
           }
          ],
          "scatter": [
           {
            "fillpattern": {
             "fillmode": "overlay",
             "size": 10,
             "solidity": 0.2
            },
            "type": "scatter"
           }
          ],
          "scatter3d": [
           {
            "line": {
             "colorbar": {
              "outlinewidth": 0,
              "ticks": ""
             }
            },
            "marker": {
             "colorbar": {
              "outlinewidth": 0,
              "ticks": ""
             }
            },
            "type": "scatter3d"
           }
          ],
          "scattercarpet": [
           {
            "marker": {
             "colorbar": {
              "outlinewidth": 0,
              "ticks": ""
             }
            },
            "type": "scattercarpet"
           }
          ],
          "scattergeo": [
           {
            "marker": {
             "colorbar": {
              "outlinewidth": 0,
              "ticks": ""
             }
            },
            "type": "scattergeo"
           }
          ],
          "scattergl": [
           {
            "marker": {
             "colorbar": {
              "outlinewidth": 0,
              "ticks": ""
             }
            },
            "type": "scattergl"
           }
          ],
          "scattermapbox": [
           {
            "marker": {
             "colorbar": {
              "outlinewidth": 0,
              "ticks": ""
             }
            },
            "type": "scattermapbox"
           }
          ],
          "scatterpolar": [
           {
            "marker": {
             "colorbar": {
              "outlinewidth": 0,
              "ticks": ""
             }
            },
            "type": "scatterpolar"
           }
          ],
          "scatterpolargl": [
           {
            "marker": {
             "colorbar": {
              "outlinewidth": 0,
              "ticks": ""
             }
            },
            "type": "scatterpolargl"
           }
          ],
          "scatterternary": [
           {
            "marker": {
             "colorbar": {
              "outlinewidth": 0,
              "ticks": ""
             }
            },
            "type": "scatterternary"
           }
          ],
          "surface": [
           {
            "colorbar": {
             "outlinewidth": 0,
             "ticks": ""
            },
            "colorscale": [
             [
              0,
              "#0d0887"
             ],
             [
              0.1111111111111111,
              "#46039f"
             ],
             [
              0.2222222222222222,
              "#7201a8"
             ],
             [
              0.3333333333333333,
              "#9c179e"
             ],
             [
              0.4444444444444444,
              "#bd3786"
             ],
             [
              0.5555555555555556,
              "#d8576b"
             ],
             [
              0.6666666666666666,
              "#ed7953"
             ],
             [
              0.7777777777777778,
              "#fb9f3a"
             ],
             [
              0.8888888888888888,
              "#fdca26"
             ],
             [
              1,
              "#f0f921"
             ]
            ],
            "type": "surface"
           }
          ],
          "table": [
           {
            "cells": {
             "fill": {
              "color": "#EBF0F8"
             },
             "line": {
              "color": "white"
             }
            },
            "header": {
             "fill": {
              "color": "#C8D4E3"
             },
             "line": {
              "color": "white"
             }
            },
            "type": "table"
           }
          ]
         },
         "layout": {
          "annotationdefaults": {
           "arrowcolor": "#2a3f5f",
           "arrowhead": 0,
           "arrowwidth": 1
          },
          "autotypenumbers": "strict",
          "coloraxis": {
           "colorbar": {
            "outlinewidth": 0,
            "ticks": ""
           }
          },
          "colorscale": {
           "diverging": [
            [
             0,
             "#8e0152"
            ],
            [
             0.1,
             "#c51b7d"
            ],
            [
             0.2,
             "#de77ae"
            ],
            [
             0.3,
             "#f1b6da"
            ],
            [
             0.4,
             "#fde0ef"
            ],
            [
             0.5,
             "#f7f7f7"
            ],
            [
             0.6,
             "#e6f5d0"
            ],
            [
             0.7,
             "#b8e186"
            ],
            [
             0.8,
             "#7fbc41"
            ],
            [
             0.9,
             "#4d9221"
            ],
            [
             1,
             "#276419"
            ]
           ],
           "sequential": [
            [
             0,
             "#0d0887"
            ],
            [
             0.1111111111111111,
             "#46039f"
            ],
            [
             0.2222222222222222,
             "#7201a8"
            ],
            [
             0.3333333333333333,
             "#9c179e"
            ],
            [
             0.4444444444444444,
             "#bd3786"
            ],
            [
             0.5555555555555556,
             "#d8576b"
            ],
            [
             0.6666666666666666,
             "#ed7953"
            ],
            [
             0.7777777777777778,
             "#fb9f3a"
            ],
            [
             0.8888888888888888,
             "#fdca26"
            ],
            [
             1,
             "#f0f921"
            ]
           ],
           "sequentialminus": [
            [
             0,
             "#0d0887"
            ],
            [
             0.1111111111111111,
             "#46039f"
            ],
            [
             0.2222222222222222,
             "#7201a8"
            ],
            [
             0.3333333333333333,
             "#9c179e"
            ],
            [
             0.4444444444444444,
             "#bd3786"
            ],
            [
             0.5555555555555556,
             "#d8576b"
            ],
            [
             0.6666666666666666,
             "#ed7953"
            ],
            [
             0.7777777777777778,
             "#fb9f3a"
            ],
            [
             0.8888888888888888,
             "#fdca26"
            ],
            [
             1,
             "#f0f921"
            ]
           ]
          },
          "colorway": [
           "#636efa",
           "#EF553B",
           "#00cc96",
           "#ab63fa",
           "#FFA15A",
           "#19d3f3",
           "#FF6692",
           "#B6E880",
           "#FF97FF",
           "#FECB52"
          ],
          "font": {
           "color": "#2a3f5f"
          },
          "geo": {
           "bgcolor": "white",
           "lakecolor": "white",
           "landcolor": "#E5ECF6",
           "showlakes": true,
           "showland": true,
           "subunitcolor": "white"
          },
          "hoverlabel": {
           "align": "left"
          },
          "hovermode": "closest",
          "mapbox": {
           "style": "light"
          },
          "paper_bgcolor": "white",
          "plot_bgcolor": "#E5ECF6",
          "polar": {
           "angularaxis": {
            "gridcolor": "white",
            "linecolor": "white",
            "ticks": ""
           },
           "bgcolor": "#E5ECF6",
           "radialaxis": {
            "gridcolor": "white",
            "linecolor": "white",
            "ticks": ""
           }
          },
          "scene": {
           "xaxis": {
            "backgroundcolor": "#E5ECF6",
            "gridcolor": "white",
            "gridwidth": 2,
            "linecolor": "white",
            "showbackground": true,
            "ticks": "",
            "zerolinecolor": "white"
           },
           "yaxis": {
            "backgroundcolor": "#E5ECF6",
            "gridcolor": "white",
            "gridwidth": 2,
            "linecolor": "white",
            "showbackground": true,
            "ticks": "",
            "zerolinecolor": "white"
           },
           "zaxis": {
            "backgroundcolor": "#E5ECF6",
            "gridcolor": "white",
            "gridwidth": 2,
            "linecolor": "white",
            "showbackground": true,
            "ticks": "",
            "zerolinecolor": "white"
           }
          },
          "shapedefaults": {
           "line": {
            "color": "#2a3f5f"
           }
          },
          "ternary": {
           "aaxis": {
            "gridcolor": "white",
            "linecolor": "white",
            "ticks": ""
           },
           "baxis": {
            "gridcolor": "white",
            "linecolor": "white",
            "ticks": ""
           },
           "bgcolor": "#E5ECF6",
           "caxis": {
            "gridcolor": "white",
            "linecolor": "white",
            "ticks": ""
           }
          },
          "title": {
           "x": 0.05
          },
          "xaxis": {
           "automargin": true,
           "gridcolor": "white",
           "linecolor": "white",
           "ticks": "",
           "title": {
            "standoff": 15
           },
           "zerolinecolor": "white",
           "zerolinewidth": 2
          },
          "yaxis": {
           "automargin": true,
           "gridcolor": "white",
           "linecolor": "white",
           "ticks": "",
           "title": {
            "standoff": 15
           },
           "zerolinecolor": "white",
           "zerolinewidth": 2
          }
         }
        },
        "xaxis": {
         "anchor": "y",
         "domain": [
          0,
          1
         ],
         "title": {
          "text": "Caste/Religion"
         }
        },
        "yaxis": {
         "anchor": "x",
         "domain": [
          0,
          1
         ],
         "title": {
          "text": "count"
         }
        }
       }
      }
     },
     "metadata": {},
     "output_type": "display_data"
    },
    {
     "data": {
      "application/vnd.plotly.v1+json": {
       "config": {
        "plotlyServerURL": "https://plot.ly"
       },
       "data": [
        {
         "alignmentgroup": "True",
         "bingroup": "x",
         "hovertemplate": "Divorce Status=No<br>Urban/Rural=%{x}<br>count=%{y}<extra></extra>",
         "legendgroup": "No",
         "marker": {
          "color": "#636efa",
          "pattern": {
           "shape": ""
          }
         },
         "name": "No",
         "offsetgroup": "No",
         "orientation": "v",
         "showlegend": true,
         "texttemplate": "%{value}",
         "type": "histogram",
         "x": [
          "Rural",
          "Rural",
          "Rural",
          "Urban",
          "Rural",
          "Urban",
          "Rural",
          "Urban",
          "Urban",
          "Rural",
          "Rural",
          "Rural",
          "Rural",
          "Urban",
          "Rural",
          "Urban",
          "Rural",
          "Rural",
          "Urban",
          "Rural",
          "Rural",
          "Rural",
          "Urban",
          "Rural",
          "Rural",
          "Urban",
          "Urban",
          "Rural",
          "Urban",
          "Urban",
          "Urban",
          "Rural",
          "Urban",
          "Urban",
          "Rural",
          "Urban",
          "Urban",
          "Rural",
          "Urban",
          "Rural",
          "Urban",
          "Rural",
          "Urban",
          "Rural",
          "Rural",
          "Urban",
          "Rural",
          "Urban",
          "Urban",
          "Urban",
          "Urban",
          "Urban",
          "Urban",
          "Urban",
          "Urban",
          "Rural",
          "Urban",
          "Urban",
          "Rural",
          "Urban",
          "Rural",
          "Urban",
          "Rural",
          "Urban",
          "Rural",
          "Urban",
          "Urban",
          "Urban",
          "Rural",
          "Urban",
          "Urban",
          "Urban",
          "Rural",
          "Urban",
          "Rural",
          "Urban",
          "Urban",
          "Rural",
          "Rural",
          "Rural",
          "Rural",
          "Rural",
          "Rural",
          "Rural",
          "Urban",
          "Urban",
          "Rural",
          "Urban",
          "Rural",
          "Rural",
          "Rural",
          "Rural",
          "Urban",
          "Rural",
          "Urban",
          "Urban",
          "Urban",
          "Rural",
          "Urban",
          "Urban",
          "Rural",
          "Rural",
          "Rural",
          "Urban",
          "Rural",
          "Urban",
          "Urban",
          "Rural",
          "Urban",
          "Urban",
          "Urban",
          "Urban",
          "Rural",
          "Urban",
          "Urban",
          "Rural",
          "Rural",
          "Rural",
          "Rural",
          "Rural",
          "Rural",
          "Rural",
          "Urban",
          "Rural",
          "Rural",
          "Urban",
          "Urban",
          "Urban",
          "Urban",
          "Rural",
          "Rural",
          "Urban",
          "Urban",
          "Rural",
          "Rural",
          "Rural",
          "Rural",
          "Urban",
          "Urban",
          "Urban",
          "Urban",
          "Urban",
          "Urban",
          "Urban",
          "Urban",
          "Rural",
          "Rural",
          "Urban",
          "Rural",
          "Urban",
          "Rural",
          "Rural",
          "Urban",
          "Rural",
          "Rural",
          "Urban",
          "Rural",
          "Rural",
          "Urban",
          "Rural",
          "Urban",
          "Rural",
          "Urban",
          "Rural",
          "Urban",
          "Urban",
          "Rural",
          "Rural",
          "Rural",
          "Rural",
          "Rural",
          "Rural",
          "Rural",
          "Urban",
          "Rural",
          "Rural",
          "Rural",
          "Rural",
          "Rural",
          "Urban",
          "Urban",
          "Rural",
          "Urban",
          "Urban",
          "Urban",
          "Urban",
          "Urban",
          "Rural",
          "Rural",
          "Urban",
          "Rural",
          "Rural",
          "Rural",
          "Rural",
          "Rural",
          "Rural",
          "Rural",
          "Rural",
          "Urban",
          "Urban",
          "Rural",
          "Rural",
          "Urban",
          "Urban",
          "Urban",
          "Rural",
          "Urban",
          "Rural",
          "Urban",
          "Urban",
          "Rural",
          "Rural",
          "Rural",
          "Urban",
          "Rural",
          "Rural",
          "Urban",
          "Urban",
          "Rural",
          "Urban",
          "Urban",
          "Rural",
          "Rural",
          "Rural",
          "Urban",
          "Rural",
          "Rural",
          "Urban",
          "Rural",
          "Rural",
          "Urban",
          "Urban",
          "Rural",
          "Rural",
          "Rural",
          "Urban",
          "Rural",
          "Urban",
          "Rural",
          "Rural",
          "Urban",
          "Urban",
          "Rural",
          "Urban",
          "Urban",
          "Rural",
          "Rural",
          "Rural",
          "Urban",
          "Rural",
          "Rural",
          "Urban",
          "Urban",
          "Urban",
          "Rural",
          "Rural",
          "Urban",
          "Rural",
          "Urban",
          "Urban",
          "Urban",
          "Urban",
          "Urban",
          "Rural",
          "Urban",
          "Rural",
          "Rural",
          "Urban",
          "Rural",
          "Rural",
          "Rural",
          "Urban",
          "Urban",
          "Rural",
          "Urban",
          "Rural",
          "Urban",
          "Urban",
          "Rural",
          "Rural",
          "Urban",
          "Urban",
          "Urban",
          "Urban",
          "Urban",
          "Rural",
          "Urban",
          "Rural",
          "Rural",
          "Urban",
          "Urban",
          "Urban",
          "Urban",
          "Rural",
          "Urban",
          "Urban",
          "Rural",
          "Rural",
          "Rural",
          "Rural",
          "Rural",
          "Urban",
          "Urban",
          "Rural",
          "Urban",
          "Rural",
          "Rural",
          "Urban",
          "Urban",
          "Urban",
          "Rural",
          "Rural",
          "Urban",
          "Urban",
          "Rural",
          "Urban",
          "Urban",
          "Rural",
          "Rural",
          "Urban",
          "Rural",
          "Rural",
          "Rural",
          "Urban",
          "Rural",
          "Rural",
          "Rural",
          "Urban",
          "Urban",
          "Urban",
          "Urban",
          "Urban",
          "Rural",
          "Rural",
          "Urban",
          "Urban",
          "Rural",
          "Urban",
          "Urban",
          "Rural",
          "Rural",
          "Rural",
          "Urban",
          "Urban",
          "Urban",
          "Rural",
          "Urban",
          "Rural",
          "Rural",
          "Urban",
          "Rural",
          "Rural",
          "Urban",
          "Urban",
          "Urban",
          "Rural",
          "Rural",
          "Rural",
          "Urban",
          "Rural",
          "Rural",
          "Urban",
          "Rural",
          "Rural",
          "Urban",
          "Rural",
          "Urban",
          "Urban",
          "Urban",
          "Urban",
          "Urban",
          "Rural",
          "Rural",
          "Urban",
          "Urban",
          "Urban",
          "Rural",
          "Urban",
          "Urban",
          "Urban",
          "Urban",
          "Urban",
          "Rural",
          "Urban",
          "Urban",
          "Urban",
          "Urban",
          "Rural",
          "Urban",
          "Urban",
          "Urban",
          "Rural",
          "Rural",
          "Rural",
          "Urban",
          "Rural",
          "Urban",
          "Rural",
          "Rural",
          "Rural",
          "Urban",
          "Rural",
          "Rural",
          "Urban",
          "Urban",
          "Rural",
          "Rural",
          "Urban",
          "Urban",
          "Urban",
          "Rural",
          "Rural",
          "Urban",
          "Rural",
          "Rural",
          "Urban",
          "Rural",
          "Urban",
          "Rural",
          "Urban",
          "Rural",
          "Urban",
          "Urban",
          "Rural",
          "Rural",
          "Rural",
          "Urban",
          "Urban",
          "Rural",
          "Rural",
          "Urban",
          "Rural",
          "Rural",
          "Rural",
          "Urban",
          "Rural",
          "Rural",
          "Urban",
          "Rural",
          "Urban",
          "Urban",
          "Rural",
          "Rural",
          "Urban",
          "Rural",
          "Urban",
          "Rural",
          "Urban",
          "Urban",
          "Rural",
          "Rural",
          "Rural",
          "Urban",
          "Rural",
          "Urban",
          "Rural",
          "Urban",
          "Rural",
          "Rural",
          "Rural",
          "Rural",
          "Urban",
          "Rural",
          "Urban",
          "Urban",
          "Rural",
          "Rural",
          "Urban",
          "Rural",
          "Urban",
          "Urban",
          "Urban",
          "Urban",
          "Urban",
          "Urban",
          "Urban",
          "Urban",
          "Urban",
          "Urban",
          "Urban",
          "Rural",
          "Rural",
          "Rural",
          "Urban",
          "Urban",
          "Urban",
          "Rural",
          "Urban",
          "Rural",
          "Rural",
          "Urban",
          "Rural",
          "Urban",
          "Urban",
          "Urban",
          "Rural",
          "Urban",
          "Rural",
          "Rural",
          "Urban",
          "Rural",
          "Urban",
          "Rural",
          "Rural",
          "Urban",
          "Rural",
          "Rural",
          "Rural",
          "Urban",
          "Rural",
          "Urban",
          "Rural",
          "Rural",
          "Rural",
          "Urban",
          "Urban",
          "Urban",
          "Urban",
          "Urban",
          "Urban",
          "Rural",
          "Urban",
          "Urban",
          "Rural",
          "Rural",
          "Rural",
          "Urban",
          "Rural",
          "Rural",
          "Urban",
          "Rural",
          "Rural",
          "Rural",
          "Rural",
          "Rural",
          "Urban",
          "Urban",
          "Urban",
          "Rural",
          "Urban",
          "Rural",
          "Urban",
          "Rural",
          "Urban",
          "Urban",
          "Rural",
          "Urban",
          "Rural",
          "Rural",
          "Urban",
          "Rural",
          "Rural",
          "Urban",
          "Urban",
          "Urban",
          "Urban",
          "Rural",
          "Urban",
          "Rural",
          "Urban",
          "Rural",
          "Urban",
          "Rural",
          "Rural",
          "Rural",
          "Rural",
          "Urban",
          "Urban",
          "Rural",
          "Urban",
          "Rural",
          "Rural",
          "Rural",
          "Urban",
          "Urban",
          "Rural",
          "Urban",
          "Urban",
          "Urban",
          "Rural",
          "Urban",
          "Rural",
          "Rural",
          "Urban",
          "Urban",
          "Rural",
          "Rural",
          "Urban",
          "Rural",
          "Rural",
          "Urban",
          "Rural",
          "Rural",
          "Urban",
          "Rural",
          "Rural",
          "Urban",
          "Rural",
          "Urban",
          "Urban",
          "Rural",
          "Rural",
          "Urban",
          "Urban",
          "Urban",
          "Rural",
          "Urban",
          "Urban",
          "Rural",
          "Rural",
          "Rural",
          "Rural",
          "Urban",
          "Urban",
          "Urban",
          "Rural",
          "Urban",
          "Rural",
          "Urban",
          "Rural",
          "Urban",
          "Urban",
          "Urban",
          "Rural",
          "Rural",
          "Urban",
          "Rural",
          "Urban",
          "Urban",
          "Rural",
          "Rural",
          "Rural",
          "Rural",
          "Urban",
          "Urban",
          "Rural",
          "Urban",
          "Urban",
          "Urban",
          "Rural",
          "Rural",
          "Urban",
          "Rural",
          "Urban",
          "Urban",
          "Rural",
          "Rural",
          "Urban",
          "Urban",
          "Rural",
          "Rural",
          "Rural",
          "Urban",
          "Rural",
          "Rural",
          "Urban",
          "Rural",
          "Urban",
          "Rural",
          "Rural",
          "Urban",
          "Urban",
          "Rural",
          "Rural",
          "Urban",
          "Rural",
          "Rural",
          "Rural",
          "Urban",
          "Rural",
          "Rural",
          "Rural",
          "Urban",
          "Rural",
          "Urban",
          "Rural",
          "Urban",
          "Rural",
          "Rural",
          "Rural",
          "Urban",
          "Rural",
          "Urban",
          "Urban",
          "Urban",
          "Urban",
          "Urban",
          "Rural",
          "Rural",
          "Urban",
          "Urban",
          "Rural",
          "Urban",
          "Urban",
          "Urban",
          "Rural",
          "Rural",
          "Rural",
          "Rural",
          "Urban",
          "Urban",
          "Urban",
          "Urban",
          "Urban",
          "Rural",
          "Urban",
          "Rural",
          "Rural",
          "Urban",
          "Rural",
          "Urban",
          "Rural",
          "Rural",
          "Rural",
          "Urban",
          "Rural",
          "Urban",
          "Rural",
          "Rural",
          "Urban",
          "Urban",
          "Urban",
          "Rural",
          "Urban",
          "Rural",
          "Urban",
          "Rural",
          "Rural",
          "Urban",
          "Urban",
          "Urban",
          "Rural",
          "Urban",
          "Rural",
          "Rural",
          "Rural",
          "Urban",
          "Rural",
          "Rural",
          "Urban",
          "Rural",
          "Rural",
          "Rural",
          "Rural",
          "Urban",
          "Urban",
          "Rural",
          "Rural",
          "Urban",
          "Urban",
          "Rural",
          "Rural",
          "Rural",
          "Urban",
          "Urban",
          "Urban",
          "Urban",
          "Rural",
          "Rural",
          "Urban",
          "Urban",
          "Urban",
          "Rural",
          "Urban",
          "Rural",
          "Urban",
          "Rural",
          "Rural",
          "Rural",
          "Urban",
          "Rural",
          "Urban",
          "Urban",
          "Urban",
          "Urban",
          "Urban",
          "Rural",
          "Urban",
          "Urban",
          "Rural",
          "Rural",
          "Rural",
          "Rural",
          "Urban",
          "Urban",
          "Urban",
          "Rural",
          "Urban",
          "Rural",
          "Urban",
          "Urban",
          "Rural",
          "Urban",
          "Urban",
          "Urban",
          "Urban",
          "Rural",
          "Rural",
          "Urban",
          "Rural",
          "Rural",
          "Urban",
          "Urban",
          "Urban",
          "Rural",
          "Urban",
          "Urban",
          "Rural",
          "Rural",
          "Urban",
          "Rural",
          "Rural",
          "Rural",
          "Rural",
          "Rural",
          "Rural",
          "Urban",
          "Urban",
          "Rural",
          "Rural",
          "Urban",
          "Rural",
          "Urban",
          "Rural",
          "Rural",
          "Rural"
         ],
         "xaxis": "x",
         "yaxis": "y"
        },
        {
         "alignmentgroup": "True",
         "bingroup": "x",
         "hovertemplate": "Divorce Status=Yes<br>Urban/Rural=%{x}<br>count=%{y}<extra></extra>",
         "legendgroup": "Yes",
         "marker": {
          "color": "#EF553B",
          "pattern": {
           "shape": ""
          }
         },
         "name": "Yes",
         "offsetgroup": "Yes",
         "orientation": "v",
         "showlegend": true,
         "texttemplate": "%{value}",
         "type": "histogram",
         "x": [
          "Rural",
          "Urban",
          "Urban",
          "Urban",
          "Urban",
          "Rural",
          "Urban",
          "Rural",
          "Urban",
          "Urban",
          "Urban",
          "Urban",
          "Rural",
          "Urban",
          "Rural",
          "Rural",
          "Rural",
          "Urban",
          "Rural",
          "Urban",
          "Urban",
          "Urban",
          "Urban",
          "Urban",
          "Urban",
          "Urban",
          "Urban",
          "Rural",
          "Rural",
          "Urban",
          "Rural",
          "Urban",
          "Urban",
          "Rural",
          "Rural",
          "Urban",
          "Urban",
          "Urban",
          "Urban",
          "Urban",
          "Urban",
          "Rural",
          "Rural",
          "Urban",
          "Rural",
          "Urban",
          "Urban",
          "Rural",
          "Urban",
          "Urban",
          "Urban",
          "Rural",
          "Urban",
          "Urban",
          "Rural",
          "Urban",
          "Urban",
          "Urban",
          "Rural",
          "Rural",
          "Rural",
          "Rural",
          "Rural",
          "Urban",
          "Rural",
          "Rural",
          "Rural",
          "Rural",
          "Rural",
          "Rural",
          "Rural",
          "Urban",
          "Urban",
          "Urban",
          "Urban",
          "Urban",
          "Rural",
          "Urban",
          "Rural",
          "Rural",
          "Urban",
          "Urban",
          "Rural",
          "Rural",
          "Rural",
          "Urban",
          "Rural",
          "Urban",
          "Urban",
          "Rural",
          "Urban",
          "Rural",
          "Rural",
          "Urban",
          "Rural",
          "Urban",
          "Urban",
          "Urban",
          "Rural",
          "Urban",
          "Urban",
          "Urban",
          "Rural",
          "Urban",
          "Rural",
          "Urban",
          "Rural",
          "Urban",
          "Urban",
          "Urban",
          "Rural",
          "Urban",
          "Urban",
          "Urban",
          "Rural",
          "Rural",
          "Urban",
          "Urban",
          "Urban",
          "Rural",
          "Urban",
          "Rural",
          "Urban",
          "Rural",
          "Rural",
          "Rural",
          "Rural",
          "Urban",
          "Urban",
          "Urban",
          "Rural",
          "Rural",
          "Rural",
          "Rural",
          "Rural",
          "Urban",
          "Urban",
          "Urban",
          "Rural",
          "Rural",
          "Urban",
          "Urban",
          "Urban",
          "Urban",
          "Rural",
          "Rural",
          "Rural",
          "Rural",
          "Urban",
          "Rural",
          "Rural",
          "Urban",
          "Urban",
          "Rural",
          "Rural",
          "Rural",
          "Urban",
          "Rural",
          "Urban",
          "Urban",
          "Rural",
          "Urban",
          "Urban",
          "Urban",
          "Rural",
          "Urban",
          "Urban",
          "Urban",
          "Rural",
          "Urban",
          "Urban",
          "Rural",
          "Urban",
          "Rural",
          "Rural",
          "Urban",
          "Rural",
          "Rural",
          "Rural",
          "Urban",
          "Rural",
          "Rural",
          "Rural",
          "Rural",
          "Urban",
          "Urban",
          "Rural",
          "Rural",
          "Urban",
          "Urban",
          "Rural",
          "Urban",
          "Rural",
          "Urban",
          "Urban",
          "Urban",
          "Urban",
          "Urban",
          "Rural",
          "Urban",
          "Rural",
          "Urban",
          "Rural",
          "Rural",
          "Rural",
          "Rural",
          "Urban",
          "Urban",
          "Urban",
          "Rural",
          "Rural",
          "Urban",
          "Rural",
          "Urban",
          "Urban",
          "Rural",
          "Rural",
          "Rural",
          "Rural",
          "Urban",
          "Rural",
          "Rural",
          "Urban",
          "Rural",
          "Rural",
          "Urban",
          "Urban",
          "Urban",
          "Rural",
          "Rural",
          "Urban",
          "Urban",
          "Rural",
          "Rural",
          "Rural",
          "Urban",
          "Rural",
          "Urban",
          "Urban",
          "Urban",
          "Rural",
          "Rural",
          "Urban",
          "Urban",
          "Urban",
          "Rural",
          "Rural",
          "Rural",
          "Urban",
          "Urban",
          "Urban",
          "Rural",
          "Urban",
          "Urban",
          "Urban",
          "Urban",
          "Urban",
          "Urban",
          "Urban",
          "Urban",
          "Urban",
          "Rural",
          "Urban",
          "Urban",
          "Rural",
          "Rural",
          "Urban",
          "Rural",
          "Rural",
          "Rural",
          "Urban",
          "Rural",
          "Urban",
          "Rural",
          "Urban",
          "Rural",
          "Rural",
          "Rural",
          "Rural",
          "Rural",
          "Rural",
          "Urban",
          "Urban",
          "Urban",
          "Rural",
          "Urban",
          "Rural",
          "Urban",
          "Rural",
          "Urban",
          "Urban",
          "Rural",
          "Rural",
          "Rural",
          "Urban",
          "Urban",
          "Urban",
          "Urban",
          "Urban",
          "Rural",
          "Urban",
          "Urban",
          "Urban",
          "Rural",
          "Urban",
          "Urban",
          "Rural",
          "Rural",
          "Rural",
          "Urban",
          "Urban",
          "Rural",
          "Rural",
          "Urban",
          "Rural",
          "Rural",
          "Urban",
          "Rural",
          "Rural",
          "Rural",
          "Rural",
          "Rural",
          "Rural",
          "Urban",
          "Urban",
          "Rural",
          "Urban",
          "Urban",
          "Rural",
          "Urban",
          "Rural",
          "Rural",
          "Rural",
          "Rural",
          "Urban",
          "Urban",
          "Urban",
          "Urban",
          "Rural",
          "Rural",
          "Rural",
          "Rural",
          "Urban",
          "Urban",
          "Urban",
          "Rural",
          "Rural",
          "Rural",
          "Rural",
          "Rural",
          "Urban",
          "Rural",
          "Urban",
          "Urban",
          "Rural",
          "Urban",
          "Urban",
          "Rural",
          "Rural",
          "Urban",
          "Rural",
          "Urban",
          "Urban",
          "Urban",
          "Rural",
          "Urban",
          "Rural",
          "Urban",
          "Rural",
          "Rural",
          "Rural",
          "Rural",
          "Urban",
          "Rural"
         ],
         "xaxis": "x",
         "yaxis": "y"
        }
       ],
       "layout": {
        "barmode": "relative",
        "legend": {
         "title": {
          "text": "Divorce Status"
         },
         "tracegroupgap": 0
        },
        "margin": {
         "t": 60
        },
        "template": {
         "data": {
          "bar": [
           {
            "error_x": {
             "color": "#2a3f5f"
            },
            "error_y": {
             "color": "#2a3f5f"
            },
            "marker": {
             "line": {
              "color": "#E5ECF6",
              "width": 0.5
             },
             "pattern": {
              "fillmode": "overlay",
              "size": 10,
              "solidity": 0.2
             }
            },
            "type": "bar"
           }
          ],
          "barpolar": [
           {
            "marker": {
             "line": {
              "color": "#E5ECF6",
              "width": 0.5
             },
             "pattern": {
              "fillmode": "overlay",
              "size": 10,
              "solidity": 0.2
             }
            },
            "type": "barpolar"
           }
          ],
          "carpet": [
           {
            "aaxis": {
             "endlinecolor": "#2a3f5f",
             "gridcolor": "white",
             "linecolor": "white",
             "minorgridcolor": "white",
             "startlinecolor": "#2a3f5f"
            },
            "baxis": {
             "endlinecolor": "#2a3f5f",
             "gridcolor": "white",
             "linecolor": "white",
             "minorgridcolor": "white",
             "startlinecolor": "#2a3f5f"
            },
            "type": "carpet"
           }
          ],
          "choropleth": [
           {
            "colorbar": {
             "outlinewidth": 0,
             "ticks": ""
            },
            "type": "choropleth"
           }
          ],
          "contour": [
           {
            "colorbar": {
             "outlinewidth": 0,
             "ticks": ""
            },
            "colorscale": [
             [
              0,
              "#0d0887"
             ],
             [
              0.1111111111111111,
              "#46039f"
             ],
             [
              0.2222222222222222,
              "#7201a8"
             ],
             [
              0.3333333333333333,
              "#9c179e"
             ],
             [
              0.4444444444444444,
              "#bd3786"
             ],
             [
              0.5555555555555556,
              "#d8576b"
             ],
             [
              0.6666666666666666,
              "#ed7953"
             ],
             [
              0.7777777777777778,
              "#fb9f3a"
             ],
             [
              0.8888888888888888,
              "#fdca26"
             ],
             [
              1,
              "#f0f921"
             ]
            ],
            "type": "contour"
           }
          ],
          "contourcarpet": [
           {
            "colorbar": {
             "outlinewidth": 0,
             "ticks": ""
            },
            "type": "contourcarpet"
           }
          ],
          "heatmap": [
           {
            "colorbar": {
             "outlinewidth": 0,
             "ticks": ""
            },
            "colorscale": [
             [
              0,
              "#0d0887"
             ],
             [
              0.1111111111111111,
              "#46039f"
             ],
             [
              0.2222222222222222,
              "#7201a8"
             ],
             [
              0.3333333333333333,
              "#9c179e"
             ],
             [
              0.4444444444444444,
              "#bd3786"
             ],
             [
              0.5555555555555556,
              "#d8576b"
             ],
             [
              0.6666666666666666,
              "#ed7953"
             ],
             [
              0.7777777777777778,
              "#fb9f3a"
             ],
             [
              0.8888888888888888,
              "#fdca26"
             ],
             [
              1,
              "#f0f921"
             ]
            ],
            "type": "heatmap"
           }
          ],
          "heatmapgl": [
           {
            "colorbar": {
             "outlinewidth": 0,
             "ticks": ""
            },
            "colorscale": [
             [
              0,
              "#0d0887"
             ],
             [
              0.1111111111111111,
              "#46039f"
             ],
             [
              0.2222222222222222,
              "#7201a8"
             ],
             [
              0.3333333333333333,
              "#9c179e"
             ],
             [
              0.4444444444444444,
              "#bd3786"
             ],
             [
              0.5555555555555556,
              "#d8576b"
             ],
             [
              0.6666666666666666,
              "#ed7953"
             ],
             [
              0.7777777777777778,
              "#fb9f3a"
             ],
             [
              0.8888888888888888,
              "#fdca26"
             ],
             [
              1,
              "#f0f921"
             ]
            ],
            "type": "heatmapgl"
           }
          ],
          "histogram": [
           {
            "marker": {
             "pattern": {
              "fillmode": "overlay",
              "size": 10,
              "solidity": 0.2
             }
            },
            "type": "histogram"
           }
          ],
          "histogram2d": [
           {
            "colorbar": {
             "outlinewidth": 0,
             "ticks": ""
            },
            "colorscale": [
             [
              0,
              "#0d0887"
             ],
             [
              0.1111111111111111,
              "#46039f"
             ],
             [
              0.2222222222222222,
              "#7201a8"
             ],
             [
              0.3333333333333333,
              "#9c179e"
             ],
             [
              0.4444444444444444,
              "#bd3786"
             ],
             [
              0.5555555555555556,
              "#d8576b"
             ],
             [
              0.6666666666666666,
              "#ed7953"
             ],
             [
              0.7777777777777778,
              "#fb9f3a"
             ],
             [
              0.8888888888888888,
              "#fdca26"
             ],
             [
              1,
              "#f0f921"
             ]
            ],
            "type": "histogram2d"
           }
          ],
          "histogram2dcontour": [
           {
            "colorbar": {
             "outlinewidth": 0,
             "ticks": ""
            },
            "colorscale": [
             [
              0,
              "#0d0887"
             ],
             [
              0.1111111111111111,
              "#46039f"
             ],
             [
              0.2222222222222222,
              "#7201a8"
             ],
             [
              0.3333333333333333,
              "#9c179e"
             ],
             [
              0.4444444444444444,
              "#bd3786"
             ],
             [
              0.5555555555555556,
              "#d8576b"
             ],
             [
              0.6666666666666666,
              "#ed7953"
             ],
             [
              0.7777777777777778,
              "#fb9f3a"
             ],
             [
              0.8888888888888888,
              "#fdca26"
             ],
             [
              1,
              "#f0f921"
             ]
            ],
            "type": "histogram2dcontour"
           }
          ],
          "mesh3d": [
           {
            "colorbar": {
             "outlinewidth": 0,
             "ticks": ""
            },
            "type": "mesh3d"
           }
          ],
          "parcoords": [
           {
            "line": {
             "colorbar": {
              "outlinewidth": 0,
              "ticks": ""
             }
            },
            "type": "parcoords"
           }
          ],
          "pie": [
           {
            "automargin": true,
            "type": "pie"
           }
          ],
          "scatter": [
           {
            "fillpattern": {
             "fillmode": "overlay",
             "size": 10,
             "solidity": 0.2
            },
            "type": "scatter"
           }
          ],
          "scatter3d": [
           {
            "line": {
             "colorbar": {
              "outlinewidth": 0,
              "ticks": ""
             }
            },
            "marker": {
             "colorbar": {
              "outlinewidth": 0,
              "ticks": ""
             }
            },
            "type": "scatter3d"
           }
          ],
          "scattercarpet": [
           {
            "marker": {
             "colorbar": {
              "outlinewidth": 0,
              "ticks": ""
             }
            },
            "type": "scattercarpet"
           }
          ],
          "scattergeo": [
           {
            "marker": {
             "colorbar": {
              "outlinewidth": 0,
              "ticks": ""
             }
            },
            "type": "scattergeo"
           }
          ],
          "scattergl": [
           {
            "marker": {
             "colorbar": {
              "outlinewidth": 0,
              "ticks": ""
             }
            },
            "type": "scattergl"
           }
          ],
          "scattermapbox": [
           {
            "marker": {
             "colorbar": {
              "outlinewidth": 0,
              "ticks": ""
             }
            },
            "type": "scattermapbox"
           }
          ],
          "scatterpolar": [
           {
            "marker": {
             "colorbar": {
              "outlinewidth": 0,
              "ticks": ""
             }
            },
            "type": "scatterpolar"
           }
          ],
          "scatterpolargl": [
           {
            "marker": {
             "colorbar": {
              "outlinewidth": 0,
              "ticks": ""
             }
            },
            "type": "scatterpolargl"
           }
          ],
          "scatterternary": [
           {
            "marker": {
             "colorbar": {
              "outlinewidth": 0,
              "ticks": ""
             }
            },
            "type": "scatterternary"
           }
          ],
          "surface": [
           {
            "colorbar": {
             "outlinewidth": 0,
             "ticks": ""
            },
            "colorscale": [
             [
              0,
              "#0d0887"
             ],
             [
              0.1111111111111111,
              "#46039f"
             ],
             [
              0.2222222222222222,
              "#7201a8"
             ],
             [
              0.3333333333333333,
              "#9c179e"
             ],
             [
              0.4444444444444444,
              "#bd3786"
             ],
             [
              0.5555555555555556,
              "#d8576b"
             ],
             [
              0.6666666666666666,
              "#ed7953"
             ],
             [
              0.7777777777777778,
              "#fb9f3a"
             ],
             [
              0.8888888888888888,
              "#fdca26"
             ],
             [
              1,
              "#f0f921"
             ]
            ],
            "type": "surface"
           }
          ],
          "table": [
           {
            "cells": {
             "fill": {
              "color": "#EBF0F8"
             },
             "line": {
              "color": "white"
             }
            },
            "header": {
             "fill": {
              "color": "#C8D4E3"
             },
             "line": {
              "color": "white"
             }
            },
            "type": "table"
           }
          ]
         },
         "layout": {
          "annotationdefaults": {
           "arrowcolor": "#2a3f5f",
           "arrowhead": 0,
           "arrowwidth": 1
          },
          "autotypenumbers": "strict",
          "coloraxis": {
           "colorbar": {
            "outlinewidth": 0,
            "ticks": ""
           }
          },
          "colorscale": {
           "diverging": [
            [
             0,
             "#8e0152"
            ],
            [
             0.1,
             "#c51b7d"
            ],
            [
             0.2,
             "#de77ae"
            ],
            [
             0.3,
             "#f1b6da"
            ],
            [
             0.4,
             "#fde0ef"
            ],
            [
             0.5,
             "#f7f7f7"
            ],
            [
             0.6,
             "#e6f5d0"
            ],
            [
             0.7,
             "#b8e186"
            ],
            [
             0.8,
             "#7fbc41"
            ],
            [
             0.9,
             "#4d9221"
            ],
            [
             1,
             "#276419"
            ]
           ],
           "sequential": [
            [
             0,
             "#0d0887"
            ],
            [
             0.1111111111111111,
             "#46039f"
            ],
            [
             0.2222222222222222,
             "#7201a8"
            ],
            [
             0.3333333333333333,
             "#9c179e"
            ],
            [
             0.4444444444444444,
             "#bd3786"
            ],
            [
             0.5555555555555556,
             "#d8576b"
            ],
            [
             0.6666666666666666,
             "#ed7953"
            ],
            [
             0.7777777777777778,
             "#fb9f3a"
            ],
            [
             0.8888888888888888,
             "#fdca26"
            ],
            [
             1,
             "#f0f921"
            ]
           ],
           "sequentialminus": [
            [
             0,
             "#0d0887"
            ],
            [
             0.1111111111111111,
             "#46039f"
            ],
            [
             0.2222222222222222,
             "#7201a8"
            ],
            [
             0.3333333333333333,
             "#9c179e"
            ],
            [
             0.4444444444444444,
             "#bd3786"
            ],
            [
             0.5555555555555556,
             "#d8576b"
            ],
            [
             0.6666666666666666,
             "#ed7953"
            ],
            [
             0.7777777777777778,
             "#fb9f3a"
            ],
            [
             0.8888888888888888,
             "#fdca26"
            ],
            [
             1,
             "#f0f921"
            ]
           ]
          },
          "colorway": [
           "#636efa",
           "#EF553B",
           "#00cc96",
           "#ab63fa",
           "#FFA15A",
           "#19d3f3",
           "#FF6692",
           "#B6E880",
           "#FF97FF",
           "#FECB52"
          ],
          "font": {
           "color": "#2a3f5f"
          },
          "geo": {
           "bgcolor": "white",
           "lakecolor": "white",
           "landcolor": "#E5ECF6",
           "showlakes": true,
           "showland": true,
           "subunitcolor": "white"
          },
          "hoverlabel": {
           "align": "left"
          },
          "hovermode": "closest",
          "mapbox": {
           "style": "light"
          },
          "paper_bgcolor": "white",
          "plot_bgcolor": "#E5ECF6",
          "polar": {
           "angularaxis": {
            "gridcolor": "white",
            "linecolor": "white",
            "ticks": ""
           },
           "bgcolor": "#E5ECF6",
           "radialaxis": {
            "gridcolor": "white",
            "linecolor": "white",
            "ticks": ""
           }
          },
          "scene": {
           "xaxis": {
            "backgroundcolor": "#E5ECF6",
            "gridcolor": "white",
            "gridwidth": 2,
            "linecolor": "white",
            "showbackground": true,
            "ticks": "",
            "zerolinecolor": "white"
           },
           "yaxis": {
            "backgroundcolor": "#E5ECF6",
            "gridcolor": "white",
            "gridwidth": 2,
            "linecolor": "white",
            "showbackground": true,
            "ticks": "",
            "zerolinecolor": "white"
           },
           "zaxis": {
            "backgroundcolor": "#E5ECF6",
            "gridcolor": "white",
            "gridwidth": 2,
            "linecolor": "white",
            "showbackground": true,
            "ticks": "",
            "zerolinecolor": "white"
           }
          },
          "shapedefaults": {
           "line": {
            "color": "#2a3f5f"
           }
          },
          "ternary": {
           "aaxis": {
            "gridcolor": "white",
            "linecolor": "white",
            "ticks": ""
           },
           "baxis": {
            "gridcolor": "white",
            "linecolor": "white",
            "ticks": ""
           },
           "bgcolor": "#E5ECF6",
           "caxis": {
            "gridcolor": "white",
            "linecolor": "white",
            "ticks": ""
           }
          },
          "title": {
           "x": 0.05
          },
          "xaxis": {
           "automargin": true,
           "gridcolor": "white",
           "linecolor": "white",
           "ticks": "",
           "title": {
            "standoff": 15
           },
           "zerolinecolor": "white",
           "zerolinewidth": 2
          },
          "yaxis": {
           "automargin": true,
           "gridcolor": "white",
           "linecolor": "white",
           "ticks": "",
           "title": {
            "standoff": 15
           },
           "zerolinecolor": "white",
           "zerolinewidth": 2
          }
         }
        },
        "xaxis": {
         "anchor": "y",
         "domain": [
          0,
          1
         ],
         "title": {
          "text": "Urban/Rural"
         }
        },
        "yaxis": {
         "anchor": "x",
         "domain": [
          0,
          1
         ],
         "title": {
          "text": "count"
         }
        }
       }
      }
     },
     "metadata": {},
     "output_type": "display_data"
    },
    {
     "data": {
      "application/vnd.plotly.v1+json": {
       "config": {
        "plotlyServerURL": "https://plot.ly"
       },
       "data": [
        {
         "alignmentgroup": "True",
         "bingroup": "x",
         "hovertemplate": "Divorce Status=No<br>Family Involvement=%{x}<br>count=%{y}<extra></extra>",
         "legendgroup": "No",
         "marker": {
          "color": "#636efa",
          "pattern": {
           "shape": ""
          }
         },
         "name": "No",
         "offsetgroup": "No",
         "orientation": "v",
         "showlegend": true,
         "texttemplate": "%{value}",
         "type": "histogram",
         "x": [
          "Moderate",
          "Moderate",
          "Moderate",
          "High",
          "Moderate",
          "Low",
          "Low",
          "Low",
          "Moderate",
          "Low",
          "High",
          "Low",
          "Moderate",
          "Moderate",
          "High",
          "Moderate",
          "High",
          "Moderate",
          "High",
          "Moderate",
          "High",
          "Moderate",
          "High",
          "High",
          "Low",
          "Moderate",
          "Low",
          "High",
          "High",
          "Low",
          "Low",
          "Low",
          "Moderate",
          "Low",
          "High",
          "High",
          "Moderate",
          "Moderate",
          "Low",
          "High",
          "Moderate",
          "Low",
          "High",
          "Moderate",
          "High",
          "Moderate",
          "High",
          "Moderate",
          "Moderate",
          "High",
          "High",
          "Moderate",
          "Low",
          "High",
          "Moderate",
          "Moderate",
          "Low",
          "Low",
          "Low",
          "High",
          "Moderate",
          "Moderate",
          "Moderate",
          "Moderate",
          "High",
          "Low",
          "Low",
          "Moderate",
          "High",
          "High",
          "Low",
          "High",
          "High",
          "Moderate",
          "High",
          "Moderate",
          "Moderate",
          "High",
          "Moderate",
          "Low",
          "Low",
          "High",
          "High",
          "Low",
          "High",
          "Low",
          "High",
          "Moderate",
          "Moderate",
          "High",
          "Moderate",
          "Low",
          "High",
          "Moderate",
          "Low",
          "Moderate",
          "Low",
          "Low",
          "High",
          "Low",
          "Moderate",
          "Moderate",
          "Low",
          "Low",
          "Moderate",
          "Moderate",
          "Low",
          "High",
          "Low",
          "High",
          "Low",
          "High",
          "Low",
          "High",
          "High",
          "Moderate",
          "Low",
          "Moderate",
          "High",
          "Low",
          "High",
          "Moderate",
          "High",
          "Low",
          "High",
          "Low",
          "Moderate",
          "Low",
          "Moderate",
          "Moderate",
          "Low",
          "High",
          "Moderate",
          "High",
          "Low",
          "Moderate",
          "High",
          "Low",
          "High",
          "Moderate",
          "High",
          "Low",
          "Moderate",
          "Low",
          "Moderate",
          "Low",
          "High",
          "Low",
          "High",
          "Moderate",
          "Moderate",
          "High",
          "Low",
          "Moderate",
          "High",
          "Low",
          "Low",
          "Low",
          "Low",
          "High",
          "Low",
          "High",
          "Low",
          "Moderate",
          "Low",
          "Moderate",
          "High",
          "Low",
          "High",
          "Moderate",
          "Moderate",
          "Low",
          "High",
          "Low",
          "Low",
          "Low",
          "Moderate",
          "High",
          "Moderate",
          "High",
          "Moderate",
          "Low",
          "Moderate",
          "High",
          "Moderate",
          "Low",
          "Low",
          "Low",
          "High",
          "High",
          "Moderate",
          "High",
          "Low",
          "High",
          "Low",
          "Low",
          "High",
          "Low",
          "Moderate",
          "Low",
          "Low",
          "Moderate",
          "High",
          "Moderate",
          "High",
          "Low",
          "High",
          "Low",
          "Low",
          "Low",
          "High",
          "High",
          "Low",
          "Moderate",
          "Moderate",
          "Moderate",
          "High",
          "Moderate",
          "High",
          "Low",
          "Moderate",
          "Low",
          "Moderate",
          "Moderate",
          "High",
          "Moderate",
          "Moderate",
          "Low",
          "High",
          "Moderate",
          "Moderate",
          "High",
          "Moderate",
          "Low",
          "High",
          "High",
          "High",
          "High",
          "Low",
          "High",
          "High",
          "High",
          "High",
          "High",
          "Low",
          "High",
          "Low",
          "Moderate",
          "High",
          "Moderate",
          "High",
          "Moderate",
          "Moderate",
          "High",
          "High",
          "High",
          "High",
          "Low",
          "High",
          "Moderate",
          "High",
          "Moderate",
          "Moderate",
          "Moderate",
          "Moderate",
          "High",
          "Low",
          "High",
          "High",
          "Low",
          "High",
          "Moderate",
          "High",
          "Low",
          "Low",
          "High",
          "High",
          "Moderate",
          "Low",
          "Low",
          "Low",
          "High",
          "Low",
          "Low",
          "High",
          "Low",
          "High",
          "Moderate",
          "Moderate",
          "High",
          "Low",
          "Moderate",
          "High",
          "High",
          "Low",
          "High",
          "Moderate",
          "Moderate",
          "Low",
          "Moderate",
          "Moderate",
          "Moderate",
          "High",
          "Moderate",
          "Low",
          "Moderate",
          "High",
          "Moderate",
          "Low",
          "High",
          "High",
          "Low",
          "Moderate",
          "High",
          "Moderate",
          "Moderate",
          "High",
          "Moderate",
          "Moderate",
          "Moderate",
          "Moderate",
          "Low",
          "Low",
          "Low",
          "Moderate",
          "Moderate",
          "High",
          "High",
          "Moderate",
          "Low",
          "High",
          "Moderate",
          "High",
          "Moderate",
          "Low",
          "Moderate",
          "Moderate",
          "Moderate",
          "Low",
          "High",
          "Moderate",
          "High",
          "High",
          "High",
          "Moderate",
          "Moderate",
          "High",
          "High",
          "High",
          "High",
          "Low",
          "High",
          "Moderate",
          "Moderate",
          "High",
          "Moderate",
          "High",
          "Low",
          "Moderate",
          "Low",
          "Moderate",
          "Low",
          "High",
          "High",
          "High",
          "High",
          "High",
          "High",
          "Low",
          "High",
          "High",
          "Moderate",
          "High",
          "Moderate",
          "High",
          "Low",
          "Low",
          "Moderate",
          "Moderate",
          "Moderate",
          "Moderate",
          "High",
          "High",
          "Low",
          "High",
          "Moderate",
          "Moderate",
          "Low",
          "Moderate",
          "Low",
          "Low",
          "Moderate",
          "Moderate",
          "Low",
          "Moderate",
          "High",
          "High",
          "Moderate",
          "Low",
          "Low",
          "Low",
          "High",
          "High",
          "Moderate",
          "High",
          "Moderate",
          "Moderate",
          "Low",
          "High",
          "Moderate",
          "High",
          "Moderate",
          "Moderate",
          "Moderate",
          "High",
          "High",
          "High",
          "High",
          "Moderate",
          "Moderate",
          "Moderate",
          "Low",
          "High",
          "Moderate",
          "Low",
          "High",
          "Moderate",
          "Low",
          "Low",
          "Low",
          "Low",
          "Low",
          "Low",
          "Moderate",
          "Low",
          "Low",
          "Moderate",
          "Moderate",
          "Low",
          "Low",
          "Low",
          "Moderate",
          "Moderate",
          "Low",
          "Low",
          "Low",
          "High",
          "High",
          "Moderate",
          "Low",
          "Moderate",
          "High",
          "Low",
          "Moderate",
          "High",
          "Moderate",
          "High",
          "Low",
          "High",
          "Moderate",
          "High",
          "High",
          "High",
          "Moderate",
          "High",
          "High",
          "High",
          "Moderate",
          "Moderate",
          "Moderate",
          "Low",
          "Low",
          "Moderate",
          "Low",
          "High",
          "Low",
          "Moderate",
          "Low",
          "High",
          "Low",
          "Moderate",
          "High",
          "High",
          "High",
          "High",
          "Low",
          "Moderate",
          "Low",
          "Low",
          "High",
          "Moderate",
          "Low",
          "Low",
          "Low",
          "Moderate",
          "Low",
          "High",
          "Low",
          "High",
          "High",
          "High",
          "High",
          "High",
          "Low",
          "High",
          "Moderate",
          "Moderate",
          "Moderate",
          "Low",
          "High",
          "Low",
          "Moderate",
          "Low",
          "Moderate",
          "Moderate",
          "Moderate",
          "High",
          "Moderate",
          "Low",
          "High",
          "Moderate",
          "Moderate",
          "Moderate",
          "Low",
          "Low",
          "Low",
          "High",
          "High",
          "Low",
          "Low",
          "High",
          "Moderate",
          "High",
          "Moderate",
          "Moderate",
          "Low",
          "Low",
          "Moderate",
          "Low",
          "Moderate",
          "High",
          "High",
          "Moderate",
          "Low",
          "High",
          "Low",
          "High",
          "Low",
          "Moderate",
          "High",
          "Moderate",
          "Moderate",
          "High",
          "High",
          "Moderate",
          "High",
          "Low",
          "Moderate",
          "High",
          "Moderate",
          "High",
          "High",
          "Low",
          "Moderate",
          "Moderate",
          "High",
          "Low",
          "Low",
          "High",
          "Moderate",
          "Moderate",
          "Low",
          "Moderate",
          "Moderate",
          "High",
          "Low",
          "High",
          "High",
          "Moderate",
          "High",
          "Low",
          "High",
          "High",
          "High",
          "Moderate",
          "Moderate",
          "Low",
          "Low",
          "Moderate",
          "Low",
          "High",
          "Moderate",
          "High",
          "High",
          "Moderate",
          "Moderate",
          "Low",
          "Moderate",
          "High",
          "Moderate",
          "High",
          "Low",
          "Low",
          "Low",
          "Low",
          "Low",
          "High",
          "High",
          "Moderate",
          "Low",
          "Low",
          "Moderate",
          "Low",
          "High",
          "Moderate",
          "High",
          "Low",
          "High",
          "High",
          "High",
          "Moderate",
          "High",
          "Low",
          "High",
          "Low",
          "High",
          "Moderate",
          "High",
          "Low",
          "High",
          "Moderate",
          "High",
          "High",
          "Moderate",
          "High",
          "Low",
          "Low",
          "Low",
          "Low",
          "High",
          "Moderate",
          "Low",
          "Low",
          "Low",
          "Moderate",
          "High",
          "Moderate",
          "Low",
          "Moderate",
          "High",
          "Low",
          "High",
          "Moderate",
          "High",
          "High",
          "Moderate",
          "Moderate",
          "Moderate",
          "Low",
          "Low",
          "Low",
          "Moderate",
          "High",
          "Low",
          "Low",
          "High",
          "Moderate",
          "Moderate",
          "Moderate",
          "High",
          "Low",
          "Low",
          "Low",
          "Low",
          "Low",
          "Moderate",
          "High",
          "Low",
          "Moderate",
          "Moderate",
          "Low",
          "Low",
          "Moderate",
          "Low",
          "Moderate",
          "Low",
          "Low",
          "Moderate",
          "Low",
          "High",
          "Low",
          "Moderate",
          "High",
          "High",
          "Moderate",
          "Low",
          "Low",
          "Low",
          "High",
          "Low",
          "High",
          "Moderate",
          "Moderate",
          "Moderate",
          "High",
          "Low",
          "Low",
          "Low",
          "Moderate",
          "Low",
          "High",
          "Low",
          "Moderate",
          "High",
          "High",
          "High",
          "High",
          "Low",
          "Low",
          "High",
          "Low",
          "Low",
          "Low",
          "Low",
          "High",
          "High",
          "Low",
          "Moderate",
          "Moderate",
          "Moderate",
          "High",
          "High",
          "High",
          "High",
          "High",
          "Low",
          "Low",
          "Moderate",
          "Moderate",
          "Moderate",
          "Moderate",
          "High",
          "Moderate",
          "Moderate",
          "Moderate",
          "Moderate",
          "High",
          "Moderate",
          "Moderate",
          "High",
          "High",
          "Low",
          "Low",
          "Moderate",
          "Low",
          "Moderate",
          "Low",
          "High",
          "High",
          "Low",
          "Moderate",
          "Moderate",
          "High",
          "Moderate",
          "High",
          "High",
          "Low",
          "Moderate",
          "Low",
          "Moderate",
          "High",
          "High",
          "Moderate",
          "Moderate",
          "Low",
          "Moderate",
          "Moderate",
          "High",
          "Moderate",
          "Moderate",
          "Low",
          "High",
          "Moderate",
          "High",
          "Moderate",
          "Low",
          "Low",
          "High",
          "Low",
          "High",
          "Moderate",
          "Moderate",
          "Moderate",
          "Moderate",
          "Low",
          "Moderate",
          "Low",
          "High",
          "High",
          "High",
          "Low",
          "Moderate",
          "Moderate",
          "Moderate",
          "Moderate",
          "Low",
          "Low",
          "High",
          "High",
          "High",
          "High",
          "Low",
          "Low",
          "Low",
          "Moderate",
          "High",
          "Moderate",
          "Low",
          "High",
          "High",
          "Moderate",
          "Moderate",
          "High",
          "Moderate",
          "Moderate",
          "Moderate"
         ],
         "xaxis": "x",
         "yaxis": "y"
        },
        {
         "alignmentgroup": "True",
         "bingroup": "x",
         "hovertemplate": "Divorce Status=Yes<br>Family Involvement=%{x}<br>count=%{y}<extra></extra>",
         "legendgroup": "Yes",
         "marker": {
          "color": "#EF553B",
          "pattern": {
           "shape": ""
          }
         },
         "name": "Yes",
         "offsetgroup": "Yes",
         "orientation": "v",
         "showlegend": true,
         "texttemplate": "%{value}",
         "type": "histogram",
         "x": [
          "Moderate",
          "Moderate",
          "High",
          "High",
          "High",
          "High",
          "Low",
          "High",
          "High",
          "Low",
          "Low",
          "Moderate",
          "High",
          "Moderate",
          "High",
          "High",
          "Low",
          "High",
          "Low",
          "Low",
          "High",
          "Low",
          "Moderate",
          "Low",
          "Moderate",
          "High",
          "High",
          "Moderate",
          "High",
          "Low",
          "Low",
          "Low",
          "Low",
          "High",
          "Moderate",
          "Low",
          "High",
          "Moderate",
          "Low",
          "High",
          "Low",
          "Moderate",
          "Low",
          "High",
          "High",
          "High",
          "Low",
          "High",
          "High",
          "Low",
          "Low",
          "Low",
          "Moderate",
          "Low",
          "Low",
          "Low",
          "Low",
          "Moderate",
          "Low",
          "Low",
          "Moderate",
          "Low",
          "Moderate",
          "Moderate",
          "Low",
          "High",
          "Moderate",
          "Moderate",
          "Moderate",
          "High",
          "Low",
          "Low",
          "Moderate",
          "High",
          "Low",
          "Moderate",
          "Moderate",
          "Low",
          "High",
          "Low",
          "Moderate",
          "Low",
          "High",
          "Moderate",
          "High",
          "Moderate",
          "Low",
          "Moderate",
          "Moderate",
          "Low",
          "Moderate",
          "Moderate",
          "Low",
          "Moderate",
          "Moderate",
          "High",
          "High",
          "High",
          "Low",
          "High",
          "Moderate",
          "High",
          "Low",
          "Moderate",
          "Low",
          "Moderate",
          "Moderate",
          "High",
          "Moderate",
          "High",
          "Low",
          "Moderate",
          "Moderate",
          "High",
          "Moderate",
          "Moderate",
          "Low",
          "Moderate",
          "High",
          "High",
          "High",
          "Moderate",
          "High",
          "Low",
          "Moderate",
          "High",
          "Low",
          "Moderate",
          "High",
          "Low",
          "Moderate",
          "Moderate",
          "Low",
          "High",
          "Moderate",
          "Moderate",
          "Moderate",
          "Low",
          "Moderate",
          "High",
          "Moderate",
          "High",
          "High",
          "Moderate",
          "Moderate",
          "Low",
          "High",
          "Low",
          "High",
          "Moderate",
          "Moderate",
          "Low",
          "Low",
          "High",
          "High",
          "Low",
          "Moderate",
          "High",
          "High",
          "High",
          "Moderate",
          "Low",
          "High",
          "High",
          "Moderate",
          "Low",
          "Moderate",
          "Low",
          "High",
          "High",
          "Moderate",
          "High",
          "Moderate",
          "Low",
          "Moderate",
          "High",
          "High",
          "High",
          "Low",
          "Moderate",
          "Low",
          "High",
          "High",
          "Low",
          "High",
          "Low",
          "Moderate",
          "Low",
          "Moderate",
          "Moderate",
          "High",
          "Low",
          "Moderate",
          "Low",
          "High",
          "High",
          "Low",
          "Moderate",
          "Low",
          "High",
          "Low",
          "High",
          "Low",
          "Low",
          "Low",
          "High",
          "Moderate",
          "Moderate",
          "Low",
          "Moderate",
          "Low",
          "Moderate",
          "Low",
          "High",
          "Low",
          "Low",
          "High",
          "High",
          "High",
          "Low",
          "High",
          "Low",
          "High",
          "Low",
          "High",
          "High",
          "Low",
          "High",
          "Moderate",
          "Low",
          "High",
          "High",
          "Moderate",
          "Moderate",
          "Low",
          "High",
          "Low",
          "Low",
          "Moderate",
          "Low",
          "High",
          "Moderate",
          "Low",
          "High",
          "High",
          "Moderate",
          "Moderate",
          "High",
          "High",
          "Moderate",
          "Moderate",
          "Moderate",
          "Moderate",
          "Moderate",
          "Low",
          "Moderate",
          "Low",
          "Moderate",
          "Moderate",
          "Low",
          "High",
          "Moderate",
          "Moderate",
          "Moderate",
          "Moderate",
          "Moderate",
          "High",
          "Moderate",
          "High",
          "Low",
          "High",
          "Moderate",
          "Moderate",
          "Moderate",
          "High",
          "Low",
          "Moderate",
          "High",
          "High",
          "Low",
          "High",
          "High",
          "High",
          "Low",
          "Low",
          "High",
          "High",
          "Low",
          "Low",
          "High",
          "Low",
          "Moderate",
          "High",
          "High",
          "Low",
          "Moderate",
          "High",
          "Low",
          "Low",
          "High",
          "Moderate",
          "High",
          "High",
          "Low",
          "High",
          "Low",
          "Low",
          "Low",
          "High",
          "Low",
          "High",
          "Moderate",
          "High",
          "High",
          "Low",
          "Low",
          "Low",
          "High",
          "Moderate",
          "Moderate",
          "Low",
          "Low",
          "Moderate",
          "Moderate",
          "Low",
          "High",
          "Moderate",
          "Moderate",
          "Moderate",
          "Low",
          "Moderate",
          "High",
          "High",
          "Moderate",
          "Low",
          "Moderate",
          "Moderate",
          "Low",
          "Low",
          "Moderate",
          "Low",
          "Low",
          "Low",
          "High",
          "Low",
          "Moderate",
          "High",
          "Moderate",
          "Low",
          "Moderate",
          "High",
          "High",
          "Low",
          "Moderate",
          "High",
          "High",
          "High",
          "High",
          "High",
          "Moderate",
          "High",
          "Moderate",
          "Moderate",
          "High",
          "Moderate",
          "Low",
          "Low",
          "Low",
          "Low",
          "Moderate",
          "Moderate",
          "Moderate",
          "High",
          "Moderate"
         ],
         "xaxis": "x",
         "yaxis": "y"
        }
       ],
       "layout": {
        "barmode": "relative",
        "legend": {
         "title": {
          "text": "Divorce Status"
         },
         "tracegroupgap": 0
        },
        "margin": {
         "t": 60
        },
        "template": {
         "data": {
          "bar": [
           {
            "error_x": {
             "color": "#2a3f5f"
            },
            "error_y": {
             "color": "#2a3f5f"
            },
            "marker": {
             "line": {
              "color": "#E5ECF6",
              "width": 0.5
             },
             "pattern": {
              "fillmode": "overlay",
              "size": 10,
              "solidity": 0.2
             }
            },
            "type": "bar"
           }
          ],
          "barpolar": [
           {
            "marker": {
             "line": {
              "color": "#E5ECF6",
              "width": 0.5
             },
             "pattern": {
              "fillmode": "overlay",
              "size": 10,
              "solidity": 0.2
             }
            },
            "type": "barpolar"
           }
          ],
          "carpet": [
           {
            "aaxis": {
             "endlinecolor": "#2a3f5f",
             "gridcolor": "white",
             "linecolor": "white",
             "minorgridcolor": "white",
             "startlinecolor": "#2a3f5f"
            },
            "baxis": {
             "endlinecolor": "#2a3f5f",
             "gridcolor": "white",
             "linecolor": "white",
             "minorgridcolor": "white",
             "startlinecolor": "#2a3f5f"
            },
            "type": "carpet"
           }
          ],
          "choropleth": [
           {
            "colorbar": {
             "outlinewidth": 0,
             "ticks": ""
            },
            "type": "choropleth"
           }
          ],
          "contour": [
           {
            "colorbar": {
             "outlinewidth": 0,
             "ticks": ""
            },
            "colorscale": [
             [
              0,
              "#0d0887"
             ],
             [
              0.1111111111111111,
              "#46039f"
             ],
             [
              0.2222222222222222,
              "#7201a8"
             ],
             [
              0.3333333333333333,
              "#9c179e"
             ],
             [
              0.4444444444444444,
              "#bd3786"
             ],
             [
              0.5555555555555556,
              "#d8576b"
             ],
             [
              0.6666666666666666,
              "#ed7953"
             ],
             [
              0.7777777777777778,
              "#fb9f3a"
             ],
             [
              0.8888888888888888,
              "#fdca26"
             ],
             [
              1,
              "#f0f921"
             ]
            ],
            "type": "contour"
           }
          ],
          "contourcarpet": [
           {
            "colorbar": {
             "outlinewidth": 0,
             "ticks": ""
            },
            "type": "contourcarpet"
           }
          ],
          "heatmap": [
           {
            "colorbar": {
             "outlinewidth": 0,
             "ticks": ""
            },
            "colorscale": [
             [
              0,
              "#0d0887"
             ],
             [
              0.1111111111111111,
              "#46039f"
             ],
             [
              0.2222222222222222,
              "#7201a8"
             ],
             [
              0.3333333333333333,
              "#9c179e"
             ],
             [
              0.4444444444444444,
              "#bd3786"
             ],
             [
              0.5555555555555556,
              "#d8576b"
             ],
             [
              0.6666666666666666,
              "#ed7953"
             ],
             [
              0.7777777777777778,
              "#fb9f3a"
             ],
             [
              0.8888888888888888,
              "#fdca26"
             ],
             [
              1,
              "#f0f921"
             ]
            ],
            "type": "heatmap"
           }
          ],
          "heatmapgl": [
           {
            "colorbar": {
             "outlinewidth": 0,
             "ticks": ""
            },
            "colorscale": [
             [
              0,
              "#0d0887"
             ],
             [
              0.1111111111111111,
              "#46039f"
             ],
             [
              0.2222222222222222,
              "#7201a8"
             ],
             [
              0.3333333333333333,
              "#9c179e"
             ],
             [
              0.4444444444444444,
              "#bd3786"
             ],
             [
              0.5555555555555556,
              "#d8576b"
             ],
             [
              0.6666666666666666,
              "#ed7953"
             ],
             [
              0.7777777777777778,
              "#fb9f3a"
             ],
             [
              0.8888888888888888,
              "#fdca26"
             ],
             [
              1,
              "#f0f921"
             ]
            ],
            "type": "heatmapgl"
           }
          ],
          "histogram": [
           {
            "marker": {
             "pattern": {
              "fillmode": "overlay",
              "size": 10,
              "solidity": 0.2
             }
            },
            "type": "histogram"
           }
          ],
          "histogram2d": [
           {
            "colorbar": {
             "outlinewidth": 0,
             "ticks": ""
            },
            "colorscale": [
             [
              0,
              "#0d0887"
             ],
             [
              0.1111111111111111,
              "#46039f"
             ],
             [
              0.2222222222222222,
              "#7201a8"
             ],
             [
              0.3333333333333333,
              "#9c179e"
             ],
             [
              0.4444444444444444,
              "#bd3786"
             ],
             [
              0.5555555555555556,
              "#d8576b"
             ],
             [
              0.6666666666666666,
              "#ed7953"
             ],
             [
              0.7777777777777778,
              "#fb9f3a"
             ],
             [
              0.8888888888888888,
              "#fdca26"
             ],
             [
              1,
              "#f0f921"
             ]
            ],
            "type": "histogram2d"
           }
          ],
          "histogram2dcontour": [
           {
            "colorbar": {
             "outlinewidth": 0,
             "ticks": ""
            },
            "colorscale": [
             [
              0,
              "#0d0887"
             ],
             [
              0.1111111111111111,
              "#46039f"
             ],
             [
              0.2222222222222222,
              "#7201a8"
             ],
             [
              0.3333333333333333,
              "#9c179e"
             ],
             [
              0.4444444444444444,
              "#bd3786"
             ],
             [
              0.5555555555555556,
              "#d8576b"
             ],
             [
              0.6666666666666666,
              "#ed7953"
             ],
             [
              0.7777777777777778,
              "#fb9f3a"
             ],
             [
              0.8888888888888888,
              "#fdca26"
             ],
             [
              1,
              "#f0f921"
             ]
            ],
            "type": "histogram2dcontour"
           }
          ],
          "mesh3d": [
           {
            "colorbar": {
             "outlinewidth": 0,
             "ticks": ""
            },
            "type": "mesh3d"
           }
          ],
          "parcoords": [
           {
            "line": {
             "colorbar": {
              "outlinewidth": 0,
              "ticks": ""
             }
            },
            "type": "parcoords"
           }
          ],
          "pie": [
           {
            "automargin": true,
            "type": "pie"
           }
          ],
          "scatter": [
           {
            "fillpattern": {
             "fillmode": "overlay",
             "size": 10,
             "solidity": 0.2
            },
            "type": "scatter"
           }
          ],
          "scatter3d": [
           {
            "line": {
             "colorbar": {
              "outlinewidth": 0,
              "ticks": ""
             }
            },
            "marker": {
             "colorbar": {
              "outlinewidth": 0,
              "ticks": ""
             }
            },
            "type": "scatter3d"
           }
          ],
          "scattercarpet": [
           {
            "marker": {
             "colorbar": {
              "outlinewidth": 0,
              "ticks": ""
             }
            },
            "type": "scattercarpet"
           }
          ],
          "scattergeo": [
           {
            "marker": {
             "colorbar": {
              "outlinewidth": 0,
              "ticks": ""
             }
            },
            "type": "scattergeo"
           }
          ],
          "scattergl": [
           {
            "marker": {
             "colorbar": {
              "outlinewidth": 0,
              "ticks": ""
             }
            },
            "type": "scattergl"
           }
          ],
          "scattermapbox": [
           {
            "marker": {
             "colorbar": {
              "outlinewidth": 0,
              "ticks": ""
             }
            },
            "type": "scattermapbox"
           }
          ],
          "scatterpolar": [
           {
            "marker": {
             "colorbar": {
              "outlinewidth": 0,
              "ticks": ""
             }
            },
            "type": "scatterpolar"
           }
          ],
          "scatterpolargl": [
           {
            "marker": {
             "colorbar": {
              "outlinewidth": 0,
              "ticks": ""
             }
            },
            "type": "scatterpolargl"
           }
          ],
          "scatterternary": [
           {
            "marker": {
             "colorbar": {
              "outlinewidth": 0,
              "ticks": ""
             }
            },
            "type": "scatterternary"
           }
          ],
          "surface": [
           {
            "colorbar": {
             "outlinewidth": 0,
             "ticks": ""
            },
            "colorscale": [
             [
              0,
              "#0d0887"
             ],
             [
              0.1111111111111111,
              "#46039f"
             ],
             [
              0.2222222222222222,
              "#7201a8"
             ],
             [
              0.3333333333333333,
              "#9c179e"
             ],
             [
              0.4444444444444444,
              "#bd3786"
             ],
             [
              0.5555555555555556,
              "#d8576b"
             ],
             [
              0.6666666666666666,
              "#ed7953"
             ],
             [
              0.7777777777777778,
              "#fb9f3a"
             ],
             [
              0.8888888888888888,
              "#fdca26"
             ],
             [
              1,
              "#f0f921"
             ]
            ],
            "type": "surface"
           }
          ],
          "table": [
           {
            "cells": {
             "fill": {
              "color": "#EBF0F8"
             },
             "line": {
              "color": "white"
             }
            },
            "header": {
             "fill": {
              "color": "#C8D4E3"
             },
             "line": {
              "color": "white"
             }
            },
            "type": "table"
           }
          ]
         },
         "layout": {
          "annotationdefaults": {
           "arrowcolor": "#2a3f5f",
           "arrowhead": 0,
           "arrowwidth": 1
          },
          "autotypenumbers": "strict",
          "coloraxis": {
           "colorbar": {
            "outlinewidth": 0,
            "ticks": ""
           }
          },
          "colorscale": {
           "diverging": [
            [
             0,
             "#8e0152"
            ],
            [
             0.1,
             "#c51b7d"
            ],
            [
             0.2,
             "#de77ae"
            ],
            [
             0.3,
             "#f1b6da"
            ],
            [
             0.4,
             "#fde0ef"
            ],
            [
             0.5,
             "#f7f7f7"
            ],
            [
             0.6,
             "#e6f5d0"
            ],
            [
             0.7,
             "#b8e186"
            ],
            [
             0.8,
             "#7fbc41"
            ],
            [
             0.9,
             "#4d9221"
            ],
            [
             1,
             "#276419"
            ]
           ],
           "sequential": [
            [
             0,
             "#0d0887"
            ],
            [
             0.1111111111111111,
             "#46039f"
            ],
            [
             0.2222222222222222,
             "#7201a8"
            ],
            [
             0.3333333333333333,
             "#9c179e"
            ],
            [
             0.4444444444444444,
             "#bd3786"
            ],
            [
             0.5555555555555556,
             "#d8576b"
            ],
            [
             0.6666666666666666,
             "#ed7953"
            ],
            [
             0.7777777777777778,
             "#fb9f3a"
            ],
            [
             0.8888888888888888,
             "#fdca26"
            ],
            [
             1,
             "#f0f921"
            ]
           ],
           "sequentialminus": [
            [
             0,
             "#0d0887"
            ],
            [
             0.1111111111111111,
             "#46039f"
            ],
            [
             0.2222222222222222,
             "#7201a8"
            ],
            [
             0.3333333333333333,
             "#9c179e"
            ],
            [
             0.4444444444444444,
             "#bd3786"
            ],
            [
             0.5555555555555556,
             "#d8576b"
            ],
            [
             0.6666666666666666,
             "#ed7953"
            ],
            [
             0.7777777777777778,
             "#fb9f3a"
            ],
            [
             0.8888888888888888,
             "#fdca26"
            ],
            [
             1,
             "#f0f921"
            ]
           ]
          },
          "colorway": [
           "#636efa",
           "#EF553B",
           "#00cc96",
           "#ab63fa",
           "#FFA15A",
           "#19d3f3",
           "#FF6692",
           "#B6E880",
           "#FF97FF",
           "#FECB52"
          ],
          "font": {
           "color": "#2a3f5f"
          },
          "geo": {
           "bgcolor": "white",
           "lakecolor": "white",
           "landcolor": "#E5ECF6",
           "showlakes": true,
           "showland": true,
           "subunitcolor": "white"
          },
          "hoverlabel": {
           "align": "left"
          },
          "hovermode": "closest",
          "mapbox": {
           "style": "light"
          },
          "paper_bgcolor": "white",
          "plot_bgcolor": "#E5ECF6",
          "polar": {
           "angularaxis": {
            "gridcolor": "white",
            "linecolor": "white",
            "ticks": ""
           },
           "bgcolor": "#E5ECF6",
           "radialaxis": {
            "gridcolor": "white",
            "linecolor": "white",
            "ticks": ""
           }
          },
          "scene": {
           "xaxis": {
            "backgroundcolor": "#E5ECF6",
            "gridcolor": "white",
            "gridwidth": 2,
            "linecolor": "white",
            "showbackground": true,
            "ticks": "",
            "zerolinecolor": "white"
           },
           "yaxis": {
            "backgroundcolor": "#E5ECF6",
            "gridcolor": "white",
            "gridwidth": 2,
            "linecolor": "white",
            "showbackground": true,
            "ticks": "",
            "zerolinecolor": "white"
           },
           "zaxis": {
            "backgroundcolor": "#E5ECF6",
            "gridcolor": "white",
            "gridwidth": 2,
            "linecolor": "white",
            "showbackground": true,
            "ticks": "",
            "zerolinecolor": "white"
           }
          },
          "shapedefaults": {
           "line": {
            "color": "#2a3f5f"
           }
          },
          "ternary": {
           "aaxis": {
            "gridcolor": "white",
            "linecolor": "white",
            "ticks": ""
           },
           "baxis": {
            "gridcolor": "white",
            "linecolor": "white",
            "ticks": ""
           },
           "bgcolor": "#E5ECF6",
           "caxis": {
            "gridcolor": "white",
            "linecolor": "white",
            "ticks": ""
           }
          },
          "title": {
           "x": 0.05
          },
          "xaxis": {
           "automargin": true,
           "gridcolor": "white",
           "linecolor": "white",
           "ticks": "",
           "title": {
            "standoff": 15
           },
           "zerolinecolor": "white",
           "zerolinewidth": 2
          },
          "yaxis": {
           "automargin": true,
           "gridcolor": "white",
           "linecolor": "white",
           "ticks": "",
           "title": {
            "standoff": 15
           },
           "zerolinecolor": "white",
           "zerolinewidth": 2
          }
         }
        },
        "xaxis": {
         "anchor": "y",
         "domain": [
          0,
          1
         ],
         "title": {
          "text": "Family Involvement"
         }
        },
        "yaxis": {
         "anchor": "x",
         "domain": [
          0,
          1
         ],
         "title": {
          "text": "count"
         }
        }
       }
      }
     },
     "metadata": {},
     "output_type": "display_data"
    },
    {
     "data": {
      "application/vnd.plotly.v1+json": {
       "config": {
        "plotlyServerURL": "https://plot.ly"
       },
       "data": [
        {
         "alignmentgroup": "True",
         "bingroup": "x",
         "hovertemplate": "Divorce Status=No<br>Children=%{x}<br>count=%{y}<extra></extra>",
         "legendgroup": "No",
         "marker": {
          "color": "#636efa",
          "pattern": {
           "shape": ""
          }
         },
         "name": "No",
         "offsetgroup": "No",
         "orientation": "v",
         "showlegend": true,
         "texttemplate": "%{value}",
         "type": "histogram",
         "x": [
          2,
          1,
          0,
          3,
          1,
          0,
          0,
          3,
          4,
          2,
          3,
          4,
          0,
          3,
          1,
          0,
          2,
          4,
          2,
          4,
          1,
          4,
          0,
          3,
          2,
          0,
          1,
          4,
          3,
          4,
          4,
          1,
          4,
          2,
          0,
          2,
          3,
          2,
          0,
          0,
          4,
          0,
          3,
          2,
          4,
          0,
          1,
          0,
          3,
          0,
          2,
          0,
          1,
          0,
          3,
          4,
          0,
          0,
          2,
          3,
          4,
          1,
          0,
          1,
          3,
          4,
          3,
          3,
          3,
          2,
          1,
          4,
          1,
          1,
          1,
          4,
          0,
          3,
          3,
          3,
          1,
          3,
          0,
          1,
          1,
          3,
          0,
          4,
          0,
          4,
          0,
          1,
          4,
          3,
          2,
          2,
          0,
          4,
          4,
          2,
          1,
          4,
          0,
          3,
          0,
          1,
          4,
          3,
          1,
          0,
          0,
          3,
          1,
          2,
          1,
          1,
          1,
          1,
          3,
          4,
          1,
          4,
          4,
          3,
          1,
          4,
          1,
          2,
          2,
          2,
          2,
          3,
          0,
          1,
          1,
          1,
          1,
          2,
          1,
          3,
          4,
          1,
          0,
          2,
          2,
          0,
          2,
          2,
          0,
          2,
          1,
          0,
          3,
          4,
          0,
          1,
          0,
          3,
          4,
          2,
          0,
          4,
          4,
          1,
          0,
          1,
          4,
          0,
          0,
          1,
          3,
          2,
          1,
          3,
          4,
          0,
          2,
          2,
          0,
          2,
          1,
          3,
          0,
          1,
          1,
          0,
          4,
          2,
          2,
          3,
          0,
          0,
          0,
          3,
          4,
          2,
          2,
          4,
          2,
          3,
          3,
          3,
          3,
          2,
          4,
          3,
          3,
          3,
          3,
          4,
          0,
          3,
          3,
          0,
          1,
          4,
          3,
          1,
          2,
          1,
          3,
          4,
          1,
          1,
          3,
          0,
          4,
          0,
          2,
          3,
          2,
          3,
          3,
          2,
          4,
          0,
          0,
          2,
          0,
          2,
          1,
          0,
          4,
          3,
          1,
          3,
          2,
          4,
          0,
          0,
          2,
          3,
          0,
          0,
          0,
          4,
          0,
          4,
          3,
          0,
          2,
          3,
          1,
          1,
          2,
          1,
          0,
          2,
          2,
          2,
          0,
          4,
          2,
          4,
          2,
          3,
          4,
          2,
          1,
          4,
          0,
          4,
          2,
          3,
          0,
          2,
          0,
          2,
          3,
          0,
          3,
          2,
          1,
          3,
          3,
          4,
          3,
          2,
          1,
          3,
          4,
          0,
          3,
          4,
          0,
          0,
          2,
          0,
          0,
          2,
          4,
          0,
          2,
          2,
          0,
          1,
          0,
          0,
          1,
          0,
          4,
          2,
          1,
          2,
          0,
          3,
          4,
          1,
          4,
          3,
          0,
          3,
          3,
          1,
          3,
          2,
          2,
          2,
          1,
          0,
          2,
          0,
          3,
          3,
          0,
          0,
          1,
          4,
          4,
          1,
          3,
          4,
          1,
          3,
          1,
          0,
          1,
          3,
          2,
          1,
          2,
          4,
          3,
          3,
          0,
          4,
          4,
          4,
          3,
          2,
          1,
          0,
          0,
          1,
          1,
          1,
          1,
          1,
          0,
          4,
          0,
          0,
          4,
          1,
          2,
          2,
          0,
          4,
          1,
          0,
          2,
          4,
          4,
          3,
          2,
          3,
          1,
          1,
          1,
          1,
          2,
          4,
          2,
          3,
          1,
          2,
          3,
          2,
          2,
          4,
          2,
          1,
          2,
          4,
          3,
          1,
          3,
          3,
          4,
          0,
          3,
          3,
          4,
          4,
          1,
          0,
          1,
          0,
          0,
          0,
          1,
          2,
          2,
          1,
          0,
          4,
          2,
          3,
          4,
          1,
          2,
          1,
          0,
          0,
          2,
          4,
          2,
          3,
          1,
          0,
          2,
          4,
          0,
          3,
          2,
          3,
          4,
          1,
          3,
          4,
          0,
          1,
          3,
          4,
          1,
          3,
          0,
          2,
          1,
          0,
          1,
          3,
          1,
          4,
          2,
          0,
          4,
          0,
          0,
          2,
          1,
          2,
          1,
          2,
          0,
          3,
          1,
          4,
          4,
          0,
          2,
          0,
          2,
          1,
          4,
          1,
          1,
          1,
          3,
          4,
          0,
          0,
          4,
          2,
          3,
          0,
          4,
          0,
          0,
          0,
          0,
          0,
          3,
          4,
          0,
          0,
          0,
          1,
          1,
          0,
          2,
          1,
          0,
          0,
          3,
          3,
          0,
          0,
          3,
          2,
          0,
          1,
          3,
          0,
          3,
          4,
          0,
          0,
          3,
          0,
          4,
          2,
          2,
          4,
          2,
          3,
          0,
          2,
          4,
          2,
          4,
          4,
          3,
          2,
          3,
          0,
          2,
          3,
          0,
          4,
          2,
          2,
          0,
          3,
          1,
          0,
          2,
          1,
          0,
          1,
          1,
          3,
          0,
          2,
          4,
          0,
          4,
          4,
          0,
          4,
          2,
          4,
          2,
          1,
          2,
          2,
          3,
          4,
          2,
          0,
          4,
          1,
          1,
          1,
          2,
          0,
          3,
          2,
          2,
          0,
          2,
          1,
          2,
          0,
          0,
          0,
          3,
          4,
          2,
          3,
          2,
          3,
          1,
          0,
          0,
          1,
          3,
          4,
          3,
          2,
          3,
          2,
          3,
          3,
          3,
          1,
          3,
          3,
          2,
          4,
          3,
          0,
          3,
          1,
          1,
          0,
          2,
          4,
          1,
          3,
          0,
          2,
          2,
          2,
          4,
          0,
          0,
          3,
          4,
          4,
          1,
          1,
          0,
          0,
          2,
          4,
          3,
          4,
          4,
          4,
          1,
          0,
          1,
          2,
          3,
          2,
          0,
          3,
          4,
          2,
          0,
          0,
          0,
          3,
          0,
          3,
          2,
          0,
          4,
          4,
          3,
          1,
          1,
          0,
          2,
          3,
          0,
          2,
          4,
          4,
          0,
          1,
          0,
          4,
          4,
          3,
          4,
          1,
          4,
          0,
          4,
          3,
          3,
          1,
          4,
          1,
          1,
          1,
          0,
          3,
          1,
          0,
          0,
          3,
          4,
          4,
          1,
          1,
          1,
          0,
          2,
          3,
          2,
          1,
          0,
          1,
          1,
          4,
          2,
          1,
          0,
          0,
          4,
          1,
          4,
          0,
          3,
          1,
          4,
          0,
          2,
          3,
          1,
          4,
          3,
          2,
          2,
          1,
          1,
          3,
          4,
          0,
          0,
          2,
          4,
          3,
          1,
          2,
          4,
          0,
          3,
          2,
          3,
          3,
          3,
          2,
          3,
          2,
          3,
          2,
          4,
          0,
          0,
          0,
          2,
          0,
          4,
          1,
          4,
          0,
          0,
          3,
          4,
          1,
          0,
          1,
          0,
          2,
          4,
          2,
          1,
          0,
          4,
          2,
          1,
          1,
          4,
          0,
          1,
          4,
          0,
          2,
          4,
          0,
          3,
          4,
          3,
          0,
          4,
          2,
          0,
          4,
          4,
          3,
          0,
          2,
          0,
          0,
          1,
          3,
          1,
          1,
          4,
          2,
          4,
          0
         ],
         "xaxis": "x",
         "yaxis": "y"
        },
        {
         "alignmentgroup": "True",
         "bingroup": "x",
         "hovertemplate": "Divorce Status=Yes<br>Children=%{x}<br>count=%{y}<extra></extra>",
         "legendgroup": "Yes",
         "marker": {
          "color": "#EF553B",
          "pattern": {
           "shape": ""
          }
         },
         "name": "Yes",
         "offsetgroup": "Yes",
         "orientation": "v",
         "showlegend": true,
         "texttemplate": "%{value}",
         "type": "histogram",
         "x": [
          0,
          4,
          1,
          1,
          2,
          0,
          0,
          3,
          3,
          0,
          1,
          2,
          2,
          4,
          0,
          4,
          0,
          4,
          1,
          3,
          1,
          3,
          0,
          1,
          1,
          0,
          4,
          1,
          1,
          0,
          4,
          3,
          1,
          4,
          3,
          4,
          1,
          0,
          4,
          0,
          1,
          4,
          4,
          0,
          3,
          2,
          0,
          2,
          1,
          4,
          0,
          1,
          2,
          0,
          3,
          2,
          1,
          1,
          0,
          4,
          3,
          4,
          1,
          0,
          4,
          3,
          4,
          4,
          0,
          1,
          1,
          1,
          2,
          1,
          3,
          0,
          2,
          1,
          4,
          4,
          1,
          1,
          1,
          2,
          3,
          3,
          2,
          4,
          3,
          2,
          2,
          4,
          4,
          1,
          2,
          0,
          4,
          4,
          4,
          1,
          0,
          0,
          4,
          0,
          2,
          1,
          4,
          2,
          3,
          3,
          0,
          3,
          1,
          0,
          1,
          4,
          4,
          0,
          0,
          0,
          0,
          4,
          3,
          0,
          1,
          0,
          1,
          2,
          3,
          2,
          3,
          0,
          1,
          4,
          4,
          3,
          0,
          0,
          3,
          3,
          2,
          1,
          0,
          3,
          0,
          0,
          4,
          1,
          1,
          1,
          3,
          2,
          1,
          1,
          3,
          0,
          0,
          1,
          0,
          4,
          4,
          3,
          3,
          0,
          3,
          1,
          4,
          4,
          4,
          3,
          1,
          3,
          1,
          0,
          2,
          2,
          3,
          0,
          0,
          4,
          2,
          2,
          3,
          0,
          4,
          3,
          3,
          4,
          2,
          0,
          4,
          4,
          1,
          1,
          2,
          4,
          3,
          2,
          0,
          0,
          2,
          1,
          1,
          0,
          4,
          3,
          2,
          0,
          0,
          4,
          2,
          0,
          1,
          2,
          0,
          3,
          0,
          2,
          3,
          2,
          1,
          3,
          2,
          4,
          4,
          3,
          1,
          1,
          3,
          1,
          0,
          4,
          0,
          0,
          1,
          0,
          2,
          3,
          2,
          4,
          1,
          4,
          3,
          3,
          1,
          2,
          1,
          4,
          1,
          0,
          2,
          1,
          0,
          3,
          1,
          1,
          4,
          1,
          3,
          2,
          0,
          4,
          2,
          2,
          4,
          2,
          4,
          3,
          4,
          3,
          3,
          1,
          1,
          3,
          1,
          4,
          0,
          0,
          2,
          4,
          1,
          2,
          0,
          4,
          4,
          1,
          2,
          0,
          4,
          4,
          1,
          2,
          4,
          0,
          1,
          4,
          4,
          2,
          1,
          2,
          4,
          3,
          1,
          2,
          0,
          2,
          2,
          0,
          4,
          2,
          0,
          4,
          0,
          4,
          0,
          0,
          4,
          2,
          1,
          1,
          3,
          2,
          4,
          3,
          0,
          4,
          3,
          4,
          0,
          0,
          3,
          1,
          3,
          0,
          2,
          1,
          2,
          2,
          0,
          4,
          0,
          0,
          0,
          1,
          0,
          1,
          0,
          3,
          0,
          3,
          0,
          4,
          4,
          0,
          1,
          2,
          3,
          0,
          1,
          4,
          2,
          0,
          3,
          0,
          2,
          0,
          2,
          1,
          0,
          2,
          2,
          0,
          0,
          3
         ],
         "xaxis": "x",
         "yaxis": "y"
        }
       ],
       "layout": {
        "barmode": "relative",
        "legend": {
         "title": {
          "text": "Divorce Status"
         },
         "tracegroupgap": 0
        },
        "margin": {
         "t": 60
        },
        "template": {
         "data": {
          "bar": [
           {
            "error_x": {
             "color": "#2a3f5f"
            },
            "error_y": {
             "color": "#2a3f5f"
            },
            "marker": {
             "line": {
              "color": "#E5ECF6",
              "width": 0.5
             },
             "pattern": {
              "fillmode": "overlay",
              "size": 10,
              "solidity": 0.2
             }
            },
            "type": "bar"
           }
          ],
          "barpolar": [
           {
            "marker": {
             "line": {
              "color": "#E5ECF6",
              "width": 0.5
             },
             "pattern": {
              "fillmode": "overlay",
              "size": 10,
              "solidity": 0.2
             }
            },
            "type": "barpolar"
           }
          ],
          "carpet": [
           {
            "aaxis": {
             "endlinecolor": "#2a3f5f",
             "gridcolor": "white",
             "linecolor": "white",
             "minorgridcolor": "white",
             "startlinecolor": "#2a3f5f"
            },
            "baxis": {
             "endlinecolor": "#2a3f5f",
             "gridcolor": "white",
             "linecolor": "white",
             "minorgridcolor": "white",
             "startlinecolor": "#2a3f5f"
            },
            "type": "carpet"
           }
          ],
          "choropleth": [
           {
            "colorbar": {
             "outlinewidth": 0,
             "ticks": ""
            },
            "type": "choropleth"
           }
          ],
          "contour": [
           {
            "colorbar": {
             "outlinewidth": 0,
             "ticks": ""
            },
            "colorscale": [
             [
              0,
              "#0d0887"
             ],
             [
              0.1111111111111111,
              "#46039f"
             ],
             [
              0.2222222222222222,
              "#7201a8"
             ],
             [
              0.3333333333333333,
              "#9c179e"
             ],
             [
              0.4444444444444444,
              "#bd3786"
             ],
             [
              0.5555555555555556,
              "#d8576b"
             ],
             [
              0.6666666666666666,
              "#ed7953"
             ],
             [
              0.7777777777777778,
              "#fb9f3a"
             ],
             [
              0.8888888888888888,
              "#fdca26"
             ],
             [
              1,
              "#f0f921"
             ]
            ],
            "type": "contour"
           }
          ],
          "contourcarpet": [
           {
            "colorbar": {
             "outlinewidth": 0,
             "ticks": ""
            },
            "type": "contourcarpet"
           }
          ],
          "heatmap": [
           {
            "colorbar": {
             "outlinewidth": 0,
             "ticks": ""
            },
            "colorscale": [
             [
              0,
              "#0d0887"
             ],
             [
              0.1111111111111111,
              "#46039f"
             ],
             [
              0.2222222222222222,
              "#7201a8"
             ],
             [
              0.3333333333333333,
              "#9c179e"
             ],
             [
              0.4444444444444444,
              "#bd3786"
             ],
             [
              0.5555555555555556,
              "#d8576b"
             ],
             [
              0.6666666666666666,
              "#ed7953"
             ],
             [
              0.7777777777777778,
              "#fb9f3a"
             ],
             [
              0.8888888888888888,
              "#fdca26"
             ],
             [
              1,
              "#f0f921"
             ]
            ],
            "type": "heatmap"
           }
          ],
          "heatmapgl": [
           {
            "colorbar": {
             "outlinewidth": 0,
             "ticks": ""
            },
            "colorscale": [
             [
              0,
              "#0d0887"
             ],
             [
              0.1111111111111111,
              "#46039f"
             ],
             [
              0.2222222222222222,
              "#7201a8"
             ],
             [
              0.3333333333333333,
              "#9c179e"
             ],
             [
              0.4444444444444444,
              "#bd3786"
             ],
             [
              0.5555555555555556,
              "#d8576b"
             ],
             [
              0.6666666666666666,
              "#ed7953"
             ],
             [
              0.7777777777777778,
              "#fb9f3a"
             ],
             [
              0.8888888888888888,
              "#fdca26"
             ],
             [
              1,
              "#f0f921"
             ]
            ],
            "type": "heatmapgl"
           }
          ],
          "histogram": [
           {
            "marker": {
             "pattern": {
              "fillmode": "overlay",
              "size": 10,
              "solidity": 0.2
             }
            },
            "type": "histogram"
           }
          ],
          "histogram2d": [
           {
            "colorbar": {
             "outlinewidth": 0,
             "ticks": ""
            },
            "colorscale": [
             [
              0,
              "#0d0887"
             ],
             [
              0.1111111111111111,
              "#46039f"
             ],
             [
              0.2222222222222222,
              "#7201a8"
             ],
             [
              0.3333333333333333,
              "#9c179e"
             ],
             [
              0.4444444444444444,
              "#bd3786"
             ],
             [
              0.5555555555555556,
              "#d8576b"
             ],
             [
              0.6666666666666666,
              "#ed7953"
             ],
             [
              0.7777777777777778,
              "#fb9f3a"
             ],
             [
              0.8888888888888888,
              "#fdca26"
             ],
             [
              1,
              "#f0f921"
             ]
            ],
            "type": "histogram2d"
           }
          ],
          "histogram2dcontour": [
           {
            "colorbar": {
             "outlinewidth": 0,
             "ticks": ""
            },
            "colorscale": [
             [
              0,
              "#0d0887"
             ],
             [
              0.1111111111111111,
              "#46039f"
             ],
             [
              0.2222222222222222,
              "#7201a8"
             ],
             [
              0.3333333333333333,
              "#9c179e"
             ],
             [
              0.4444444444444444,
              "#bd3786"
             ],
             [
              0.5555555555555556,
              "#d8576b"
             ],
             [
              0.6666666666666666,
              "#ed7953"
             ],
             [
              0.7777777777777778,
              "#fb9f3a"
             ],
             [
              0.8888888888888888,
              "#fdca26"
             ],
             [
              1,
              "#f0f921"
             ]
            ],
            "type": "histogram2dcontour"
           }
          ],
          "mesh3d": [
           {
            "colorbar": {
             "outlinewidth": 0,
             "ticks": ""
            },
            "type": "mesh3d"
           }
          ],
          "parcoords": [
           {
            "line": {
             "colorbar": {
              "outlinewidth": 0,
              "ticks": ""
             }
            },
            "type": "parcoords"
           }
          ],
          "pie": [
           {
            "automargin": true,
            "type": "pie"
           }
          ],
          "scatter": [
           {
            "fillpattern": {
             "fillmode": "overlay",
             "size": 10,
             "solidity": 0.2
            },
            "type": "scatter"
           }
          ],
          "scatter3d": [
           {
            "line": {
             "colorbar": {
              "outlinewidth": 0,
              "ticks": ""
             }
            },
            "marker": {
             "colorbar": {
              "outlinewidth": 0,
              "ticks": ""
             }
            },
            "type": "scatter3d"
           }
          ],
          "scattercarpet": [
           {
            "marker": {
             "colorbar": {
              "outlinewidth": 0,
              "ticks": ""
             }
            },
            "type": "scattercarpet"
           }
          ],
          "scattergeo": [
           {
            "marker": {
             "colorbar": {
              "outlinewidth": 0,
              "ticks": ""
             }
            },
            "type": "scattergeo"
           }
          ],
          "scattergl": [
           {
            "marker": {
             "colorbar": {
              "outlinewidth": 0,
              "ticks": ""
             }
            },
            "type": "scattergl"
           }
          ],
          "scattermapbox": [
           {
            "marker": {
             "colorbar": {
              "outlinewidth": 0,
              "ticks": ""
             }
            },
            "type": "scattermapbox"
           }
          ],
          "scatterpolar": [
           {
            "marker": {
             "colorbar": {
              "outlinewidth": 0,
              "ticks": ""
             }
            },
            "type": "scatterpolar"
           }
          ],
          "scatterpolargl": [
           {
            "marker": {
             "colorbar": {
              "outlinewidth": 0,
              "ticks": ""
             }
            },
            "type": "scatterpolargl"
           }
          ],
          "scatterternary": [
           {
            "marker": {
             "colorbar": {
              "outlinewidth": 0,
              "ticks": ""
             }
            },
            "type": "scatterternary"
           }
          ],
          "surface": [
           {
            "colorbar": {
             "outlinewidth": 0,
             "ticks": ""
            },
            "colorscale": [
             [
              0,
              "#0d0887"
             ],
             [
              0.1111111111111111,
              "#46039f"
             ],
             [
              0.2222222222222222,
              "#7201a8"
             ],
             [
              0.3333333333333333,
              "#9c179e"
             ],
             [
              0.4444444444444444,
              "#bd3786"
             ],
             [
              0.5555555555555556,
              "#d8576b"
             ],
             [
              0.6666666666666666,
              "#ed7953"
             ],
             [
              0.7777777777777778,
              "#fb9f3a"
             ],
             [
              0.8888888888888888,
              "#fdca26"
             ],
             [
              1,
              "#f0f921"
             ]
            ],
            "type": "surface"
           }
          ],
          "table": [
           {
            "cells": {
             "fill": {
              "color": "#EBF0F8"
             },
             "line": {
              "color": "white"
             }
            },
            "header": {
             "fill": {
              "color": "#C8D4E3"
             },
             "line": {
              "color": "white"
             }
            },
            "type": "table"
           }
          ]
         },
         "layout": {
          "annotationdefaults": {
           "arrowcolor": "#2a3f5f",
           "arrowhead": 0,
           "arrowwidth": 1
          },
          "autotypenumbers": "strict",
          "coloraxis": {
           "colorbar": {
            "outlinewidth": 0,
            "ticks": ""
           }
          },
          "colorscale": {
           "diverging": [
            [
             0,
             "#8e0152"
            ],
            [
             0.1,
             "#c51b7d"
            ],
            [
             0.2,
             "#de77ae"
            ],
            [
             0.3,
             "#f1b6da"
            ],
            [
             0.4,
             "#fde0ef"
            ],
            [
             0.5,
             "#f7f7f7"
            ],
            [
             0.6,
             "#e6f5d0"
            ],
            [
             0.7,
             "#b8e186"
            ],
            [
             0.8,
             "#7fbc41"
            ],
            [
             0.9,
             "#4d9221"
            ],
            [
             1,
             "#276419"
            ]
           ],
           "sequential": [
            [
             0,
             "#0d0887"
            ],
            [
             0.1111111111111111,
             "#46039f"
            ],
            [
             0.2222222222222222,
             "#7201a8"
            ],
            [
             0.3333333333333333,
             "#9c179e"
            ],
            [
             0.4444444444444444,
             "#bd3786"
            ],
            [
             0.5555555555555556,
             "#d8576b"
            ],
            [
             0.6666666666666666,
             "#ed7953"
            ],
            [
             0.7777777777777778,
             "#fb9f3a"
            ],
            [
             0.8888888888888888,
             "#fdca26"
            ],
            [
             1,
             "#f0f921"
            ]
           ],
           "sequentialminus": [
            [
             0,
             "#0d0887"
            ],
            [
             0.1111111111111111,
             "#46039f"
            ],
            [
             0.2222222222222222,
             "#7201a8"
            ],
            [
             0.3333333333333333,
             "#9c179e"
            ],
            [
             0.4444444444444444,
             "#bd3786"
            ],
            [
             0.5555555555555556,
             "#d8576b"
            ],
            [
             0.6666666666666666,
             "#ed7953"
            ],
            [
             0.7777777777777778,
             "#fb9f3a"
            ],
            [
             0.8888888888888888,
             "#fdca26"
            ],
            [
             1,
             "#f0f921"
            ]
           ]
          },
          "colorway": [
           "#636efa",
           "#EF553B",
           "#00cc96",
           "#ab63fa",
           "#FFA15A",
           "#19d3f3",
           "#FF6692",
           "#B6E880",
           "#FF97FF",
           "#FECB52"
          ],
          "font": {
           "color": "#2a3f5f"
          },
          "geo": {
           "bgcolor": "white",
           "lakecolor": "white",
           "landcolor": "#E5ECF6",
           "showlakes": true,
           "showland": true,
           "subunitcolor": "white"
          },
          "hoverlabel": {
           "align": "left"
          },
          "hovermode": "closest",
          "mapbox": {
           "style": "light"
          },
          "paper_bgcolor": "white",
          "plot_bgcolor": "#E5ECF6",
          "polar": {
           "angularaxis": {
            "gridcolor": "white",
            "linecolor": "white",
            "ticks": ""
           },
           "bgcolor": "#E5ECF6",
           "radialaxis": {
            "gridcolor": "white",
            "linecolor": "white",
            "ticks": ""
           }
          },
          "scene": {
           "xaxis": {
            "backgroundcolor": "#E5ECF6",
            "gridcolor": "white",
            "gridwidth": 2,
            "linecolor": "white",
            "showbackground": true,
            "ticks": "",
            "zerolinecolor": "white"
           },
           "yaxis": {
            "backgroundcolor": "#E5ECF6",
            "gridcolor": "white",
            "gridwidth": 2,
            "linecolor": "white",
            "showbackground": true,
            "ticks": "",
            "zerolinecolor": "white"
           },
           "zaxis": {
            "backgroundcolor": "#E5ECF6",
            "gridcolor": "white",
            "gridwidth": 2,
            "linecolor": "white",
            "showbackground": true,
            "ticks": "",
            "zerolinecolor": "white"
           }
          },
          "shapedefaults": {
           "line": {
            "color": "#2a3f5f"
           }
          },
          "ternary": {
           "aaxis": {
            "gridcolor": "white",
            "linecolor": "white",
            "ticks": ""
           },
           "baxis": {
            "gridcolor": "white",
            "linecolor": "white",
            "ticks": ""
           },
           "bgcolor": "#E5ECF6",
           "caxis": {
            "gridcolor": "white",
            "linecolor": "white",
            "ticks": ""
           }
          },
          "title": {
           "x": 0.05
          },
          "xaxis": {
           "automargin": true,
           "gridcolor": "white",
           "linecolor": "white",
           "ticks": "",
           "title": {
            "standoff": 15
           },
           "zerolinecolor": "white",
           "zerolinewidth": 2
          },
          "yaxis": {
           "automargin": true,
           "gridcolor": "white",
           "linecolor": "white",
           "ticks": "",
           "title": {
            "standoff": 15
           },
           "zerolinecolor": "white",
           "zerolinewidth": 2
          }
         }
        },
        "xaxis": {
         "anchor": "y",
         "domain": [
          0,
          1
         ],
         "title": {
          "text": "Children"
         }
        },
        "yaxis": {
         "anchor": "x",
         "domain": [
          0,
          1
         ],
         "title": {
          "text": "count"
         }
        }
       }
      }
     },
     "metadata": {},
     "output_type": "display_data"
    },
    {
     "data": {
      "application/vnd.plotly.v1+json": {
       "config": {
        "plotlyServerURL": "https://plot.ly"
       },
       "data": [
        {
         "alignmentgroup": "True",
         "bingroup": "x",
         "hovertemplate": "Divorce Status=%{x}<br>count=%{y}<extra></extra>",
         "legendgroup": "No",
         "marker": {
          "color": "#636efa",
          "pattern": {
           "shape": ""
          }
         },
         "name": "No",
         "offsetgroup": "No",
         "orientation": "v",
         "showlegend": true,
         "texttemplate": "%{value}",
         "type": "histogram",
         "x": [
          "No",
          "No",
          "No",
          "No",
          "No",
          "No",
          "No",
          "No",
          "No",
          "No",
          "No",
          "No",
          "No",
          "No",
          "No",
          "No",
          "No",
          "No",
          "No",
          "No",
          "No",
          "No",
          "No",
          "No",
          "No",
          "No",
          "No",
          "No",
          "No",
          "No",
          "No",
          "No",
          "No",
          "No",
          "No",
          "No",
          "No",
          "No",
          "No",
          "No",
          "No",
          "No",
          "No",
          "No",
          "No",
          "No",
          "No",
          "No",
          "No",
          "No",
          "No",
          "No",
          "No",
          "No",
          "No",
          "No",
          "No",
          "No",
          "No",
          "No",
          "No",
          "No",
          "No",
          "No",
          "No",
          "No",
          "No",
          "No",
          "No",
          "No",
          "No",
          "No",
          "No",
          "No",
          "No",
          "No",
          "No",
          "No",
          "No",
          "No",
          "No",
          "No",
          "No",
          "No",
          "No",
          "No",
          "No",
          "No",
          "No",
          "No",
          "No",
          "No",
          "No",
          "No",
          "No",
          "No",
          "No",
          "No",
          "No",
          "No",
          "No",
          "No",
          "No",
          "No",
          "No",
          "No",
          "No",
          "No",
          "No",
          "No",
          "No",
          "No",
          "No",
          "No",
          "No",
          "No",
          "No",
          "No",
          "No",
          "No",
          "No",
          "No",
          "No",
          "No",
          "No",
          "No",
          "No",
          "No",
          "No",
          "No",
          "No",
          "No",
          "No",
          "No",
          "No",
          "No",
          "No",
          "No",
          "No",
          "No",
          "No",
          "No",
          "No",
          "No",
          "No",
          "No",
          "No",
          "No",
          "No",
          "No",
          "No",
          "No",
          "No",
          "No",
          "No",
          "No",
          "No",
          "No",
          "No",
          "No",
          "No",
          "No",
          "No",
          "No",
          "No",
          "No",
          "No",
          "No",
          "No",
          "No",
          "No",
          "No",
          "No",
          "No",
          "No",
          "No",
          "No",
          "No",
          "No",
          "No",
          "No",
          "No",
          "No",
          "No",
          "No",
          "No",
          "No",
          "No",
          "No",
          "No",
          "No",
          "No",
          "No",
          "No",
          "No",
          "No",
          "No",
          "No",
          "No",
          "No",
          "No",
          "No",
          "No",
          "No",
          "No",
          "No",
          "No",
          "No",
          "No",
          "No",
          "No",
          "No",
          "No",
          "No",
          "No",
          "No",
          "No",
          "No",
          "No",
          "No",
          "No",
          "No",
          "No",
          "No",
          "No",
          "No",
          "No",
          "No",
          "No",
          "No",
          "No",
          "No",
          "No",
          "No",
          "No",
          "No",
          "No",
          "No",
          "No",
          "No",
          "No",
          "No",
          "No",
          "No",
          "No",
          "No",
          "No",
          "No",
          "No",
          "No",
          "No",
          "No",
          "No",
          "No",
          "No",
          "No",
          "No",
          "No",
          "No",
          "No",
          "No",
          "No",
          "No",
          "No",
          "No",
          "No",
          "No",
          "No",
          "No",
          "No",
          "No",
          "No",
          "No",
          "No",
          "No",
          "No",
          "No",
          "No",
          "No",
          "No",
          "No",
          "No",
          "No",
          "No",
          "No",
          "No",
          "No",
          "No",
          "No",
          "No",
          "No",
          "No",
          "No",
          "No",
          "No",
          "No",
          "No",
          "No",
          "No",
          "No",
          "No",
          "No",
          "No",
          "No",
          "No",
          "No",
          "No",
          "No",
          "No",
          "No",
          "No",
          "No",
          "No",
          "No",
          "No",
          "No",
          "No",
          "No",
          "No",
          "No",
          "No",
          "No",
          "No",
          "No",
          "No",
          "No",
          "No",
          "No",
          "No",
          "No",
          "No",
          "No",
          "No",
          "No",
          "No",
          "No",
          "No",
          "No",
          "No",
          "No",
          "No",
          "No",
          "No",
          "No",
          "No",
          "No",
          "No",
          "No",
          "No",
          "No",
          "No",
          "No",
          "No",
          "No",
          "No",
          "No",
          "No",
          "No",
          "No",
          "No",
          "No",
          "No",
          "No",
          "No",
          "No",
          "No",
          "No",
          "No",
          "No",
          "No",
          "No",
          "No",
          "No",
          "No",
          "No",
          "No",
          "No",
          "No",
          "No",
          "No",
          "No",
          "No",
          "No",
          "No",
          "No",
          "No",
          "No",
          "No",
          "No",
          "No",
          "No",
          "No",
          "No",
          "No",
          "No",
          "No",
          "No",
          "No",
          "No",
          "No",
          "No",
          "No",
          "No",
          "No",
          "No",
          "No",
          "No",
          "No",
          "No",
          "No",
          "No",
          "No",
          "No",
          "No",
          "No",
          "No",
          "No",
          "No",
          "No",
          "No",
          "No",
          "No",
          "No",
          "No",
          "No",
          "No",
          "No",
          "No",
          "No",
          "No",
          "No",
          "No",
          "No",
          "No",
          "No",
          "No",
          "No",
          "No",
          "No",
          "No",
          "No",
          "No",
          "No",
          "No",
          "No",
          "No",
          "No",
          "No",
          "No",
          "No",
          "No",
          "No",
          "No",
          "No",
          "No",
          "No",
          "No",
          "No",
          "No",
          "No",
          "No",
          "No",
          "No",
          "No",
          "No",
          "No",
          "No",
          "No",
          "No",
          "No",
          "No",
          "No",
          "No",
          "No",
          "No",
          "No",
          "No",
          "No",
          "No",
          "No",
          "No",
          "No",
          "No",
          "No",
          "No",
          "No",
          "No",
          "No",
          "No",
          "No",
          "No",
          "No",
          "No",
          "No",
          "No",
          "No",
          "No",
          "No",
          "No",
          "No",
          "No",
          "No",
          "No",
          "No",
          "No",
          "No",
          "No",
          "No",
          "No",
          "No",
          "No",
          "No",
          "No",
          "No",
          "No",
          "No",
          "No",
          "No",
          "No",
          "No",
          "No",
          "No",
          "No",
          "No",
          "No",
          "No",
          "No",
          "No",
          "No",
          "No",
          "No",
          "No",
          "No",
          "No",
          "No",
          "No",
          "No",
          "No",
          "No",
          "No",
          "No",
          "No",
          "No",
          "No",
          "No",
          "No",
          "No",
          "No",
          "No",
          "No",
          "No",
          "No",
          "No",
          "No",
          "No",
          "No",
          "No",
          "No",
          "No",
          "No",
          "No",
          "No",
          "No",
          "No",
          "No",
          "No",
          "No",
          "No",
          "No",
          "No",
          "No",
          "No",
          "No",
          "No",
          "No",
          "No",
          "No",
          "No",
          "No",
          "No",
          "No",
          "No",
          "No",
          "No",
          "No",
          "No",
          "No",
          "No",
          "No",
          "No",
          "No",
          "No",
          "No",
          "No",
          "No",
          "No",
          "No",
          "No",
          "No",
          "No",
          "No",
          "No",
          "No",
          "No",
          "No",
          "No",
          "No",
          "No",
          "No",
          "No",
          "No",
          "No",
          "No",
          "No",
          "No",
          "No",
          "No",
          "No",
          "No",
          "No",
          "No",
          "No",
          "No",
          "No",
          "No",
          "No",
          "No",
          "No",
          "No",
          "No",
          "No",
          "No",
          "No",
          "No",
          "No",
          "No",
          "No",
          "No",
          "No",
          "No",
          "No",
          "No",
          "No",
          "No",
          "No",
          "No",
          "No",
          "No",
          "No",
          "No",
          "No",
          "No",
          "No",
          "No",
          "No",
          "No",
          "No",
          "No",
          "No",
          "No",
          "No",
          "No",
          "No",
          "No",
          "No",
          "No",
          "No",
          "No",
          "No",
          "No",
          "No",
          "No",
          "No",
          "No",
          "No",
          "No",
          "No",
          "No",
          "No",
          "No",
          "No",
          "No",
          "No",
          "No",
          "No",
          "No",
          "No",
          "No",
          "No",
          "No",
          "No",
          "No",
          "No",
          "No",
          "No",
          "No",
          "No",
          "No",
          "No",
          "No",
          "No",
          "No",
          "No",
          "No",
          "No",
          "No",
          "No",
          "No",
          "No",
          "No",
          "No",
          "No",
          "No",
          "No",
          "No",
          "No",
          "No",
          "No",
          "No",
          "No",
          "No",
          "No",
          "No",
          "No",
          "No",
          "No",
          "No",
          "No",
          "No",
          "No",
          "No",
          "No",
          "No",
          "No",
          "No",
          "No",
          "No",
          "No",
          "No",
          "No",
          "No",
          "No",
          "No",
          "No",
          "No",
          "No",
          "No",
          "No",
          "No",
          "No",
          "No",
          "No",
          "No",
          "No",
          "No",
          "No",
          "No",
          "No",
          "No",
          "No",
          "No",
          "No",
          "No",
          "No",
          "No",
          "No",
          "No",
          "No",
          "No",
          "No",
          "No",
          "No",
          "No",
          "No",
          "No",
          "No",
          "No",
          "No",
          "No",
          "No",
          "No",
          "No",
          "No",
          "No",
          "No",
          "No",
          "No",
          "No",
          "No",
          "No",
          "No",
          "No",
          "No",
          "No",
          "No",
          "No",
          "No",
          "No",
          "No",
          "No",
          "No",
          "No",
          "No",
          "No",
          "No",
          "No",
          "No",
          "No",
          "No",
          "No",
          "No",
          "No",
          "No",
          "No",
          "No",
          "No",
          "No",
          "No",
          "No",
          "No",
          "No",
          "No",
          "No",
          "No",
          "No",
          "No"
         ],
         "xaxis": "x",
         "yaxis": "y"
        },
        {
         "alignmentgroup": "True",
         "bingroup": "x",
         "hovertemplate": "Divorce Status=%{x}<br>count=%{y}<extra></extra>",
         "legendgroup": "Yes",
         "marker": {
          "color": "#EF553B",
          "pattern": {
           "shape": ""
          }
         },
         "name": "Yes",
         "offsetgroup": "Yes",
         "orientation": "v",
         "showlegend": true,
         "texttemplate": "%{value}",
         "type": "histogram",
         "x": [
          "Yes",
          "Yes",
          "Yes",
          "Yes",
          "Yes",
          "Yes",
          "Yes",
          "Yes",
          "Yes",
          "Yes",
          "Yes",
          "Yes",
          "Yes",
          "Yes",
          "Yes",
          "Yes",
          "Yes",
          "Yes",
          "Yes",
          "Yes",
          "Yes",
          "Yes",
          "Yes",
          "Yes",
          "Yes",
          "Yes",
          "Yes",
          "Yes",
          "Yes",
          "Yes",
          "Yes",
          "Yes",
          "Yes",
          "Yes",
          "Yes",
          "Yes",
          "Yes",
          "Yes",
          "Yes",
          "Yes",
          "Yes",
          "Yes",
          "Yes",
          "Yes",
          "Yes",
          "Yes",
          "Yes",
          "Yes",
          "Yes",
          "Yes",
          "Yes",
          "Yes",
          "Yes",
          "Yes",
          "Yes",
          "Yes",
          "Yes",
          "Yes",
          "Yes",
          "Yes",
          "Yes",
          "Yes",
          "Yes",
          "Yes",
          "Yes",
          "Yes",
          "Yes",
          "Yes",
          "Yes",
          "Yes",
          "Yes",
          "Yes",
          "Yes",
          "Yes",
          "Yes",
          "Yes",
          "Yes",
          "Yes",
          "Yes",
          "Yes",
          "Yes",
          "Yes",
          "Yes",
          "Yes",
          "Yes",
          "Yes",
          "Yes",
          "Yes",
          "Yes",
          "Yes",
          "Yes",
          "Yes",
          "Yes",
          "Yes",
          "Yes",
          "Yes",
          "Yes",
          "Yes",
          "Yes",
          "Yes",
          "Yes",
          "Yes",
          "Yes",
          "Yes",
          "Yes",
          "Yes",
          "Yes",
          "Yes",
          "Yes",
          "Yes",
          "Yes",
          "Yes",
          "Yes",
          "Yes",
          "Yes",
          "Yes",
          "Yes",
          "Yes",
          "Yes",
          "Yes",
          "Yes",
          "Yes",
          "Yes",
          "Yes",
          "Yes",
          "Yes",
          "Yes",
          "Yes",
          "Yes",
          "Yes",
          "Yes",
          "Yes",
          "Yes",
          "Yes",
          "Yes",
          "Yes",
          "Yes",
          "Yes",
          "Yes",
          "Yes",
          "Yes",
          "Yes",
          "Yes",
          "Yes",
          "Yes",
          "Yes",
          "Yes",
          "Yes",
          "Yes",
          "Yes",
          "Yes",
          "Yes",
          "Yes",
          "Yes",
          "Yes",
          "Yes",
          "Yes",
          "Yes",
          "Yes",
          "Yes",
          "Yes",
          "Yes",
          "Yes",
          "Yes",
          "Yes",
          "Yes",
          "Yes",
          "Yes",
          "Yes",
          "Yes",
          "Yes",
          "Yes",
          "Yes",
          "Yes",
          "Yes",
          "Yes",
          "Yes",
          "Yes",
          "Yes",
          "Yes",
          "Yes",
          "Yes",
          "Yes",
          "Yes",
          "Yes",
          "Yes",
          "Yes",
          "Yes",
          "Yes",
          "Yes",
          "Yes",
          "Yes",
          "Yes",
          "Yes",
          "Yes",
          "Yes",
          "Yes",
          "Yes",
          "Yes",
          "Yes",
          "Yes",
          "Yes",
          "Yes",
          "Yes",
          "Yes",
          "Yes",
          "Yes",
          "Yes",
          "Yes",
          "Yes",
          "Yes",
          "Yes",
          "Yes",
          "Yes",
          "Yes",
          "Yes",
          "Yes",
          "Yes",
          "Yes",
          "Yes",
          "Yes",
          "Yes",
          "Yes",
          "Yes",
          "Yes",
          "Yes",
          "Yes",
          "Yes",
          "Yes",
          "Yes",
          "Yes",
          "Yes",
          "Yes",
          "Yes",
          "Yes",
          "Yes",
          "Yes",
          "Yes",
          "Yes",
          "Yes",
          "Yes",
          "Yes",
          "Yes",
          "Yes",
          "Yes",
          "Yes",
          "Yes",
          "Yes",
          "Yes",
          "Yes",
          "Yes",
          "Yes",
          "Yes",
          "Yes",
          "Yes",
          "Yes",
          "Yes",
          "Yes",
          "Yes",
          "Yes",
          "Yes",
          "Yes",
          "Yes",
          "Yes",
          "Yes",
          "Yes",
          "Yes",
          "Yes",
          "Yes",
          "Yes",
          "Yes",
          "Yes",
          "Yes",
          "Yes",
          "Yes",
          "Yes",
          "Yes",
          "Yes",
          "Yes",
          "Yes",
          "Yes",
          "Yes",
          "Yes",
          "Yes",
          "Yes",
          "Yes",
          "Yes",
          "Yes",
          "Yes",
          "Yes",
          "Yes",
          "Yes",
          "Yes",
          "Yes",
          "Yes",
          "Yes",
          "Yes",
          "Yes",
          "Yes",
          "Yes",
          "Yes",
          "Yes",
          "Yes",
          "Yes",
          "Yes",
          "Yes",
          "Yes",
          "Yes",
          "Yes",
          "Yes",
          "Yes",
          "Yes",
          "Yes",
          "Yes",
          "Yes",
          "Yes",
          "Yes",
          "Yes",
          "Yes",
          "Yes",
          "Yes",
          "Yes",
          "Yes",
          "Yes",
          "Yes",
          "Yes",
          "Yes",
          "Yes",
          "Yes",
          "Yes",
          "Yes",
          "Yes",
          "Yes",
          "Yes",
          "Yes",
          "Yes",
          "Yes",
          "Yes",
          "Yes",
          "Yes",
          "Yes",
          "Yes",
          "Yes",
          "Yes",
          "Yes",
          "Yes",
          "Yes",
          "Yes",
          "Yes",
          "Yes",
          "Yes",
          "Yes",
          "Yes",
          "Yes",
          "Yes",
          "Yes",
          "Yes",
          "Yes",
          "Yes",
          "Yes",
          "Yes",
          "Yes",
          "Yes",
          "Yes",
          "Yes",
          "Yes",
          "Yes",
          "Yes",
          "Yes",
          "Yes",
          "Yes",
          "Yes",
          "Yes",
          "Yes"
         ],
         "xaxis": "x",
         "yaxis": "y"
        }
       ],
       "layout": {
        "barmode": "relative",
        "legend": {
         "title": {
          "text": "Divorce Status"
         },
         "tracegroupgap": 0
        },
        "margin": {
         "t": 60
        },
        "template": {
         "data": {
          "bar": [
           {
            "error_x": {
             "color": "#2a3f5f"
            },
            "error_y": {
             "color": "#2a3f5f"
            },
            "marker": {
             "line": {
              "color": "#E5ECF6",
              "width": 0.5
             },
             "pattern": {
              "fillmode": "overlay",
              "size": 10,
              "solidity": 0.2
             }
            },
            "type": "bar"
           }
          ],
          "barpolar": [
           {
            "marker": {
             "line": {
              "color": "#E5ECF6",
              "width": 0.5
             },
             "pattern": {
              "fillmode": "overlay",
              "size": 10,
              "solidity": 0.2
             }
            },
            "type": "barpolar"
           }
          ],
          "carpet": [
           {
            "aaxis": {
             "endlinecolor": "#2a3f5f",
             "gridcolor": "white",
             "linecolor": "white",
             "minorgridcolor": "white",
             "startlinecolor": "#2a3f5f"
            },
            "baxis": {
             "endlinecolor": "#2a3f5f",
             "gridcolor": "white",
             "linecolor": "white",
             "minorgridcolor": "white",
             "startlinecolor": "#2a3f5f"
            },
            "type": "carpet"
           }
          ],
          "choropleth": [
           {
            "colorbar": {
             "outlinewidth": 0,
             "ticks": ""
            },
            "type": "choropleth"
           }
          ],
          "contour": [
           {
            "colorbar": {
             "outlinewidth": 0,
             "ticks": ""
            },
            "colorscale": [
             [
              0,
              "#0d0887"
             ],
             [
              0.1111111111111111,
              "#46039f"
             ],
             [
              0.2222222222222222,
              "#7201a8"
             ],
             [
              0.3333333333333333,
              "#9c179e"
             ],
             [
              0.4444444444444444,
              "#bd3786"
             ],
             [
              0.5555555555555556,
              "#d8576b"
             ],
             [
              0.6666666666666666,
              "#ed7953"
             ],
             [
              0.7777777777777778,
              "#fb9f3a"
             ],
             [
              0.8888888888888888,
              "#fdca26"
             ],
             [
              1,
              "#f0f921"
             ]
            ],
            "type": "contour"
           }
          ],
          "contourcarpet": [
           {
            "colorbar": {
             "outlinewidth": 0,
             "ticks": ""
            },
            "type": "contourcarpet"
           }
          ],
          "heatmap": [
           {
            "colorbar": {
             "outlinewidth": 0,
             "ticks": ""
            },
            "colorscale": [
             [
              0,
              "#0d0887"
             ],
             [
              0.1111111111111111,
              "#46039f"
             ],
             [
              0.2222222222222222,
              "#7201a8"
             ],
             [
              0.3333333333333333,
              "#9c179e"
             ],
             [
              0.4444444444444444,
              "#bd3786"
             ],
             [
              0.5555555555555556,
              "#d8576b"
             ],
             [
              0.6666666666666666,
              "#ed7953"
             ],
             [
              0.7777777777777778,
              "#fb9f3a"
             ],
             [
              0.8888888888888888,
              "#fdca26"
             ],
             [
              1,
              "#f0f921"
             ]
            ],
            "type": "heatmap"
           }
          ],
          "heatmapgl": [
           {
            "colorbar": {
             "outlinewidth": 0,
             "ticks": ""
            },
            "colorscale": [
             [
              0,
              "#0d0887"
             ],
             [
              0.1111111111111111,
              "#46039f"
             ],
             [
              0.2222222222222222,
              "#7201a8"
             ],
             [
              0.3333333333333333,
              "#9c179e"
             ],
             [
              0.4444444444444444,
              "#bd3786"
             ],
             [
              0.5555555555555556,
              "#d8576b"
             ],
             [
              0.6666666666666666,
              "#ed7953"
             ],
             [
              0.7777777777777778,
              "#fb9f3a"
             ],
             [
              0.8888888888888888,
              "#fdca26"
             ],
             [
              1,
              "#f0f921"
             ]
            ],
            "type": "heatmapgl"
           }
          ],
          "histogram": [
           {
            "marker": {
             "pattern": {
              "fillmode": "overlay",
              "size": 10,
              "solidity": 0.2
             }
            },
            "type": "histogram"
           }
          ],
          "histogram2d": [
           {
            "colorbar": {
             "outlinewidth": 0,
             "ticks": ""
            },
            "colorscale": [
             [
              0,
              "#0d0887"
             ],
             [
              0.1111111111111111,
              "#46039f"
             ],
             [
              0.2222222222222222,
              "#7201a8"
             ],
             [
              0.3333333333333333,
              "#9c179e"
             ],
             [
              0.4444444444444444,
              "#bd3786"
             ],
             [
              0.5555555555555556,
              "#d8576b"
             ],
             [
              0.6666666666666666,
              "#ed7953"
             ],
             [
              0.7777777777777778,
              "#fb9f3a"
             ],
             [
              0.8888888888888888,
              "#fdca26"
             ],
             [
              1,
              "#f0f921"
             ]
            ],
            "type": "histogram2d"
           }
          ],
          "histogram2dcontour": [
           {
            "colorbar": {
             "outlinewidth": 0,
             "ticks": ""
            },
            "colorscale": [
             [
              0,
              "#0d0887"
             ],
             [
              0.1111111111111111,
              "#46039f"
             ],
             [
              0.2222222222222222,
              "#7201a8"
             ],
             [
              0.3333333333333333,
              "#9c179e"
             ],
             [
              0.4444444444444444,
              "#bd3786"
             ],
             [
              0.5555555555555556,
              "#d8576b"
             ],
             [
              0.6666666666666666,
              "#ed7953"
             ],
             [
              0.7777777777777778,
              "#fb9f3a"
             ],
             [
              0.8888888888888888,
              "#fdca26"
             ],
             [
              1,
              "#f0f921"
             ]
            ],
            "type": "histogram2dcontour"
           }
          ],
          "mesh3d": [
           {
            "colorbar": {
             "outlinewidth": 0,
             "ticks": ""
            },
            "type": "mesh3d"
           }
          ],
          "parcoords": [
           {
            "line": {
             "colorbar": {
              "outlinewidth": 0,
              "ticks": ""
             }
            },
            "type": "parcoords"
           }
          ],
          "pie": [
           {
            "automargin": true,
            "type": "pie"
           }
          ],
          "scatter": [
           {
            "fillpattern": {
             "fillmode": "overlay",
             "size": 10,
             "solidity": 0.2
            },
            "type": "scatter"
           }
          ],
          "scatter3d": [
           {
            "line": {
             "colorbar": {
              "outlinewidth": 0,
              "ticks": ""
             }
            },
            "marker": {
             "colorbar": {
              "outlinewidth": 0,
              "ticks": ""
             }
            },
            "type": "scatter3d"
           }
          ],
          "scattercarpet": [
           {
            "marker": {
             "colorbar": {
              "outlinewidth": 0,
              "ticks": ""
             }
            },
            "type": "scattercarpet"
           }
          ],
          "scattergeo": [
           {
            "marker": {
             "colorbar": {
              "outlinewidth": 0,
              "ticks": ""
             }
            },
            "type": "scattergeo"
           }
          ],
          "scattergl": [
           {
            "marker": {
             "colorbar": {
              "outlinewidth": 0,
              "ticks": ""
             }
            },
            "type": "scattergl"
           }
          ],
          "scattermapbox": [
           {
            "marker": {
             "colorbar": {
              "outlinewidth": 0,
              "ticks": ""
             }
            },
            "type": "scattermapbox"
           }
          ],
          "scatterpolar": [
           {
            "marker": {
             "colorbar": {
              "outlinewidth": 0,
              "ticks": ""
             }
            },
            "type": "scatterpolar"
           }
          ],
          "scatterpolargl": [
           {
            "marker": {
             "colorbar": {
              "outlinewidth": 0,
              "ticks": ""
             }
            },
            "type": "scatterpolargl"
           }
          ],
          "scatterternary": [
           {
            "marker": {
             "colorbar": {
              "outlinewidth": 0,
              "ticks": ""
             }
            },
            "type": "scatterternary"
           }
          ],
          "surface": [
           {
            "colorbar": {
             "outlinewidth": 0,
             "ticks": ""
            },
            "colorscale": [
             [
              0,
              "#0d0887"
             ],
             [
              0.1111111111111111,
              "#46039f"
             ],
             [
              0.2222222222222222,
              "#7201a8"
             ],
             [
              0.3333333333333333,
              "#9c179e"
             ],
             [
              0.4444444444444444,
              "#bd3786"
             ],
             [
              0.5555555555555556,
              "#d8576b"
             ],
             [
              0.6666666666666666,
              "#ed7953"
             ],
             [
              0.7777777777777778,
              "#fb9f3a"
             ],
             [
              0.8888888888888888,
              "#fdca26"
             ],
             [
              1,
              "#f0f921"
             ]
            ],
            "type": "surface"
           }
          ],
          "table": [
           {
            "cells": {
             "fill": {
              "color": "#EBF0F8"
             },
             "line": {
              "color": "white"
             }
            },
            "header": {
             "fill": {
              "color": "#C8D4E3"
             },
             "line": {
              "color": "white"
             }
            },
            "type": "table"
           }
          ]
         },
         "layout": {
          "annotationdefaults": {
           "arrowcolor": "#2a3f5f",
           "arrowhead": 0,
           "arrowwidth": 1
          },
          "autotypenumbers": "strict",
          "coloraxis": {
           "colorbar": {
            "outlinewidth": 0,
            "ticks": ""
           }
          },
          "colorscale": {
           "diverging": [
            [
             0,
             "#8e0152"
            ],
            [
             0.1,
             "#c51b7d"
            ],
            [
             0.2,
             "#de77ae"
            ],
            [
             0.3,
             "#f1b6da"
            ],
            [
             0.4,
             "#fde0ef"
            ],
            [
             0.5,
             "#f7f7f7"
            ],
            [
             0.6,
             "#e6f5d0"
            ],
            [
             0.7,
             "#b8e186"
            ],
            [
             0.8,
             "#7fbc41"
            ],
            [
             0.9,
             "#4d9221"
            ],
            [
             1,
             "#276419"
            ]
           ],
           "sequential": [
            [
             0,
             "#0d0887"
            ],
            [
             0.1111111111111111,
             "#46039f"
            ],
            [
             0.2222222222222222,
             "#7201a8"
            ],
            [
             0.3333333333333333,
             "#9c179e"
            ],
            [
             0.4444444444444444,
             "#bd3786"
            ],
            [
             0.5555555555555556,
             "#d8576b"
            ],
            [
             0.6666666666666666,
             "#ed7953"
            ],
            [
             0.7777777777777778,
             "#fb9f3a"
            ],
            [
             0.8888888888888888,
             "#fdca26"
            ],
            [
             1,
             "#f0f921"
            ]
           ],
           "sequentialminus": [
            [
             0,
             "#0d0887"
            ],
            [
             0.1111111111111111,
             "#46039f"
            ],
            [
             0.2222222222222222,
             "#7201a8"
            ],
            [
             0.3333333333333333,
             "#9c179e"
            ],
            [
             0.4444444444444444,
             "#bd3786"
            ],
            [
             0.5555555555555556,
             "#d8576b"
            ],
            [
             0.6666666666666666,
             "#ed7953"
            ],
            [
             0.7777777777777778,
             "#fb9f3a"
            ],
            [
             0.8888888888888888,
             "#fdca26"
            ],
            [
             1,
             "#f0f921"
            ]
           ]
          },
          "colorway": [
           "#636efa",
           "#EF553B",
           "#00cc96",
           "#ab63fa",
           "#FFA15A",
           "#19d3f3",
           "#FF6692",
           "#B6E880",
           "#FF97FF",
           "#FECB52"
          ],
          "font": {
           "color": "#2a3f5f"
          },
          "geo": {
           "bgcolor": "white",
           "lakecolor": "white",
           "landcolor": "#E5ECF6",
           "showlakes": true,
           "showland": true,
           "subunitcolor": "white"
          },
          "hoverlabel": {
           "align": "left"
          },
          "hovermode": "closest",
          "mapbox": {
           "style": "light"
          },
          "paper_bgcolor": "white",
          "plot_bgcolor": "#E5ECF6",
          "polar": {
           "angularaxis": {
            "gridcolor": "white",
            "linecolor": "white",
            "ticks": ""
           },
           "bgcolor": "#E5ECF6",
           "radialaxis": {
            "gridcolor": "white",
            "linecolor": "white",
            "ticks": ""
           }
          },
          "scene": {
           "xaxis": {
            "backgroundcolor": "#E5ECF6",
            "gridcolor": "white",
            "gridwidth": 2,
            "linecolor": "white",
            "showbackground": true,
            "ticks": "",
            "zerolinecolor": "white"
           },
           "yaxis": {
            "backgroundcolor": "#E5ECF6",
            "gridcolor": "white",
            "gridwidth": 2,
            "linecolor": "white",
            "showbackground": true,
            "ticks": "",
            "zerolinecolor": "white"
           },
           "zaxis": {
            "backgroundcolor": "#E5ECF6",
            "gridcolor": "white",
            "gridwidth": 2,
            "linecolor": "white",
            "showbackground": true,
            "ticks": "",
            "zerolinecolor": "white"
           }
          },
          "shapedefaults": {
           "line": {
            "color": "#2a3f5f"
           }
          },
          "ternary": {
           "aaxis": {
            "gridcolor": "white",
            "linecolor": "white",
            "ticks": ""
           },
           "baxis": {
            "gridcolor": "white",
            "linecolor": "white",
            "ticks": ""
           },
           "bgcolor": "#E5ECF6",
           "caxis": {
            "gridcolor": "white",
            "linecolor": "white",
            "ticks": ""
           }
          },
          "title": {
           "x": 0.05
          },
          "xaxis": {
           "automargin": true,
           "gridcolor": "white",
           "linecolor": "white",
           "ticks": "",
           "title": {
            "standoff": 15
           },
           "zerolinecolor": "white",
           "zerolinewidth": 2
          },
          "yaxis": {
           "automargin": true,
           "gridcolor": "white",
           "linecolor": "white",
           "ticks": "",
           "title": {
            "standoff": 15
           },
           "zerolinecolor": "white",
           "zerolinewidth": 2
          }
         }
        },
        "xaxis": {
         "anchor": "y",
         "categoryarray": [
          "No",
          "Yes"
         ],
         "categoryorder": "array",
         "domain": [
          0,
          1
         ],
         "title": {
          "text": "Divorce Status"
         }
        },
        "yaxis": {
         "anchor": "x",
         "domain": [
          0,
          1
         ],
         "title": {
          "text": "count"
         }
        }
       }
      }
     },
     "metadata": {},
     "output_type": "display_data"
    }
   ],
   "source": [
    "# Agora faremos uma análise mais profunda, por meio de gráficos\n",
    "# Comparar as outras colunas com a coluna de Divorce Status\n",
    "\n",
    "import plotly.express as px\n",
    "\n",
    "for coluna in tabela.columns:\n",
    "    grafico = px.histogram(tabela, x = coluna, color = \"Divorce Status\", text_auto = True)\n",
    "    \n",
    "    grafico.show()"
   ]
  }
 ],
 "metadata": {
  "kernelspec": {
   "display_name": "Python 3",
   "language": "python",
   "name": "python3"
  },
  "language_info": {
   "codemirror_mode": {
    "name": "ipython",
    "version": 3
   },
   "file_extension": ".py",
   "mimetype": "text/x-python",
   "name": "python",
   "nbconvert_exporter": "python",
   "pygments_lexer": "ipython3",
   "version": "3.12.6"
  }
 },
 "nbformat": 4,
 "nbformat_minor": 2
}
